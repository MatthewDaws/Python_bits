{
 "metadata": {
  "name": "",
  "signature": "sha256:4ebe95c02df0cc34b02f529be4575b87f0dc9493dac3b982757185cb40d5150a"
 },
 "nbformat": 3,
 "nbformat_minor": 0,
 "worksheets": [
  {
   "cells": [
    {
     "cell_type": "markdown",
     "metadata": {},
     "source": [
      "Let's try to use numpy to implement AdaBoost with Decision Stumps."
     ]
    },
    {
     "cell_type": "code",
     "collapsed": false,
     "input": [
      "import numpy as np"
     ],
     "language": "python",
     "metadata": {},
     "outputs": [],
     "prompt_number": 1
    },
    {
     "cell_type": "code",
     "collapsed": false,
     "input": [
      "import csv\n",
      "def load_data(filename):\n",
      "    with open(filename) as f:\n",
      "        return np.array([ [ int(x) for x in row] for row in csv.reader(f) ])\n",
      "\n",
      "train_data = load_data(\"adult_data_processed.csv\")\n",
      "train_data"
     ],
     "language": "python",
     "metadata": {},
     "outputs": [
      {
       "metadata": {},
       "output_type": "pyout",
       "prompt_number": 2,
       "text": [
        "array([[39,  0,  0, ...,  0,  0, -1],\n",
        "       [50,  0,  0, ...,  0,  0, -1],\n",
        "       [38,  0,  0, ...,  0,  0, -1],\n",
        "       ..., \n",
        "       [58,  0,  0, ...,  0,  0, -1],\n",
        "       [22,  0,  0, ...,  0,  0, -1],\n",
        "       [52,  0,  0, ...,  0,  0,  1]])"
       ]
      }
     ],
     "prompt_number": 2
    },
    {
     "cell_type": "heading",
     "level": 1,
     "metadata": {},
     "source": [
      "Decision Stumps"
     ]
    },
    {
     "cell_type": "code",
     "collapsed": false,
     "input": [
      "class DecisionStump:\n",
      "    def __init__(self, data, realclasses):\n",
      "        \"\"\"data is a list of values, and realclasses is a list of +/-1 indicating which class example i comes from.\n",
      "        Initialises self.x0 so that the classifier given by i -> -1 iff x[i] <= self.x0 obtains the highest\n",
      "        rate of correct classification.  self.correct is set to count of correctly classified data.\"\"\"\n",
      "        def number_correct(split):\n",
      "            x = np.where(data <= split, -1, 1)\n",
      "            return np.sum(x * realclasses + 1)\n",
      "        \n",
      "        def yield_add_value(front, arr):\n",
      "            yield front\n",
      "            yield from arr\n",
      "    \n",
      "        choices = np.unique(data)\n",
      "        self.x0 = max(yield_add_value(choices[0]-1, choices),\n",
      "                      key = lambda choice : number_correct(choice) )\n",
      "        self.correct = int(number_correct(self.x0)) // 2\n",
      "\n",
      "    def classify(self, entry):\n",
      "        return -1 if entry <= self.x0 else 1\n",
      "    \n",
      "    def classify_column(self, column):\n",
      "        \"\"\"Classify, but for a numpy column.\"\"\"\n",
      "        return np.where( column <= self.x0, -1, 1 )"
     ],
     "language": "python",
     "metadata": {},
     "outputs": [],
     "prompt_number": 3
    },
    {
     "cell_type": "code",
     "collapsed": false,
     "input": [
      "d = DecisionStump([1,2,3,4], [1,-1,-1,-1])\n",
      "d.x0, d.correct"
     ],
     "language": "python",
     "metadata": {},
     "outputs": [
      {
       "metadata": {},
       "output_type": "pyout",
       "prompt_number": 4,
       "text": [
        "(4, 3)"
       ]
      }
     ],
     "prompt_number": 4
    },
    {
     "cell_type": "heading",
     "level": 1,
     "metadata": {},
     "source": [
      "Sampling from a weighted distribution"
     ]
    },
    {
     "cell_type": "code",
     "collapsed": false,
     "input": [
      "class WeightedReSampler:\n",
      "    def __init__(self, weights):\n",
      "        \"\"\"weights should be a list of non-negative but unnormalised density.\"\"\"\n",
      "        w = list(enumerate(weights)) # Slight hack, but only use once\n",
      "        w.sort(key = lambda pair : pair[1])\n",
      "        self.indices = np.array([ pair[0] for pair in w ])\n",
      "        self.weights = np.array([ pair[1] for pair in w ])\n",
      "        self.weights = self.weights.cumsum()\n",
      "\n",
      "    def sample(self):\n",
      "        \"\"\"Returns an index, in proportion to `weights`\"\"\"\n",
      "        p = np.random.random() * self.weights[-1]\n",
      "        index = np.sum( self.weights <= p )\n",
      "        return self.indices[index]"
     ],
     "language": "python",
     "metadata": {},
     "outputs": [],
     "prompt_number": 5
    },
    {
     "cell_type": "code",
     "collapsed": false,
     "input": [
      "probs = [0.1, 0.2, 0.3, 0.05, 0.25, 1]\n",
      "w = WeightedReSampler(probs)\n",
      "import collections\n",
      "c = collections.Counter(w.sample() for _ in range(100000))\n",
      "for x in range(len(probs)):\n",
      "    print(x, c[x] / 100000, probs[x] / sum(probs))"
     ],
     "language": "python",
     "metadata": {},
     "outputs": [
      {
       "output_type": "stream",
       "stream": "stdout",
       "text": [
        "0 0.05192 0.05263157894736842\n",
        "1 0.10455 0.10526315789473684\n",
        "2 0.15687 0.15789473684210525\n",
        "3 0.02649 0.02631578947368421\n",
        "4 0.13304 0.13157894736842105\n",
        "5 0.52713 0.5263157894736842\n"
       ]
      }
     ],
     "prompt_number": 6
    },
    {
     "cell_type": "heading",
     "level": 1,
     "metadata": {},
     "source": [
      "AdaBoost Algorithm"
     ]
    },
    {
     "cell_type": "code",
     "collapsed": false,
     "input": [
      "class AdaBoost:\n",
      "    def __init__(self, weaklearner, data, classes):\n",
      "        \"\"\"weaklearner should be a function `WeakLearner(data, classes, weights)` which returns an object\n",
      "        representing a learner and which has a method `classify_column` compatible with the data.\n",
      "        `data` should be a list of data, and `classes` should be a list of the class each row is in.\"\"\"\n",
      "        self.data = data\n",
      "        self.classes = classes\n",
      "        self.weaklearner = weaklearner\n",
      "        self.weights = np.array([1.0] * len(data))\n",
      "        self.weightsum = []\n",
      "        \n",
      "    def add(self, alpha, h):\n",
      "        self.weightsum.append( (alpha, h) )\n",
      "        \n",
      "    def classify(self, row):\n",
      "        x = sum( alpha * h.classify(row) for alpha, h in self.weightsum )\n",
      "        return -1 if x <=0 else 1\n",
      "    \n",
      "    def classify_column(self, data):\n",
      "        classes = sum(alpha * h.classify_column(data) for alpha, h in self.weightsum)\n",
      "        return np.where(classes <= 0, -1, 1)\n",
      "    \n",
      "    def fraction_correct(self):\n",
      "        return sum( cl == self.classify(row) for cl, row in zip(self.classes, self.data) ) / len(self.data)\n",
      "    \n",
      "    def step(self):\n",
      "        ht = self.weaklearner(self.data, self.classes, self.weights)\n",
      "        et = np.sum( self.weights[ ht.classify_column(self.data) != self.classes ] )\n",
      "        et /= sum(self.weights)\n",
      "        alphat = np.log( (1-et) / et ) / 2\n",
      "        self.add(alphat, ht)\n",
      "        self.weights = self.weights * np.exp( -self.classes * ht.classify_column(self.data) * alphat )\n",
      "        return et"
     ],
     "language": "python",
     "metadata": {},
     "outputs": [],
     "prompt_number": 7
    },
    {
     "cell_type": "heading",
     "level": 1,
     "metadata": {},
     "source": [
      "Sampling version"
     ]
    },
    {
     "cell_type": "code",
     "collapsed": false,
     "input": [
      "import itertools\n",
      "\n",
      "class DecisionStumpFromData:\n",
      "    def __init__(self, data):\n",
      "        \"\"\"data is a list of rows, each row being a list of features ending with the class +/-1.\"\"\"\n",
      "        \"\"\"Sets self.x0, self.column, self.negated=True/False.\"\"\"\n",
      "        num_columns = len(data[0]) - 1\n",
      "        choices = itertools.product(range(num_columns), [True, False])\n",
      "        classes = data[:, -1]\n",
      "        results = []\n",
      "        for (col, negated) in choices:\n",
      "            column = data[:, col]\n",
      "            if negated:\n",
      "                column = -column\n",
      "            d = DecisionStump(column, classes)\n",
      "            results.append( (col, negated, d.x0, d.correct) )\n",
      "        self.column, self.negated, self.x0, _ = max(results, key = lambda tup : tup[3])\n",
      "        \n",
      "    def classify(self, row):\n",
      "        entry = row[self.column]\n",
      "        if self.negated:\n",
      "            entry = -entry\n",
      "        return -1 if entry <= self.x0 else 1\n",
      "    \n",
      "    def classify_column(self, data):\n",
      "        column = data[:, self.column]\n",
      "        if self.negated:\n",
      "            return np.where( column >= -self.x0, -1, 1 )\n",
      "        else:\n",
      "            return np.where( column <= self.x0, -1, 1 )            \n",
      "    \n",
      "    def __repr__(self):\n",
      "        return \"DecisionStumpFromData(x0={}, column={}, negated={})\".format(self.x0, self.column, self.negated)"
     ],
     "language": "python",
     "metadata": {},
     "outputs": [],
     "prompt_number": 8
    },
    {
     "cell_type": "code",
     "collapsed": false,
     "input": [
      "def WLDecisionStumpSampling(data, classes, weights):\n",
      "    wrs = WeightedReSampler(weights)\n",
      "    samples = np.array([data[wrs.sample()] for _ in range(500)]) # 500 = Magic Number\n",
      "    return DecisionStumpFromData(samples)"
     ],
     "language": "python",
     "metadata": {},
     "outputs": [],
     "prompt_number": 9
    },
    {
     "cell_type": "code",
     "collapsed": false,
     "input": [
      "ab = AdaBoost(WLDecisionStumpSampling, train_data, train_data[:,-1])"
     ],
     "language": "python",
     "metadata": {},
     "outputs": [],
     "prompt_number": 10
    },
    {
     "cell_type": "code",
     "collapsed": false,
     "input": [
      "for _ in range(20):\n",
      "    print(\"Error rate for current distribtuion:\", ab.step())\n",
      "    print(\"Currently being classified correctly:\", ab.fraction_correct())"
     ],
     "language": "python",
     "metadata": {},
     "outputs": [
      {
       "output_type": "stream",
       "stream": "stdout",
       "text": [
        "Error rate for current distribtuion: 0.203157151193\n",
        "Currently being classified correctly:"
       ]
      },
      {
       "output_type": "stream",
       "stream": "stdout",
       "text": [
        " 0.796842848807\n",
        "Error rate for current distribtuion:"
       ]
      },
      {
       "output_type": "stream",
       "stream": "stdout",
       "text": [
        " 0.238715853771\n",
        "Currently being classified correctly:"
       ]
      },
      {
       "output_type": "stream",
       "stream": "stdout",
       "text": [
        " 0.796842848807\n",
        "Error rate for current distribtuion:"
       ]
      },
      {
       "output_type": "stream",
       "stream": "stdout",
       "text": [
        " 0.30320790715\n",
        "Currently being classified correctly:"
       ]
      },
      {
       "output_type": "stream",
       "stream": "stdout",
       "text": [
        " 0.836767912533\n",
        "Error rate for current distribtuion:"
       ]
      },
      {
       "output_type": "stream",
       "stream": "stdout",
       "text": [
        " 0.398389541038\n",
        "Currently being classified correctly:"
       ]
      },
      {
       "output_type": "stream",
       "stream": "stdout",
       "text": [
        " 0.836767912533\n",
        "Error rate for current distribtuion:"
       ]
      },
      {
       "output_type": "stream",
       "stream": "stdout",
       "text": [
        " 0.401058439543\n",
        "Currently being classified correctly:"
       ]
      },
      {
       "output_type": "stream",
       "stream": "stdout",
       "text": [
        " 0.837842818095\n",
        "Error rate for current distribtuion:"
       ]
      },
      {
       "output_type": "stream",
       "stream": "stdout",
       "text": [
        " 0.417507815483\n",
        "Currently being classified correctly:"
       ]
      },
      {
       "output_type": "stream",
       "stream": "stdout",
       "text": [
        " 0.842357421455\n",
        "Error rate for current distribtuion:"
       ]
      },
      {
       "output_type": "stream",
       "stream": "stdout",
       "text": [
        " 0.42034778523\n",
        "Currently being classified correctly:"
       ]
      },
      {
       "output_type": "stream",
       "stream": "stdout",
       "text": [
        " 0.840637572556\n",
        "Error rate for current distribtuion:"
       ]
      },
      {
       "output_type": "stream",
       "stream": "stdout",
       "text": [
        " 0.44414954576\n",
        "Currently being classified correctly:"
       ]
      },
      {
       "output_type": "stream",
       "stream": "stdout",
       "text": [
        " 0.841190381131\n",
        "Error rate for current distribtuion:"
       ]
      },
      {
       "output_type": "stream",
       "stream": "stdout",
       "text": [
        " 0.42897722679\n",
        "Currently being classified correctly:"
       ]
      },
      {
       "output_type": "stream",
       "stream": "stdout",
       "text": [
        " 0.843463038604\n",
        "Error rate for current distribtuion:"
       ]
      },
      {
       "output_type": "stream",
       "stream": "stdout",
       "text": [
        " 0.424121710304\n",
        "Currently being classified correctly:"
       ]
      },
      {
       "output_type": "stream",
       "stream": "stdout",
       "text": [
        " 0.844906483216\n",
        "Error rate for current distribtuion:"
       ]
      },
      {
       "output_type": "stream",
       "stream": "stdout",
       "text": [
        " 0.452329367567\n",
        "Currently being classified correctly:"
       ]
      },
      {
       "output_type": "stream",
       "stream": "stdout",
       "text": [
        " 0.845397868616\n",
        "Error rate for current distribtuion:"
       ]
      },
      {
       "output_type": "stream",
       "stream": "stdout",
       "text": [
        " 0.497897048832\n",
        "Currently being classified correctly:"
       ]
      },
      {
       "output_type": "stream",
       "stream": "stdout",
       "text": [
        " 0.845397868616\n",
        "Error rate for current distribtuion:"
       ]
      },
      {
       "output_type": "stream",
       "stream": "stdout",
       "text": [
        " 0.451909129034\n",
        "Currently being classified correctly:"
       ]
      },
      {
       "output_type": "stream",
       "stream": "stdout",
       "text": [
        " 0.84631921624\n",
        "Error rate for current distribtuion:"
       ]
      },
      {
       "output_type": "stream",
       "stream": "stdout",
       "text": [
        " 0.496214053146\n",
        "Currently being classified correctly:"
       ]
      },
      {
       "output_type": "stream",
       "stream": "stdout",
       "text": [
        " 0.846472774178\n",
        "Error rate for current distribtuion:"
       ]
      },
      {
       "output_type": "stream",
       "stream": "stdout",
       "text": [
        " 0.478633687676\n",
        "Currently being classified correctly:"
       ]
      },
      {
       "output_type": "stream",
       "stream": "stdout",
       "text": [
        " 0.845643561316\n",
        "Error rate for current distribtuion:"
       ]
      },
      {
       "output_type": "stream",
       "stream": "stdout",
       "text": [
        " 0.465170537727\n",
        "Currently being classified correctly:"
       ]
      },
      {
       "output_type": "stream",
       "stream": "stdout",
       "text": [
        " 0.845367157028\n",
        "Error rate for current distribtuion:"
       ]
      },
      {
       "output_type": "stream",
       "stream": "stdout",
       "text": [
        " 0.479418957345\n",
        "Currently being classified correctly:"
       ]
      },
      {
       "output_type": "stream",
       "stream": "stdout",
       "text": [
        " 0.845182887503\n",
        "Error rate for current distribtuion:"
       ]
      },
      {
       "output_type": "stream",
       "stream": "stdout",
       "text": [
        " 0.462612686649\n",
        "Currently being classified correctly:"
       ]
      },
      {
       "output_type": "stream",
       "stream": "stdout",
       "text": [
        " 0.846718466878\n",
        "Error rate for current distribtuion:"
       ]
      },
      {
       "output_type": "stream",
       "stream": "stdout",
       "text": [
        " 0.480584039831\n",
        "Currently being classified correctly:"
       ]
      },
      {
       "output_type": "stream",
       "stream": "stdout",
       "text": [
        " 0.846380639415\n",
        "Error rate for current distribtuion:"
       ]
      },
      {
       "output_type": "stream",
       "stream": "stdout",
       "text": [
        " 0.46584878308\n",
        "Currently being classified correctly:"
       ]
      },
      {
       "output_type": "stream",
       "stream": "stdout",
       "text": [
        " 0.845612849728\n"
       ]
      }
     ],
     "prompt_number": 11
    },
    {
     "cell_type": "code",
     "collapsed": false,
     "input": [
      "with open(\"adult_test_processed.csv\") as f:\n",
      "    test_data = np.array([ [ int(x) for x in row] for row in csv.reader(f) ])\n",
      "np.sum(ab.classify_column(test_data) == test_data[:, -1]) / len(test_data)"
     ],
     "language": "python",
     "metadata": {},
     "outputs": [
      {
       "metadata": {},
       "output_type": "pyout",
       "prompt_number": 12,
       "text": [
        "0.8456128497282025"
       ]
      }
     ],
     "prompt_number": 12
    },
    {
     "cell_type": "heading",
     "level": 1,
     "metadata": {},
     "source": [
      "Without sampling"
     ]
    },
    {
     "cell_type": "markdown",
     "metadata": {},
     "source": [
      "With numpy and for this dataset, we don't actually need to sample, though the result is rather slow...\n",
      "\n",
      "There are two obvious algorithms for finding the optimal decision stump for a single column:\n",
      "\n",
      "   - Try each possible value.  For binary data this seems sensible, but for a column (e.g. column 10 in our data) with nearly as many unique values as rows, this is quadratic in size.\n",
      "   - If we order the data, we can walk over it once, doing some book-keeping to see what happens to the error.  This requires a sort, and pushes us back to raw Python.  But in practise is does seem to be quicker."
     ]
    },
    {
     "cell_type": "code",
     "collapsed": false,
     "input": [
      "class DecisionStumpWeighted(DecisionStump):\n",
      "    def __init__(self, data, classes, weights):\n",
      "        # Find self.x0, self.error\n",
      "        def error(split):\n",
      "            x = np.where(data <= split, -1, 1)\n",
      "            return np.sum( weights[x != classes] )\n",
      "        \n",
      "        def yield_add_value(front, arr):\n",
      "            yield front\n",
      "            yield from arr\n",
      "    \n",
      "        choices = np.unique(data)\n",
      "        self.x0 = min(yield_add_value(choices[0]-1, choices),\n",
      "                      key = lambda choice : error(choice) )\n",
      "        self.correct = None\n",
      "        self.error = error(self.x0)\n",
      "        \n",
      "class DecisionStumpWeightedAlt(DecisionStump):\n",
      "    def __init__(self, data, classes, weights):\n",
      "        # http://stackoverflow.com/questions/2828059/sorting-arrays-in-numpy-by-column\n",
      "        # Leads to argsort function\n",
      "        indices = data.argsort()\n",
      "        data = data[indices]\n",
      "        classes = classes[indices]\n",
      "        weights = weights[indices]\n",
      "        self.x0 = data[0] - 1\n",
      "        self.error = np.sum( weights[classes != 1] )\n",
      "        current_error = self.error\n",
      "        for index in range(len(data)):\n",
      "            # What effect would assignment[index] = -1 have?\n",
      "            if classes[index] == -1:\n",
      "                current_error -= weights[index]\n",
      "            else:\n",
      "                current_error += weights[index]\n",
      "            # Need to only test when at end, or next data point will be larger than current\n",
      "            #  as a special case this happens at index==0 as well\n",
      "            if index == len(data) - 1 or index == 0 or data[index + 1] != data[index]:\n",
      "                if current_error < self.error:\n",
      "                    self.x0, self.error = data[index], current_error\n",
      "        self.correct = None\n",
      "        \n",
      "class DecisionStumpFromDataNoSampling(DecisionStumpFromData):\n",
      "    def __init__(self, data, weights):\n",
      "        \"\"\"data is a list of rows, each row being a list of features ending with the class +/-1.\"\"\"\n",
      "        \"\"\"`weights` needed to calculate weighted error\"\"\"\n",
      "        \"\"\"Sets self.x0, self.column, self.negated=True/False.\"\"\"\n",
      "        num_columns = len(data[0]) - 1\n",
      "        choices = itertools.product(range(num_columns), [True, False])\n",
      "        classes = data[:, -1]\n",
      "        results = []\n",
      "        for (col, negated) in choices:\n",
      "            column = data[:, col]\n",
      "            if negated:\n",
      "                column = -column\n",
      "            d = DecisionStumpWeightedAlt(column, classes, weights)\n",
      "            results.append( (col, negated, d.x0, d.error) )\n",
      "        self.column, self.negated, self.x0, _ = min(results, key = lambda tup : tup[3])"
     ],
     "language": "python",
     "metadata": {},
     "outputs": [],
     "prompt_number": 13
    },
    {
     "cell_type": "code",
     "collapsed": false,
     "input": [
      "def WLDecisionStump(data, classes, weights):\n",
      "    return DecisionStumpFromDataNoSampling(data, weights)"
     ],
     "language": "python",
     "metadata": {},
     "outputs": [],
     "prompt_number": 14
    },
    {
     "cell_type": "code",
     "collapsed": false,
     "input": [
      "ab = AdaBoost(WLDecisionStump, train_data, train_data[:,-1])\n",
      "for _ in range(20):\n",
      "    print(\"Error rate for current distribtuion:\", ab.step())\n",
      "    print(\"Currently being classified correctly:\", ab.fraction_correct())"
     ],
     "language": "python",
     "metadata": {},
     "outputs": [
      {
       "output_type": "stream",
       "stream": "stdout",
       "text": [
        "Error rate for current distribtuion: 0.197383372747\n",
        "Currently being classified correctly:"
       ]
      },
      {
       "output_type": "stream",
       "stream": "stdout",
       "text": [
        " 0.802616627253\n",
        "Error rate for current distribtuion:"
       ]
      },
      {
       "output_type": "stream",
       "stream": "stdout",
       "text": [
        " 0.231042623272\n",
        "Currently being classified correctly:"
       ]
      },
      {
       "output_type": "stream",
       "stream": "stdout",
       "text": [
        " 0.802616627253\n",
        "Error rate for current distribtuion:"
       ]
      },
      {
       "output_type": "stream",
       "stream": "stdout",
       "text": [
        " 0.30764046244\n",
        "Currently being classified correctly:"
       ]
      },
      {
       "output_type": "stream",
       "stream": "stdout",
       "text": [
        " 0.839961917632\n",
        "Error rate for current distribtuion:"
       ]
      },
      {
       "output_type": "stream",
       "stream": "stdout",
       "text": [
        " 0.37775542991\n",
        "Currently being classified correctly:"
       ]
      },
      {
       "output_type": "stream",
       "stream": "stdout",
       "text": [
        " 0.839961917632\n",
        "Error rate for current distribtuion:"
       ]
      },
      {
       "output_type": "stream",
       "stream": "stdout",
       "text": [
        " 0.391057495756\n",
        "Currently being classified correctly:"
       ]
      },
      {
       "output_type": "stream",
       "stream": "stdout",
       "text": [
        " 0.841374650656\n",
        "Error rate for current distribtuion:"
       ]
      },
      {
       "output_type": "stream",
       "stream": "stdout",
       "text": [
        " 0.443039185792\n",
        "Currently being classified correctly:"
       ]
      },
      {
       "output_type": "stream",
       "stream": "stdout",
       "text": [
        " 0.84254169098\n",
        "Error rate for current distribtuion:"
       ]
      },
      {
       "output_type": "stream",
       "stream": "stdout",
       "text": [
        " 0.441786308028\n",
        "Currently being classified correctly:"
       ]
      },
      {
       "output_type": "stream",
       "stream": "stdout",
       "text": [
        " 0.844077270354\n",
        "Error rate for current distribtuion:"
       ]
      },
      {
       "output_type": "stream",
       "stream": "stdout",
       "text": [
        " 0.441813693837\n",
        "Currently being classified correctly:"
       ]
      },
      {
       "output_type": "stream",
       "stream": "stdout",
       "text": [
        " 0.843186634317\n",
        "Error rate for current distribtuion:"
       ]
      },
      {
       "output_type": "stream",
       "stream": "stdout",
       "text": [
        " 0.439207224161\n",
        "Currently being classified correctly:"
       ]
      },
      {
       "output_type": "stream",
       "stream": "stdout",
       "text": [
        " 0.846042811953\n",
        "Error rate for current distribtuion:"
       ]
      },
      {
       "output_type": "stream",
       "stream": "stdout",
       "text": [
        " 0.434523329001\n",
        "Currently being classified correctly:"
       ]
      },
      {
       "output_type": "stream",
       "stream": "stdout",
       "text": [
        " 0.844537944166\n",
        "Error rate for current distribtuion:"
       ]
      },
      {
       "output_type": "stream",
       "stream": "stdout",
       "text": [
        " 0.452011333835\n",
        "Currently being classified correctly:"
       ]
      },
      {
       "output_type": "stream",
       "stream": "stdout",
       "text": [
        " 0.846595620528\n",
        "Error rate for current distribtuion:"
       ]
      },
      {
       "output_type": "stream",
       "stream": "stdout",
       "text": [
        " 0.440492267531\n",
        "Currently being classified correctly:"
       ]
      },
      {
       "output_type": "stream",
       "stream": "stdout",
       "text": [
        " 0.845397868616\n",
        "Error rate for current distribtuion:"
       ]
      },
      {
       "output_type": "stream",
       "stream": "stdout",
       "text": [
        " 0.460296818879\n",
        "Currently being classified correctly:"
       ]
      },
      {
       "output_type": "stream",
       "stream": "stdout",
       "text": [
        " 0.846779890053\n",
        "Error rate for current distribtuion:"
       ]
      },
      {
       "output_type": "stream",
       "stream": "stdout",
       "text": [
        " 0.447578130574\n",
        "Currently being classified correctly:"
       ]
      },
      {
       "output_type": "stream",
       "stream": "stdout",
       "text": [
        " 0.846657043703\n",
        "Error rate for current distribtuion:"
       ]
      },
      {
       "output_type": "stream",
       "stream": "stdout",
       "text": [
        " 0.458165377256\n",
        "Currently being classified correctly:"
       ]
      },
      {
       "output_type": "stream",
       "stream": "stdout",
       "text": [
        " 0.847486256565\n",
        "Error rate for current distribtuion:"
       ]
      },
      {
       "output_type": "stream",
       "stream": "stdout",
       "text": [
        " 0.461170495705\n",
        "Currently being classified correctly:"
       ]
      },
      {
       "output_type": "stream",
       "stream": "stdout",
       "text": [
        " 0.846349927828\n",
        "Error rate for current distribtuion:"
       ]
      },
      {
       "output_type": "stream",
       "stream": "stdout",
       "text": [
        " 0.463389626449\n",
        "Currently being classified correctly:"
       ]
      },
      {
       "output_type": "stream",
       "stream": "stdout",
       "text": [
        " 0.848530450539\n",
        "Error rate for current distribtuion:"
       ]
      },
      {
       "output_type": "stream",
       "stream": "stdout",
       "text": [
        " 0.46611467787\n",
        "Currently being classified correctly:"
       ]
      },
      {
       "output_type": "stream",
       "stream": "stdout",
       "text": [
        " 0.848008353552\n",
        "Error rate for current distribtuion:"
       ]
      },
      {
       "output_type": "stream",
       "stream": "stdout",
       "text": [
        " 0.466257754245\n",
        "Currently being classified correctly:"
       ]
      },
      {
       "output_type": "stream",
       "stream": "stdout",
       "text": [
        " 0.848161911489\n",
        "Error rate for current distribtuion:"
       ]
      },
      {
       "output_type": "stream",
       "stream": "stdout",
       "text": [
        " 0.466117760146\n",
        "Currently being classified correctly:"
       ]
      },
      {
       "output_type": "stream",
       "stream": "stdout",
       "text": [
        " 0.849328951814\n"
       ]
      }
     ],
     "prompt_number": 15
    },
    {
     "cell_type": "code",
     "collapsed": false,
     "input": [
      "np.sum(ab.classify_column(test_data) == test_data[:, -1]) / len(test_data)"
     ],
     "language": "python",
     "metadata": {},
     "outputs": [
      {
       "metadata": {},
       "output_type": "pyout",
       "prompt_number": 16,
       "text": [
        "0.8493289518135192"
       ]
      }
     ],
     "prompt_number": 16
    },
    {
     "cell_type": "code",
     "collapsed": false,
     "input": [],
     "language": "python",
     "metadata": {},
     "outputs": []
    }
   ],
   "metadata": {}
  }
 ]
}