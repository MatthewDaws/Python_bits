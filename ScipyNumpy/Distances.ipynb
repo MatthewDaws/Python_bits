{
 "cells": [
  {
   "cell_type": "markdown",
   "metadata": {},
   "source": [
    "# Distances between points\n",
    "\n",
    "Computing the distances between pairs of points.\n",
    "\n",
    "- `scipy.spatial.distance.pdist` is quicker\n",
    "- Using a simple python loop is insanely slow\n",
    "- Using some `numpy` magic is a bit slower (5-6 times) but more flexible"
   ]
  },
  {
   "cell_type": "code",
   "execution_count": 1,
   "metadata": {
    "collapsed": true
   },
   "outputs": [],
   "source": [
    "import numpy as np\n",
    "import scipy.spatial"
   ]
  },
  {
   "cell_type": "code",
   "execution_count": 2,
   "metadata": {
    "collapsed": false
   },
   "outputs": [
    {
     "data": {
      "text/plain": [
       "array([ 0.55166226,  0.8192395 ])"
      ]
     },
     "execution_count": 2,
     "metadata": {},
     "output_type": "execute_result"
    }
   ],
   "source": [
    "points = np.random.random(size=10).reshape((5,2))\n",
    "points[0]"
   ]
  },
  {
   "cell_type": "code",
   "execution_count": 3,
   "metadata": {
    "collapsed": false
   },
   "outputs": [
    {
     "data": {
      "text/plain": [
       "array([ 0.20258083,  0.47973149,  0.55668766,  0.77171257,  0.29286388,\n",
       "        0.59530553,  0.76494949,  0.62256019,  0.70024947,  0.24535585])"
      ]
     },
     "execution_count": 3,
     "metadata": {},
     "output_type": "execute_result"
    }
   ],
   "source": [
    "pdist = scipy.spatial.distance.pdist(points)\n",
    "pdist"
   ]
  },
  {
   "cell_type": "code",
   "execution_count": 4,
   "metadata": {
    "collapsed": false
   },
   "outputs": [],
   "source": [
    "def manual_dists(points):\n",
    "    return [ np.sqrt(np.sum((points[i] - points[j])**2))\n",
    "        for i in range(points.shape[0])\n",
    "            for j in range(i+1, points.shape[0]) ]\n",
    "\n",
    "np.testing.assert_allclose(manual_dists(points), pdist)"
   ]
  },
  {
   "cell_type": "code",
   "execution_count": 5,
   "metadata": {
    "collapsed": false
   },
   "outputs": [],
   "source": [
    "def numpy_dists(points):\n",
    "    numpts = points.shape[0]\n",
    "    out = np.empty(numpts * (numpts - 1) // 2)\n",
    "    index = 0\n",
    "    for i in range(numpts - 1):\n",
    "        pts = points[i+1:]\n",
    "        x = np.sqrt(np.sum((pts - points[i][None,:])**2, axis=1))\n",
    "        out[index : index + x.shape[0]] = x\n",
    "        index += x.shape[0]\n",
    "    return out\n",
    "        \n",
    "np.testing.assert_allclose(numpy_dists(points), pdist)"
   ]
  },
  {
   "cell_type": "markdown",
   "metadata": {},
   "source": [
    "# Timing"
   ]
  },
  {
   "cell_type": "code",
   "execution_count": 6,
   "metadata": {
    "collapsed": true
   },
   "outputs": [],
   "source": [
    "points = np.random.random(size=(1000,2))"
   ]
  },
  {
   "cell_type": "code",
   "execution_count": 7,
   "metadata": {
    "collapsed": false
   },
   "outputs": [
    {
     "name": "stdout",
     "output_type": "stream",
     "text": [
      "100 loops, best of 3: 3.57 ms per loop\n"
     ]
    }
   ],
   "source": [
    "%timeit( scipy.spatial.distance.pdist(points) )"
   ]
  },
  {
   "cell_type": "code",
   "execution_count": 8,
   "metadata": {
    "collapsed": false
   },
   "outputs": [
    {
     "name": "stdout",
     "output_type": "stream",
     "text": [
      "1 loop, best of 3: 5.52 s per loop\n"
     ]
    }
   ],
   "source": [
    "%timeit( manual_dists(points) )"
   ]
  },
  {
   "cell_type": "code",
   "execution_count": 9,
   "metadata": {
    "collapsed": false
   },
   "outputs": [
    {
     "name": "stdout",
     "output_type": "stream",
     "text": [
      "10 loops, best of 3: 35.6 ms per loop\n"
     ]
    }
   ],
   "source": [
    "%timeit( numpy_dists(points) )"
   ]
  },
  {
   "cell_type": "code",
   "execution_count": 10,
   "metadata": {
    "collapsed": true
   },
   "outputs": [],
   "source": [
    "points = np.random.random(size=(10000,2))"
   ]
  },
  {
   "cell_type": "code",
   "execution_count": 11,
   "metadata": {
    "collapsed": false
   },
   "outputs": [
    {
     "name": "stdout",
     "output_type": "stream",
     "text": [
      "1 loop, best of 3: 352 ms per loop\n"
     ]
    }
   ],
   "source": [
    "%timeit( scipy.spatial.distance.pdist(points) )"
   ]
  },
  {
   "cell_type": "code",
   "execution_count": 12,
   "metadata": {
    "collapsed": false
   },
   "outputs": [
    {
     "name": "stdout",
     "output_type": "stream",
     "text": [
      "1 loop, best of 3: 1.92 s per loop\n"
     ]
    }
   ],
   "source": [
    "%timeit( numpy_dists(points) )"
   ]
  },
  {
   "cell_type": "code",
   "execution_count": 13,
   "metadata": {
    "collapsed": true
   },
   "outputs": [],
   "source": [
    "points = np.random.random(size=(30000,2))"
   ]
  },
  {
   "cell_type": "code",
   "execution_count": 14,
   "metadata": {
    "collapsed": false
   },
   "outputs": [
    {
     "name": "stdout",
     "output_type": "stream",
     "text": [
      "1 loop, best of 3: 3.18 s per loop\n"
     ]
    }
   ],
   "source": [
    "%timeit( scipy.spatial.distance.pdist(points) )"
   ]
  },
  {
   "cell_type": "code",
   "execution_count": 15,
   "metadata": {
    "collapsed": false
   },
   "outputs": [
    {
     "name": "stdout",
     "output_type": "stream",
     "text": [
      "1 loop, best of 3: 16.1 s per loop\n"
     ]
    }
   ],
   "source": [
    "%timeit( numpy_dists(points) )"
   ]
  },
  {
   "cell_type": "code",
   "execution_count": null,
   "metadata": {
    "collapsed": true
   },
   "outputs": [],
   "source": []
  }
 ],
 "metadata": {
  "kernelspec": {
   "display_name": "Python 3",
   "language": "python",
   "name": "python3"
  },
  "language_info": {
   "codemirror_mode": {
    "name": "ipython",
    "version": 3
   },
   "file_extension": ".py",
   "mimetype": "text/x-python",
   "name": "python",
   "nbconvert_exporter": "python",
   "pygments_lexer": "ipython3",
   "version": "3.6.0"
  }
 },
 "nbformat": 4,
 "nbformat_minor": 2
}
