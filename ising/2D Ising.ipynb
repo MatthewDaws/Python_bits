{
 "metadata": {
  "name": "",
  "signature": "sha256:53450662dd4f8ba21381f054b276b7fc95c96ed21671f6b7e7702431ca9807b9"
 },
 "nbformat": 3,
 "nbformat_minor": 0,
 "worksheets": [
  {
   "cells": [
    {
     "cell_type": "code",
     "collapsed": false,
     "input": [
      "%matplotlib inline\n",
      "import matplotlib.pyplot as plt\n",
      "import numpy as np"
     ],
     "language": "python",
     "metadata": {},
     "outputs": [],
     "prompt_number": 1
    },
    {
     "cell_type": "code",
     "collapsed": false,
     "input": [
      "import random\n",
      "\n",
      "class TwoDIsing:\n",
      "    \"\"\"Simulate 2D Ising at zero temperature.\"\"\"\n",
      "    def __init__(self,L):\n",
      "        self.length = L\n",
      "        self.lattice = np.zeros((L,L))\n",
      "        for n in range(self.length):\n",
      "            for m in range(self.length):\n",
      "                self.lattice[n,m] = random.randint(0,1)\n",
      "    def state(self,i,j):\n",
      "        if i < 0: i += self.length\n",
      "        if i >= self.length: i -= self.length\n",
      "        if j < 0: j += self.length\n",
      "        if j >= self.length: j -= self.length\n",
      "        return self.lattice[i,j]\n",
      "    def get_neighbours(self,i,j):\n",
      "        \"\"\"Returns number of neighbours equal to vertex at (i,j).\"\"\"\n",
      "        count = 0\n",
      "        if self.lattice[i,j] == self.state(i-1,j): count += 1\n",
      "        if self.lattice[i,j] == self.state(i+1,j): count += 1\n",
      "        if self.lattice[i,j] == self.state(i,j-1): count += 1\n",
      "        if self.lattice[i,j] == self.state(i,j+1): count += 1\n",
      "        return count\n",
      "    def update(self):\n",
      "        i = random.randint(0,self.length-1)\n",
      "        j = random.randint(0,self.length-1)\n",
      "        count = self.get_neighbours(i,j)\n",
      "        #print(\"TwoDIsing::update --> \",i,j,\" --> \",count)\n",
      "        if count < 2 or ( count==2 and random.randint(0,1)==0 ):\n",
      "            self.lattice[i,j] = 1 - self.lattice[i,j]\n",
      "    def changable_count(self):\n",
      "        count = 0\n",
      "        for n in range(self.length):\n",
      "            for m in range(self.length):\n",
      "                if self.get_neighbours(n,m) <= 2: count+=1\n",
      "        return count"
     ],
     "language": "python",
     "metadata": {},
     "outputs": [],
     "prompt_number": 57
    },
    {
     "cell_type": "code",
     "collapsed": false,
     "input": [
      "lat = TwoDIsing(50)\n",
      "plt.imshow(lat.lattice,interpolation=\"none\", cmap=\"bone\")"
     ],
     "language": "python",
     "metadata": {},
     "outputs": [
      {
       "metadata": {},
       "output_type": "pyout",
       "prompt_number": 58,
       "text": [
        "<matplotlib.image.AxesImage at 0x89717f0>"
       ]
      },
      {
       "metadata": {},
       "output_type": "display_data",
       "png": "[encoded data removed]",
       "text": [
        "<matplotlib.figure.Figure at 0x88e7ba8>"
       ]
      }
     ],
     "prompt_number": 58
    },
    {
     "cell_type": "code",
     "collapsed": false,
     "input": [
      "for n in range(5000):\n",
      "    lat.update()\n",
      "print(lat.changable_count())\n",
      "plt.imshow(lat.lattice,interpolation=\"none\", cmap=\"bone\")"
     ],
     "language": "python",
     "metadata": {},
     "outputs": [
      {
       "output_type": "stream",
       "stream": "stdout",
       "text": [
        "584\n"
       ]
      },
      {
       "metadata": {},
       "output_type": "pyout",
       "prompt_number": 59,
       "text": [
        "<matplotlib.image.AxesImage at 0x89cccc0>"
       ]
      },
      {
       "metadata": {},
       "output_type": "display_data",
       "png": "[encoded data removed]",
       "text": [
        "<matplotlib.figure.Figure at 0x894ba20>"
       ]
      }
     ],
     "prompt_number": 59
    },
    {
     "cell_type": "code",
     "collapsed": false,
     "input": [
      "for n in range(5000):\n",
      "    lat.update()\n",
      "print(lat.changable_count())\n",
      "plt.imshow(lat.lattice,interpolation=\"none\", cmap=\"bone\")    "
     ],
     "language": "python",
     "metadata": {},
     "outputs": [
      {
       "output_type": "stream",
       "stream": "stdout",
       "text": [
        "409\n"
       ]
      },
      {
       "metadata": {},
       "output_type": "pyout",
       "prompt_number": 60,
       "text": [
        "<matplotlib.image.AxesImage at 0x99ff400>"
       ]
      },
      {
       "metadata": {},
       "output_type": "display_data",
       "png": "[encoded data removed]",
       "text": [
        "<matplotlib.figure.Figure at 0x89a5160>"
       ]
      }
     ],
     "prompt_number": 60
    },
    {
     "cell_type": "code",
     "collapsed": false,
     "input": [
      "for n in range(5000):\n",
      "    lat.update()\n",
      "print(lat.changable_count())\n",
      "plt.imshow(lat.lattice,interpolation=\"none\", cmap=\"bone\")    "
     ],
     "language": "python",
     "metadata": {},
     "outputs": [
      {
       "output_type": "stream",
       "stream": "stdout",
       "text": [
        "317\n"
       ]
      },
      {
       "metadata": {},
       "output_type": "pyout",
       "prompt_number": 61,
       "text": [
        "<matplotlib.image.AxesImage at 0x9a5b208>"
       ]
      },
      {
       "metadata": {},
       "output_type": "display_data",
       "png": "[encoded data removed]",
       "text": [
        "<matplotlib.figure.Figure at 0x9a0d978>"
       ]
      }
     ],
     "prompt_number": 61
    },
    {
     "cell_type": "code",
     "collapsed": false,
     "input": [
      "for n in range(50000):\n",
      "    lat.update()\n",
      "print(100*lat.changable_count()/2500,\"%\")\n",
      "plt.imshow(lat.lattice,interpolation=\"none\", cmap=\"bone\")    "
     ],
     "language": "python",
     "metadata": {},
     "outputs": [
      {
       "output_type": "stream",
       "stream": "stdout",
       "text": [
        "1.96 %\n"
       ]
      },
      {
       "metadata": {},
       "output_type": "pyout",
       "prompt_number": 72,
       "text": [
        "<matplotlib.image.AxesImage at 0x9e636a0>"
       ]
      },
      {
       "metadata": {},
       "output_type": "display_data",
       "png": "[encoded data removed]",
       "text": [
        "<matplotlib.figure.Figure at 0x9ddb2b0>"
       ]
      }
     ],
     "prompt_number": 72
    },
    {
     "cell_type": "code",
     "collapsed": false,
     "input": [],
     "language": "python",
     "metadata": {},
     "outputs": []
    }
   ],
   "metadata": {}
  }
 ]
}