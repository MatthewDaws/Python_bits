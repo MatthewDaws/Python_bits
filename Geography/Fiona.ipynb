{
 "cells": [
  {
   "cell_type": "markdown",
   "metadata": {},
   "source": [
    "# Fiona\n",
    "\n",
    "- Docs: http://toblerity.org/fiona/fiona.html\n",
    "- More recent: http://juanlu001-fiona.readthedocs.io/en/latest/"
   ]
  },
  {
   "cell_type": "code",
   "execution_count": 1,
   "metadata": {
    "collapsed": true
   },
   "outputs": [],
   "source": [
    "import os\n",
    "import zipfile\n",
    "import geopandas as gpd\n",
    "import shapely.geometry"
   ]
  },
  {
   "cell_type": "code",
   "execution_count": 63,
   "metadata": {
    "collapsed": false
   },
   "outputs": [
    {
     "data": {
      "text/html": [
       "<div>\n",
       "<table border=\"1\" class=\"dataframe\">\n",
       "  <thead>\n",
       "    <tr style=\"text-align: right;\">\n",
       "      <th></th>\n",
       "      <th>FULLNAME</th>\n",
       "      <th>LINEARID</th>\n",
       "      <th>MTFCC</th>\n",
       "      <th>RTTYP</th>\n",
       "      <th>geometry</th>\n",
       "    </tr>\n",
       "  </thead>\n",
       "  <tbody>\n",
       "    <tr>\n",
       "      <th>0</th>\n",
       "      <td>47th Pl Exd</td>\n",
       "      <td>110380277026</td>\n",
       "      <td>S1400</td>\n",
       "      <td>M</td>\n",
       "      <td>LINESTRING (-87.595765 41.81460799999999, -87....</td>\n",
       "    </tr>\n",
       "    <tr>\n",
       "      <th>1</th>\n",
       "      <td>Golden Spr</td>\n",
       "      <td>110380298305</td>\n",
       "      <td>S1400</td>\n",
       "      <td>M</td>\n",
       "      <td>LINESTRING (-87.921616 41.67378399999999, -87....</td>\n",
       "    </tr>\n",
       "    <tr>\n",
       "      <th>2</th>\n",
       "      <td>Edens Expy Spr</td>\n",
       "      <td>1104259027148</td>\n",
       "      <td>S1100</td>\n",
       "      <td>M</td>\n",
       "      <td>LINESTRING (-87.86542699999998 42.149693999999...</td>\n",
       "    </tr>\n",
       "    <tr>\n",
       "      <th>3</th>\n",
       "      <td>Edens Expy Spr</td>\n",
       "      <td>1104259564382</td>\n",
       "      <td>S1100</td>\n",
       "      <td>M</td>\n",
       "      <td>LINESTRING (-87.832262 42.14520399999999, -87....</td>\n",
       "    </tr>\n",
       "    <tr>\n",
       "      <th>4</th>\n",
       "      <td>Edens Expy Spr</td>\n",
       "      <td>1104472109755</td>\n",
       "      <td>S1100</td>\n",
       "      <td>M</td>\n",
       "      <td>LINESTRING (-87.874499 42.152788, -87.87439399...</td>\n",
       "    </tr>\n",
       "  </tbody>\n",
       "</table>\n",
       "</div>"
      ],
      "text/plain": [
       "         FULLNAME       LINEARID  MTFCC RTTYP  \\\n",
       "0     47th Pl Exd   110380277026  S1400     M   \n",
       "1      Golden Spr   110380298305  S1400     M   \n",
       "2  Edens Expy Spr  1104259027148  S1100     M   \n",
       "3  Edens Expy Spr  1104259564382  S1100     M   \n",
       "4  Edens Expy Spr  1104472109755  S1100     M   \n",
       "\n",
       "                                            geometry  \n",
       "0  LINESTRING (-87.595765 41.81460799999999, -87....  \n",
       "1  LINESTRING (-87.921616 41.67378399999999, -87....  \n",
       "2  LINESTRING (-87.86542699999998 42.149693999999...  \n",
       "3  LINESTRING (-87.832262 42.14520399999999, -87....  \n",
       "4  LINESTRING (-87.874499 42.152788, -87.87439399...  "
      ]
     },
     "execution_count": 63,
     "metadata": {},
     "output_type": "execute_result"
    }
   ],
   "source": [
    "#datadir = os.path.join(\"/media\", \"disk\", \"TIGER Data\")\n",
    "datadir = os.path.join(\"..\", \"..\", \"..\", \"Data\")\n",
    "gpd.GeoDataFrame.from_file(os.path.join(datadir, 'tl_2016_17031_roads')).head()"
   ]
  },
  {
   "cell_type": "code",
   "execution_count": 3,
   "metadata": {
    "collapsed": false
   },
   "outputs": [],
   "source": [
    "import fiona"
   ]
  },
  {
   "cell_type": "code",
   "execution_count": 28,
   "metadata": {
    "collapsed": false
   },
   "outputs": [
    {
     "name": "stdout",
     "output_type": "stream",
     "text": [
      "{'properties': OrderedDict([('LINEARID', 'str:22'), ('FULLNAME', 'str:100'), ('RTTYP', 'str:1'), ('MTFCC', 'str:5')]), 'geometry': 'LineString'}\n",
      "{'init': 'epsg:4269'}\n"
     ]
    }
   ],
   "source": [
    "with fiona.open(os.path.join(datadir, 'tl_2016_17031_roads')) as inp:\n",
    "    print(inp.schema)\n",
    "    print(inp.crs)\n",
    "    data = list(inp)"
   ]
  },
  {
   "cell_type": "code",
   "execution_count": 29,
   "metadata": {
    "collapsed": false
   },
   "outputs": [
    {
     "data": {
      "text/plain": [
       "{'geometry': {'coordinates': [(-87.595765, 41.814607999999986),\n",
       "   (-87.595702, 41.81463399999999),\n",
       "   (-87.59551599999999, 41.81471299999999),\n",
       "   (-87.59545399999999, 41.81474)],\n",
       "  'type': 'LineString'},\n",
       " 'id': '0',\n",
       " 'properties': OrderedDict([('LINEARID', '110380277026'),\n",
       "              ('FULLNAME', '47th Pl Exd'),\n",
       "              ('RTTYP', 'M'),\n",
       "              ('MTFCC', 'S1400')]),\n",
       " 'type': 'Feature'}"
      ]
     },
     "execution_count": 29,
     "metadata": {},
     "output_type": "execute_result"
    }
   ],
   "source": [
    "data[0]"
   ]
  },
  {
   "cell_type": "code",
   "execution_count": 32,
   "metadata": {
    "collapsed": false
   },
   "outputs": [
    {
     "data": {
      "text/plain": [
       "'47th Pl Exd'"
      ]
     },
     "execution_count": 32,
     "metadata": {},
     "output_type": "execute_result"
    }
   ],
   "source": [
    "data[0][\"properties\"][\"FULLNAME\"]"
   ]
  },
  {
   "cell_type": "markdown",
   "metadata": {},
   "source": [
    "# Make a zip file"
   ]
  },
  {
   "cell_type": "code",
   "execution_count": 12,
   "metadata": {
    "collapsed": false
   },
   "outputs": [],
   "source": [
    "import random\n",
    "\n",
    "frame = gpd.GeoDataFrame({\n",
    "    \"one\" : [random.random() for _ in range(10)],\n",
    "    \"two\" : [random.random() for _ in range(10)],\n",
    "    \"three\" : [random.random() for _ in range(10)]\n",
    "    })\n",
    "frame.geometry = [shapely.geometry.Point(random.random(), random.random()) for _ in range(10)]\n",
    "frame.to_file(\"test\")"
   ]
  },
  {
   "cell_type": "code",
   "execution_count": 13,
   "metadata": {
    "collapsed": false
   },
   "outputs": [
    {
     "data": {
      "text/html": [
       "<div>\n",
       "<table border=\"1\" class=\"dataframe\">\n",
       "  <thead>\n",
       "    <tr style=\"text-align: right;\">\n",
       "      <th></th>\n",
       "      <th>one</th>\n",
       "      <th>three</th>\n",
       "      <th>two</th>\n",
       "      <th>geometry</th>\n",
       "    </tr>\n",
       "  </thead>\n",
       "  <tbody>\n",
       "    <tr>\n",
       "      <th>0</th>\n",
       "      <td>0.102479</td>\n",
       "      <td>0.195078</td>\n",
       "      <td>0.044150</td>\n",
       "      <td>POINT (0.485480121638858 0.2280057304317772)</td>\n",
       "    </tr>\n",
       "    <tr>\n",
       "      <th>1</th>\n",
       "      <td>0.654113</td>\n",
       "      <td>0.958358</td>\n",
       "      <td>0.576193</td>\n",
       "      <td>POINT (0.9782933885712286 0.6094664305216008)</td>\n",
       "    </tr>\n",
       "    <tr>\n",
       "      <th>2</th>\n",
       "      <td>0.881228</td>\n",
       "      <td>0.941013</td>\n",
       "      <td>0.592834</td>\n",
       "      <td>POINT (0.6352825070182115 0.515952063220373)</td>\n",
       "    </tr>\n",
       "    <tr>\n",
       "      <th>3</th>\n",
       "      <td>0.469183</td>\n",
       "      <td>0.145761</td>\n",
       "      <td>0.664387</td>\n",
       "      <td>POINT (0.06406475315659543 0.8629081633097599)</td>\n",
       "    </tr>\n",
       "    <tr>\n",
       "      <th>4</th>\n",
       "      <td>0.958660</td>\n",
       "      <td>0.327739</td>\n",
       "      <td>0.888699</td>\n",
       "      <td>POINT (0.8347326380976192 0.5642710462492633)</td>\n",
       "    </tr>\n",
       "  </tbody>\n",
       "</table>\n",
       "</div>"
      ],
      "text/plain": [
       "        one     three       two  \\\n",
       "0  0.102479  0.195078  0.044150   \n",
       "1  0.654113  0.958358  0.576193   \n",
       "2  0.881228  0.941013  0.592834   \n",
       "3  0.469183  0.145761  0.664387   \n",
       "4  0.958660  0.327739  0.888699   \n",
       "\n",
       "                                         geometry  \n",
       "0    POINT (0.485480121638858 0.2280057304317772)  \n",
       "1   POINT (0.9782933885712286 0.6094664305216008)  \n",
       "2    POINT (0.6352825070182115 0.515952063220373)  \n",
       "3  POINT (0.06406475315659543 0.8629081633097599)  \n",
       "4   POINT (0.8347326380976192 0.5642710462492633)  "
      ]
     },
     "execution_count": 13,
     "metadata": {},
     "output_type": "execute_result"
    }
   ],
   "source": [
    "frame.head()"
   ]
  },
  {
   "cell_type": "code",
   "execution_count": 15,
   "metadata": {
    "collapsed": false
   },
   "outputs": [],
   "source": [
    "zf = zipfile.ZipFile(\"test.zip\", \"w\")\n",
    "for name in os.listdir(\"test\"):\n",
    "    filename = os.path.join(\"test\", name)\n",
    "    outname = name\n",
    "    with open(filename, \"rb\") as f:\n",
    "        data = f.read()\n",
    "    with zf.open(outname, \"w\") as f:\n",
    "        f.write(data)\n",
    "zf.close()"
   ]
  },
  {
   "cell_type": "markdown",
   "metadata": {},
   "source": [
    "## Load back using `fiona`"
   ]
  },
  {
   "cell_type": "code",
   "execution_count": 17,
   "metadata": {
    "collapsed": false
   },
   "outputs": [
    {
     "data": {
      "text/plain": [
       "['test']"
      ]
     },
     "execution_count": 17,
     "metadata": {},
     "output_type": "execute_result"
    }
   ],
   "source": [
    "fiona.listlayers(\"\", vfs=\"zip://test.zip\")"
   ]
  },
  {
   "cell_type": "code",
   "execution_count": 18,
   "metadata": {
    "collapsed": false
   },
   "outputs": [
    {
     "name": "stdout",
     "output_type": "stream",
     "text": [
      "{'properties': OrderedDict([('one', 'float:24.15'), ('three', 'float:24.15'), ('two', 'float:24.15')]), 'geometry': 'Point'}\n",
      "{}\n",
      "{'type': 'Feature', 'id': '0', 'geometry': {'type': 'Point', 'coordinates': (0.485480121638858, 0.2280057304317772)}, 'properties': OrderedDict([('one', 0.10247870954811), ('three', 0.195078343273763), ('two', 0.044149706782881)])}\n"
     ]
    }
   ],
   "source": [
    "with fiona.open(\"\", vfs=\"zip://test.zip\") as inp:\n",
    "    print(inp.schema)\n",
    "    print(inp.crs)\n",
    "    print(next(iter(inp)))"
   ]
  },
  {
   "cell_type": "markdown",
   "metadata": {},
   "source": [
    "# Open an externally produced file\n",
    "\n",
    "Didn't work on linux, but does on Windows.  What's different?"
   ]
  },
  {
   "cell_type": "code",
   "execution_count": 33,
   "metadata": {
    "collapsed": false
   },
   "outputs": [
    {
     "name": "stdout",
     "output_type": "stream",
     "text": [
      "f:\\TIGER Data\\tl_2016_17031_roads.zip\n"
     ]
    },
    {
     "data": {
      "text/plain": [
       "[<ZipInfo filename='tl_2016_17031_roads.cpg' filemode='-rwxrwxr-x' file_size=5>,\n",
       " <ZipInfo filename='tl_2016_17031_roads.dbf' compress_type=deflate filemode='-rwxrwxr-x' file_size=10236312 compress_size=771563>,\n",
       " <ZipInfo filename='tl_2016_17031_roads.prj' compress_type=deflate filemode='-rwxrwxr-x' file_size=165 compress_size=133>,\n",
       " <ZipInfo filename='tl_2016_17031_roads.shp' compress_type=deflate filemode='-rwxrwxr-x' file_size=23335716 compress_size=13720745>,\n",
       " <ZipInfo filename='tl_2016_17031_roads.shp.ea.iso.xml' compress_type=deflate filemode='-rwxrwxrwx' file_size=20621 compress_size=2000>,\n",
       " <ZipInfo filename='tl_2016_17031_roads.shp.iso.xml' compress_type=deflate filemode='-rwxrwxrwx' file_size=291967 compress_size=11976>,\n",
       " <ZipInfo filename='tl_2016_17031_roads.shp.xml' compress_type=deflate filemode='-rwxrwxrwx' file_size=92101 compress_size=8070>,\n",
       " <ZipInfo filename='tl_2016_17031_roads.shx' compress_type=deflate filemode='-rwxrwxr-x' file_size=634900 compress_size=308395>]"
      ]
     },
     "execution_count": 33,
     "metadata": {},
     "output_type": "execute_result"
    }
   ],
   "source": [
    "filename = os.path.join(datadir, 'tl_2016_17031_roads.zip')\n",
    "filename = os.path.join(\"f:\\\\\", \"TIGER Data\", 'tl_2016_17031_roads.zip')\n",
    "print(filename)\n",
    "zf = zipfile.ZipFile(filename)\n",
    "zf.filelist"
   ]
  },
  {
   "cell_type": "code",
   "execution_count": 34,
   "metadata": {
    "collapsed": false
   },
   "outputs": [
    {
     "data": {
      "text/plain": [
       "['tl_2016_17031_roads']"
      ]
     },
     "execution_count": 34,
     "metadata": {},
     "output_type": "execute_result"
    }
   ],
   "source": [
    "fiona.listlayers(\"\", vfs=\"zip://\"+filename)"
   ]
  },
  {
   "cell_type": "code",
   "execution_count": 60,
   "metadata": {
    "collapsed": false
   },
   "outputs": [
    {
     "name": "stdout",
     "output_type": "stream",
     "text": [
      "{'properties': OrderedDict([('LINEARID', 'str:22'), ('FULLNAME', 'str:100'), ('RTTYP', 'str:1'), ('MTFCC', 'str:5')]), 'geometry': 'LineString'}\n",
      "{'init': 'epsg:4269'}\n"
     ]
    },
    {
     "data": {
      "text/plain": [
       "{'geometry': {'coordinates': [(-87.595765, 41.814607999999986),\n",
       "   (-87.595702, 41.81463399999999),\n",
       "   (-87.59551599999999, 41.81471299999999),\n",
       "   (-87.59545399999999, 41.81474)],\n",
       "  'type': 'LineString'},\n",
       " 'id': '0',\n",
       " 'properties': OrderedDict([('LINEARID', '110380277026'),\n",
       "              ('FULLNAME', '47th Pl Exd'),\n",
       "              ('RTTYP', 'M'),\n",
       "              ('MTFCC', 'S1400')]),\n",
       " 'type': 'Feature'}"
      ]
     },
     "execution_count": 60,
     "metadata": {},
     "output_type": "execute_result"
    }
   ],
   "source": [
    "with fiona.open(\"\", vfs=\"zip://\"+filename) as inp:\n",
    "    schema = inp.schema\n",
    "    print(schema)\n",
    "    print(inp.crs)\n",
    "    data = list(inp)\n",
    "data[0]"
   ]
  },
  {
   "cell_type": "code",
   "execution_count": 52,
   "metadata": {
    "collapsed": false
   },
   "outputs": [
    {
     "data": {
      "text/plain": [
       "'1.7.4'"
      ]
     },
     "execution_count": 52,
     "metadata": {},
     "output_type": "execute_result"
    }
   ],
   "source": [
    "fiona.__version__"
   ]
  },
  {
   "cell_type": "markdown",
   "metadata": {},
   "source": [
    "# With shapely\n",
    "\n",
    "`shapely` has a very nice way of forming geometry..."
   ]
  },
  {
   "cell_type": "code",
   "execution_count": 61,
   "metadata": {
    "collapsed": true
   },
   "outputs": [],
   "source": [
    "geometry = [shapely.geometry.asShape(row[\"geometry\"]) for row in data]"
   ]
  },
  {
   "cell_type": "code",
   "execution_count": 62,
   "metadata": {
    "collapsed": false
   },
   "outputs": [
    {
     "data": {
      "text/html": [
       "<div>\n",
       "<table border=\"1\" class=\"dataframe\">\n",
       "  <thead>\n",
       "    <tr style=\"text-align: right;\">\n",
       "      <th></th>\n",
       "      <th>LINEARID</th>\n",
       "      <th>FULLNAME</th>\n",
       "      <th>RTTYP</th>\n",
       "      <th>MTFCC</th>\n",
       "      <th>geometry</th>\n",
       "    </tr>\n",
       "  </thead>\n",
       "  <tbody>\n",
       "    <tr>\n",
       "      <th>0</th>\n",
       "      <td>110380277026</td>\n",
       "      <td>47th Pl Exd</td>\n",
       "      <td>M</td>\n",
       "      <td>S1400</td>\n",
       "      <td>LINESTRING (-87.595765 41.81460799999999, -87....</td>\n",
       "    </tr>\n",
       "    <tr>\n",
       "      <th>1</th>\n",
       "      <td>110380298305</td>\n",
       "      <td>Golden Spr</td>\n",
       "      <td>M</td>\n",
       "      <td>S1400</td>\n",
       "      <td>LINESTRING (-87.921616 41.67378399999999, -87....</td>\n",
       "    </tr>\n",
       "    <tr>\n",
       "      <th>2</th>\n",
       "      <td>1104259027148</td>\n",
       "      <td>Edens Expy Spr</td>\n",
       "      <td>M</td>\n",
       "      <td>S1100</td>\n",
       "      <td>LINESTRING (-87.86542699999998 42.149693999999...</td>\n",
       "    </tr>\n",
       "    <tr>\n",
       "      <th>3</th>\n",
       "      <td>1104259564382</td>\n",
       "      <td>Edens Expy Spr</td>\n",
       "      <td>M</td>\n",
       "      <td>S1100</td>\n",
       "      <td>LINESTRING (-87.832262 42.14520399999999, -87....</td>\n",
       "    </tr>\n",
       "    <tr>\n",
       "      <th>4</th>\n",
       "      <td>1104472109755</td>\n",
       "      <td>Edens Expy Spr</td>\n",
       "      <td>M</td>\n",
       "      <td>S1100</td>\n",
       "      <td>LINESTRING (-87.874499 42.152788, -87.87439399...</td>\n",
       "    </tr>\n",
       "  </tbody>\n",
       "</table>\n",
       "</div>"
      ],
      "text/plain": [
       "        LINEARID        FULLNAME RTTYP  MTFCC  \\\n",
       "0   110380277026     47th Pl Exd     M  S1400   \n",
       "1   110380298305      Golden Spr     M  S1400   \n",
       "2  1104259027148  Edens Expy Spr     M  S1100   \n",
       "3  1104259564382  Edens Expy Spr     M  S1100   \n",
       "4  1104472109755  Edens Expy Spr     M  S1100   \n",
       "\n",
       "                                            geometry  \n",
       "0  LINESTRING (-87.595765 41.81460799999999, -87....  \n",
       "1  LINESTRING (-87.921616 41.67378399999999, -87....  \n",
       "2  LINESTRING (-87.86542699999998 42.149693999999...  \n",
       "3  LINESTRING (-87.832262 42.14520399999999, -87....  \n",
       "4  LINESTRING (-87.874499 42.152788, -87.87439399...  "
      ]
     },
     "execution_count": 62,
     "metadata": {},
     "output_type": "execute_result"
    }
   ],
   "source": [
    "frame = gpd.GeoDataFrame()\n",
    "for name in schema[\"properties\"]:\n",
    "    frame[name] = [row[\"properties\"][name] for row in data]\n",
    "frame.geometry = geometry\n",
    "frame.head()"
   ]
  },
  {
   "cell_type": "code",
   "execution_count": 64,
   "metadata": {
    "collapsed": true
   },
   "outputs": [],
   "source": [
    "def our_load(name):\n",
    "    with fiona.open(name) as inp:\n",
    "        header = list(inp.schema[\"properties\"])\n",
    "        data = [list() for _ in header]\n",
    "        geo = []\n",
    "        for row in inp:\n",
    "            for i, name in enumerate(header):\n",
    "                data[i].append(row[\"properties\"][name])\n",
    "            geo.append(shapely.geometry.asShape(row[\"geometry\"]))\n",
    "    frame = gpd.GeoDataFrame({name : column for name, column in zip(header, data)})\n",
    "    frame.geometry = geo\n",
    "    frame.crs = inp.crs\n",
    "    return frame"
   ]
  },
  {
   "cell_type": "code",
   "execution_count": 66,
   "metadata": {
    "collapsed": false
   },
   "outputs": [
    {
     "name": "stdout",
     "output_type": "stream",
     "text": [
      "79350\n"
     ]
    },
    {
     "data": {
      "text/html": [
       "<div>\n",
       "<table border=\"1\" class=\"dataframe\">\n",
       "  <thead>\n",
       "    <tr style=\"text-align: right;\">\n",
       "      <th></th>\n",
       "      <th>FULLNAME</th>\n",
       "      <th>LINEARID</th>\n",
       "      <th>MTFCC</th>\n",
       "      <th>RTTYP</th>\n",
       "      <th>geometry</th>\n",
       "    </tr>\n",
       "  </thead>\n",
       "  <tbody>\n",
       "    <tr>\n",
       "      <th>0</th>\n",
       "      <td>47th Pl Exd</td>\n",
       "      <td>110380277026</td>\n",
       "      <td>S1400</td>\n",
       "      <td>M</td>\n",
       "      <td>LINESTRING (-87.595765 41.81460799999999, -87....</td>\n",
       "    </tr>\n",
       "    <tr>\n",
       "      <th>1</th>\n",
       "      <td>Golden Spr</td>\n",
       "      <td>110380298305</td>\n",
       "      <td>S1400</td>\n",
       "      <td>M</td>\n",
       "      <td>LINESTRING (-87.921616 41.67378399999999, -87....</td>\n",
       "    </tr>\n",
       "    <tr>\n",
       "      <th>2</th>\n",
       "      <td>Edens Expy Spr</td>\n",
       "      <td>1104259027148</td>\n",
       "      <td>S1100</td>\n",
       "      <td>M</td>\n",
       "      <td>LINESTRING (-87.86542699999998 42.149693999999...</td>\n",
       "    </tr>\n",
       "    <tr>\n",
       "      <th>3</th>\n",
       "      <td>Edens Expy Spr</td>\n",
       "      <td>1104259564382</td>\n",
       "      <td>S1100</td>\n",
       "      <td>M</td>\n",
       "      <td>LINESTRING (-87.832262 42.14520399999999, -87....</td>\n",
       "    </tr>\n",
       "    <tr>\n",
       "      <th>4</th>\n",
       "      <td>Edens Expy Spr</td>\n",
       "      <td>1104472109755</td>\n",
       "      <td>S1100</td>\n",
       "      <td>M</td>\n",
       "      <td>LINESTRING (-87.874499 42.152788, -87.87439399...</td>\n",
       "    </tr>\n",
       "  </tbody>\n",
       "</table>\n",
       "</div>"
      ],
      "text/plain": [
       "         FULLNAME       LINEARID  MTFCC RTTYP  \\\n",
       "0     47th Pl Exd   110380277026  S1400     M   \n",
       "1      Golden Spr   110380298305  S1400     M   \n",
       "2  Edens Expy Spr  1104259027148  S1100     M   \n",
       "3  Edens Expy Spr  1104259564382  S1100     M   \n",
       "4  Edens Expy Spr  1104472109755  S1100     M   \n",
       "\n",
       "                                            geometry  \n",
       "0  LINESTRING (-87.595765 41.81460799999999, -87....  \n",
       "1  LINESTRING (-87.921616 41.67378399999999, -87....  \n",
       "2  LINESTRING (-87.86542699999998 42.149693999999...  \n",
       "3  LINESTRING (-87.832262 42.14520399999999, -87....  \n",
       "4  LINESTRING (-87.874499 42.152788, -87.87439399...  "
      ]
     },
     "execution_count": 66,
     "metadata": {},
     "output_type": "execute_result"
    }
   ],
   "source": [
    "filename = os.path.join(datadir, 'tl_2016_17031_roads')\n",
    "frame = our_load(filename)\n",
    "print(len(frame))\n",
    "frame.head()"
   ]
  },
  {
   "cell_type": "code",
   "execution_count": 67,
   "metadata": {
    "collapsed": false
   },
   "outputs": [
    {
     "name": "stdout",
     "output_type": "stream",
     "text": [
      "79350\n"
     ]
    },
    {
     "data": {
      "text/html": [
       "<div>\n",
       "<table border=\"1\" class=\"dataframe\">\n",
       "  <thead>\n",
       "    <tr style=\"text-align: right;\">\n",
       "      <th></th>\n",
       "      <th>FULLNAME</th>\n",
       "      <th>LINEARID</th>\n",
       "      <th>MTFCC</th>\n",
       "      <th>RTTYP</th>\n",
       "      <th>geometry</th>\n",
       "    </tr>\n",
       "  </thead>\n",
       "  <tbody>\n",
       "    <tr>\n",
       "      <th>0</th>\n",
       "      <td>47th Pl Exd</td>\n",
       "      <td>110380277026</td>\n",
       "      <td>S1400</td>\n",
       "      <td>M</td>\n",
       "      <td>LINESTRING (-87.595765 41.81460799999999, -87....</td>\n",
       "    </tr>\n",
       "    <tr>\n",
       "      <th>1</th>\n",
       "      <td>Golden Spr</td>\n",
       "      <td>110380298305</td>\n",
       "      <td>S1400</td>\n",
       "      <td>M</td>\n",
       "      <td>LINESTRING (-87.921616 41.67378399999999, -87....</td>\n",
       "    </tr>\n",
       "    <tr>\n",
       "      <th>2</th>\n",
       "      <td>Edens Expy Spr</td>\n",
       "      <td>1104259027148</td>\n",
       "      <td>S1100</td>\n",
       "      <td>M</td>\n",
       "      <td>LINESTRING (-87.86542699999998 42.149693999999...</td>\n",
       "    </tr>\n",
       "    <tr>\n",
       "      <th>3</th>\n",
       "      <td>Edens Expy Spr</td>\n",
       "      <td>1104259564382</td>\n",
       "      <td>S1100</td>\n",
       "      <td>M</td>\n",
       "      <td>LINESTRING (-87.832262 42.14520399999999, -87....</td>\n",
       "    </tr>\n",
       "    <tr>\n",
       "      <th>4</th>\n",
       "      <td>Edens Expy Spr</td>\n",
       "      <td>1104472109755</td>\n",
       "      <td>S1100</td>\n",
       "      <td>M</td>\n",
       "      <td>LINESTRING (-87.874499 42.152788, -87.87439399...</td>\n",
       "    </tr>\n",
       "  </tbody>\n",
       "</table>\n",
       "</div>"
      ],
      "text/plain": [
       "         FULLNAME       LINEARID  MTFCC RTTYP  \\\n",
       "0     47th Pl Exd   110380277026  S1400     M   \n",
       "1      Golden Spr   110380298305  S1400     M   \n",
       "2  Edens Expy Spr  1104259027148  S1100     M   \n",
       "3  Edens Expy Spr  1104259564382  S1100     M   \n",
       "4  Edens Expy Spr  1104472109755  S1100     M   \n",
       "\n",
       "                                            geometry  \n",
       "0  LINESTRING (-87.595765 41.81460799999999, -87....  \n",
       "1  LINESTRING (-87.921616 41.67378399999999, -87....  \n",
       "2  LINESTRING (-87.86542699999998 42.149693999999...  \n",
       "3  LINESTRING (-87.832262 42.14520399999999, -87....  \n",
       "4  LINESTRING (-87.874499 42.152788, -87.87439399...  "
      ]
     },
     "execution_count": 67,
     "metadata": {},
     "output_type": "execute_result"
    }
   ],
   "source": [
    "frame = gpd.GeoDataFrame.from_file(filename)\n",
    "print(len(frame))\n",
    "frame.head()"
   ]
  },
  {
   "cell_type": "code",
   "execution_count": 68,
   "metadata": {
    "collapsed": false
   },
   "outputs": [
    {
     "name": "stdout",
     "output_type": "stream",
     "text": [
      "1 loop, best of 3: 3.24 s per loop\n"
     ]
    }
   ],
   "source": [
    "%timeit(our_load(filename))"
   ]
  },
  {
   "cell_type": "code",
   "execution_count": 69,
   "metadata": {
    "collapsed": false
   },
   "outputs": [
    {
     "name": "stdout",
     "output_type": "stream",
     "text": [
      "1 loop, best of 3: 9.45 s per loop\n"
     ]
    }
   ],
   "source": [
    "%timeit(gpd.GeoDataFrame.from_file(filename))"
   ]
  },
  {
   "cell_type": "code",
   "execution_count": null,
   "metadata": {
    "collapsed": true
   },
   "outputs": [],
   "source": []
  }
 ],
 "metadata": {
  "kernelspec": {
   "display_name": "Python 3",
   "language": "python",
   "name": "python3"
  },
  "language_info": {
   "codemirror_mode": {
    "name": "ipython",
    "version": 3
   },
   "file_extension": ".py",
   "mimetype": "text/x-python",
   "name": "python",
   "nbconvert_exporter": "python",
   "pygments_lexer": "ipython3",
   "version": "3.6.0"
  }
 },
 "nbformat": 4,
 "nbformat_minor": 2
}
