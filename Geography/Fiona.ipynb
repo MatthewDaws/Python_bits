{
 "cells": [
  {
   "cell_type": "markdown",
   "metadata": {},
   "source": [
    "# Fiona\n",
    "\n",
    "- Docs: http://toblerity.org/fiona/fiona.html\n",
    "- More recent: http://juanlu001-fiona.readthedocs.io/en/latest/"
   ]
  },
  {
   "cell_type": "code",
   "execution_count": 1,
   "metadata": {
    "collapsed": true
   },
   "outputs": [],
   "source": [
    "import os\n",
    "import zipfile\n",
    "import geopandas as gpd\n",
    "import shapely.geometry"
   ]
  },
  {
   "cell_type": "code",
   "execution_count": 3,
   "metadata": {
    "collapsed": false
   },
   "outputs": [
    {
     "data": {
      "text/html": [
       "<div>\n",
       "<table border=\"1\" class=\"dataframe\">\n",
       "  <thead>\n",
       "    <tr style=\"text-align: right;\">\n",
       "      <th></th>\n",
       "      <th>FULLNAME</th>\n",
       "      <th>LINEARID</th>\n",
       "      <th>MTFCC</th>\n",
       "      <th>RTTYP</th>\n",
       "      <th>geometry</th>\n",
       "    </tr>\n",
       "  </thead>\n",
       "  <tbody>\n",
       "    <tr>\n",
       "      <th>0</th>\n",
       "      <td>47th Pl Exd</td>\n",
       "      <td>110380277026</td>\n",
       "      <td>S1400</td>\n",
       "      <td>M</td>\n",
       "      <td>LINESTRING (-87.595765 41.81460799999999, -87....</td>\n",
       "    </tr>\n",
       "    <tr>\n",
       "      <th>1</th>\n",
       "      <td>Golden Spr</td>\n",
       "      <td>110380298305</td>\n",
       "      <td>S1400</td>\n",
       "      <td>M</td>\n",
       "      <td>LINESTRING (-87.921616 41.67378399999999, -87....</td>\n",
       "    </tr>\n",
       "    <tr>\n",
       "      <th>2</th>\n",
       "      <td>Edens Expy Spr</td>\n",
       "      <td>1104259027148</td>\n",
       "      <td>S1100</td>\n",
       "      <td>M</td>\n",
       "      <td>LINESTRING (-87.86542699999998 42.149693999999...</td>\n",
       "    </tr>\n",
       "    <tr>\n",
       "      <th>3</th>\n",
       "      <td>Edens Expy Spr</td>\n",
       "      <td>1104259564382</td>\n",
       "      <td>S1100</td>\n",
       "      <td>M</td>\n",
       "      <td>LINESTRING (-87.832262 42.14520399999999, -87....</td>\n",
       "    </tr>\n",
       "    <tr>\n",
       "      <th>4</th>\n",
       "      <td>Edens Expy Spr</td>\n",
       "      <td>1104472109755</td>\n",
       "      <td>S1100</td>\n",
       "      <td>M</td>\n",
       "      <td>LINESTRING (-87.874499 42.152788, -87.87439399...</td>\n",
       "    </tr>\n",
       "  </tbody>\n",
       "</table>\n",
       "</div>"
      ],
      "text/plain": [
       "         FULLNAME       LINEARID  MTFCC RTTYP  \\\n",
       "0     47th Pl Exd   110380277026  S1400     M   \n",
       "1      Golden Spr   110380298305  S1400     M   \n",
       "2  Edens Expy Spr  1104259027148  S1100     M   \n",
       "3  Edens Expy Spr  1104259564382  S1100     M   \n",
       "4  Edens Expy Spr  1104472109755  S1100     M   \n",
       "\n",
       "                                            geometry  \n",
       "0  LINESTRING (-87.595765 41.81460799999999, -87....  \n",
       "1  LINESTRING (-87.921616 41.67378399999999, -87....  \n",
       "2  LINESTRING (-87.86542699999998 42.149693999999...  \n",
       "3  LINESTRING (-87.832262 42.14520399999999, -87....  \n",
       "4  LINESTRING (-87.874499 42.152788, -87.87439399...  "
      ]
     },
     "execution_count": 3,
     "metadata": {},
     "output_type": "execute_result"
    }
   ],
   "source": [
    "datadir = os.path.join(\"/media\", \"disk\", \"TIGER Data\")\n",
    "#datadir = os.path.join(\"..\", \"..\", \"..\", \"Data\")\n",
    "gpd.GeoDataFrame.from_file(os.path.join(datadir, 'tl_2016_17031_roads')).head()"
   ]
  },
  {
   "cell_type": "code",
   "execution_count": 4,
   "metadata": {
    "collapsed": false
   },
   "outputs": [],
   "source": [
    "import fiona"
   ]
  },
  {
   "cell_type": "code",
   "execution_count": 5,
   "metadata": {
    "collapsed": false
   },
   "outputs": [
    {
     "name": "stdout",
     "output_type": "stream",
     "text": [
      "{'properties': OrderedDict([('LINEARID', 'str:22'), ('FULLNAME', 'str:100'), ('RTTYP', 'str:1'), ('MTFCC', 'str:5')]), 'geometry': 'LineString'}\n",
      "{'init': 'epsg:4269'}\n"
     ]
    }
   ],
   "source": [
    "with fiona.open(os.path.join(datadir, 'tl_2016_17031_roads')) as inp:\n",
    "    print(inp.schema)\n",
    "    print(inp.crs)\n",
    "    data = list(inp)"
   ]
  },
  {
   "cell_type": "code",
   "execution_count": 6,
   "metadata": {
    "collapsed": false
   },
   "outputs": [
    {
     "data": {
      "text/plain": [
       "{'geometry': {'coordinates': [(-87.595765, 41.814607999999986),\n",
       "   (-87.595702, 41.81463399999999),\n",
       "   (-87.59551599999999, 41.81471299999999),\n",
       "   (-87.59545399999999, 41.81474)],\n",
       "  'type': 'LineString'},\n",
       " 'id': '0',\n",
       " 'properties': OrderedDict([('LINEARID', '110380277026'),\n",
       "              ('FULLNAME', '47th Pl Exd'),\n",
       "              ('RTTYP', 'M'),\n",
       "              ('MTFCC', 'S1400')]),\n",
       " 'type': 'Feature'}"
      ]
     },
     "execution_count": 6,
     "metadata": {},
     "output_type": "execute_result"
    }
   ],
   "source": [
    "data[0]"
   ]
  },
  {
   "cell_type": "code",
   "execution_count": 7,
   "metadata": {
    "collapsed": false
   },
   "outputs": [
    {
     "data": {
      "text/plain": [
       "'47th Pl Exd'"
      ]
     },
     "execution_count": 7,
     "metadata": {},
     "output_type": "execute_result"
    }
   ],
   "source": [
    "data[0][\"properties\"][\"FULLNAME\"]"
   ]
  },
  {
   "cell_type": "markdown",
   "metadata": {},
   "source": [
    "# Make a zip file"
   ]
  },
  {
   "cell_type": "code",
   "execution_count": 8,
   "metadata": {
    "collapsed": false
   },
   "outputs": [],
   "source": [
    "import random\n",
    "\n",
    "frame = gpd.GeoDataFrame({\n",
    "    \"one\" : [random.random() for _ in range(10)],\n",
    "    \"two\" : [random.random() for _ in range(10)],\n",
    "    \"three\" : [random.random() for _ in range(10)]\n",
    "    })\n",
    "frame.geometry = [shapely.geometry.Point(random.random(), random.random()) for _ in range(10)]\n",
    "frame.to_file(\"test\")"
   ]
  },
  {
   "cell_type": "code",
   "execution_count": 9,
   "metadata": {
    "collapsed": false
   },
   "outputs": [
    {
     "data": {
      "text/html": [
       "<div>\n",
       "<table border=\"1\" class=\"dataframe\">\n",
       "  <thead>\n",
       "    <tr style=\"text-align: right;\">\n",
       "      <th></th>\n",
       "      <th>one</th>\n",
       "      <th>three</th>\n",
       "      <th>two</th>\n",
       "      <th>geometry</th>\n",
       "    </tr>\n",
       "  </thead>\n",
       "  <tbody>\n",
       "    <tr>\n",
       "      <th>0</th>\n",
       "      <td>0.783067</td>\n",
       "      <td>0.045687</td>\n",
       "      <td>0.487646</td>\n",
       "      <td>POINT (0.4396472637876062 0.6890521586267977)</td>\n",
       "    </tr>\n",
       "    <tr>\n",
       "      <th>1</th>\n",
       "      <td>0.126835</td>\n",
       "      <td>0.753684</td>\n",
       "      <td>0.653634</td>\n",
       "      <td>POINT (0.383758928109008 0.6665725154262104)</td>\n",
       "    </tr>\n",
       "    <tr>\n",
       "      <th>2</th>\n",
       "      <td>0.076807</td>\n",
       "      <td>0.774281</td>\n",
       "      <td>0.946211</td>\n",
       "      <td>POINT (0.864755392636642 0.8431393483222843)</td>\n",
       "    </tr>\n",
       "    <tr>\n",
       "      <th>3</th>\n",
       "      <td>0.334845</td>\n",
       "      <td>0.441787</td>\n",
       "      <td>0.498987</td>\n",
       "      <td>POINT (0.04187794934769429 0.7705385720293291)</td>\n",
       "    </tr>\n",
       "    <tr>\n",
       "      <th>4</th>\n",
       "      <td>0.826652</td>\n",
       "      <td>0.747254</td>\n",
       "      <td>0.964806</td>\n",
       "      <td>POINT (0.5228882449160618 0.9973027199725287)</td>\n",
       "    </tr>\n",
       "  </tbody>\n",
       "</table>\n",
       "</div>"
      ],
      "text/plain": [
       "        one     three       two  \\\n",
       "0  0.783067  0.045687  0.487646   \n",
       "1  0.126835  0.753684  0.653634   \n",
       "2  0.076807  0.774281  0.946211   \n",
       "3  0.334845  0.441787  0.498987   \n",
       "4  0.826652  0.747254  0.964806   \n",
       "\n",
       "                                         geometry  \n",
       "0   POINT (0.4396472637876062 0.6890521586267977)  \n",
       "1    POINT (0.383758928109008 0.6665725154262104)  \n",
       "2    POINT (0.864755392636642 0.8431393483222843)  \n",
       "3  POINT (0.04187794934769429 0.7705385720293291)  \n",
       "4   POINT (0.5228882449160618 0.9973027199725287)  "
      ]
     },
     "execution_count": 9,
     "metadata": {},
     "output_type": "execute_result"
    }
   ],
   "source": [
    "frame.head()"
   ]
  },
  {
   "cell_type": "code",
   "execution_count": 10,
   "metadata": {
    "collapsed": false
   },
   "outputs": [],
   "source": [
    "zf = zipfile.ZipFile(\"test.zip\", \"w\")\n",
    "for name in os.listdir(\"test\"):\n",
    "    filename = os.path.join(\"test\", name)\n",
    "    outname = name\n",
    "    with open(filename, \"rb\") as f:\n",
    "        data = f.read()\n",
    "    with zf.open(outname, \"w\") as f:\n",
    "        f.write(data)\n",
    "zf.close()"
   ]
  },
  {
   "cell_type": "markdown",
   "metadata": {},
   "source": [
    "## Load back using `fiona`\n",
    "\n",
    "This doesn't work on linux (at least, my install)."
   ]
  },
  {
   "cell_type": "code",
   "execution_count": 23,
   "metadata": {
    "collapsed": false
   },
   "outputs": [
    {
     "data": {
      "text/plain": [
       "{'ARCGEN': 'r',\n",
       " 'AeronavFAA': 'r',\n",
       " 'BNA': 'raw',\n",
       " 'DGN': 'raw',\n",
       " 'DXF': 'raw',\n",
       " 'ESRI Shapefile': 'raw',\n",
       " 'GPKG': 'rw',\n",
       " 'GPSTrackMaker': 'raw',\n",
       " 'GPX': 'raw',\n",
       " 'GeoJSON': 'rw',\n",
       " 'Idrisi': 'r',\n",
       " 'MapInfo File': 'raw',\n",
       " 'OpenFileGDB': 'r',\n",
       " 'PCIDSK': 'r',\n",
       " 'SEGY': 'r',\n",
       " 'SUA': 'r'}"
      ]
     },
     "execution_count": 23,
     "metadata": {},
     "output_type": "execute_result"
    }
   ],
   "source": [
    "fiona.supported_drivers"
   ]
  },
  {
   "cell_type": "code",
   "execution_count": 26,
   "metadata": {
    "collapsed": false
   },
   "outputs": [
    {
     "data": {
      "text/plain": [
       "'1.7.3'"
      ]
     },
     "execution_count": 26,
     "metadata": {},
     "output_type": "execute_result"
    }
   ],
   "source": [
    "fiona.__version__"
   ]
  },
  {
   "cell_type": "code",
   "execution_count": 21,
   "metadata": {
    "collapsed": false
   },
   "outputs": [
    {
     "ename": "ValueError",
     "evalue": "No data available at path '/vsizip/test.zip'",
     "output_type": "error",
     "traceback": [
      "\u001b[0;31m---------------------------------------------------------------------------\u001b[0m",
      "\u001b[0;31mValueError\u001b[0m                                Traceback (most recent call last)",
      "\u001b[0;32m<ipython-input-21-a0d3b2e07608>\u001b[0m in \u001b[0;36m<module>\u001b[0;34m()\u001b[0m\n\u001b[0;32m----> 1\u001b[0;31m \u001b[0mfiona\u001b[0m\u001b[0;34m.\u001b[0m\u001b[0mlistlayers\u001b[0m\u001b[0;34m(\u001b[0m\u001b[0;34m\"\"\u001b[0m\u001b[0;34m,\u001b[0m \u001b[0mvfs\u001b[0m\u001b[0;34m=\u001b[0m\u001b[0;34m\"zip://test.zip\"\u001b[0m\u001b[0;34m)\u001b[0m\u001b[0;34m\u001b[0m\u001b[0m\n\u001b[0m",
      "\u001b[0;32m/nfs/see-fs-02_users/matmdpd/anaconda3/lib/python3.6/site-packages/fiona/__init__.py\u001b[0m in \u001b[0;36mlistlayers\u001b[0;34m(path, vfs)\u001b[0m\n\u001b[1;32m    238\u001b[0m \u001b[0;34m\u001b[0m\u001b[0m\n\u001b[1;32m    239\u001b[0m     \u001b[0;32mwith\u001b[0m \u001b[0mdrivers\u001b[0m\u001b[0;34m(\u001b[0m\u001b[0;34m)\u001b[0m\u001b[0;34m:\u001b[0m\u001b[0;34m\u001b[0m\u001b[0m\n\u001b[0;32m--> 240\u001b[0;31m         \u001b[0;32mreturn\u001b[0m \u001b[0m_listlayers\u001b[0m\u001b[0;34m(\u001b[0m\u001b[0mvsi_path\u001b[0m\u001b[0;34m(\u001b[0m\u001b[0mpath\u001b[0m\u001b[0;34m,\u001b[0m \u001b[0mvsi\u001b[0m\u001b[0;34m,\u001b[0m \u001b[0marchive\u001b[0m\u001b[0;34m)\u001b[0m\u001b[0;34m)\u001b[0m\u001b[0;34m\u001b[0m\u001b[0m\n\u001b[0m\u001b[1;32m    241\u001b[0m \u001b[0;34m\u001b[0m\u001b[0m\n\u001b[1;32m    242\u001b[0m \u001b[0;34m\u001b[0m\u001b[0m\n",
      "\u001b[0;32mfiona/ogrext.pyx\u001b[0m in \u001b[0;36mfiona.ogrext._listlayers (fiona/ogrext.c:21559)\u001b[0;34m()\u001b[0m\n",
      "\u001b[0;31mValueError\u001b[0m: No data available at path '/vsizip/test.zip'"
     ]
    }
   ],
   "source": [
    "fiona.listlayers(\"\", vfs=\"zip://test.zip\")"
   ]
  },
  {
   "cell_type": "code",
   "execution_count": 18,
   "metadata": {
    "collapsed": false
   },
   "outputs": [
    {
     "name": "stdout",
     "output_type": "stream",
     "text": [
      "{'properties': OrderedDict([('one', 'float:24.15'), ('three', 'float:24.15'), ('two', 'float:24.15')]), 'geometry': 'Point'}\n",
      "{}\n",
      "{'type': 'Feature', 'id': '0', 'geometry': {'type': 'Point', 'coordinates': (0.485480121638858, 0.2280057304317772)}, 'properties': OrderedDict([('one', 0.10247870954811), ('three', 0.195078343273763), ('two', 0.044149706782881)])}\n"
     ]
    }
   ],
   "source": [
    "with fiona.open(\"\", vfs=\"zip://test.zip\") as inp:\n",
    "    print(inp.schema)\n",
    "    print(inp.crs)\n",
    "    print(next(iter(inp)))"
   ]
  },
  {
   "cell_type": "markdown",
   "metadata": {},
   "source": [
    "# Open an externally produced file\n",
    "\n",
    "Didn't work on linux, but does on Windows.  What's different?"
   ]
  },
  {
   "cell_type": "code",
   "execution_count": 33,
   "metadata": {
    "collapsed": false
   },
   "outputs": [
    {
     "name": "stdout",
     "output_type": "stream",
     "text": [
      "f:\\TIGER Data\\tl_2016_17031_roads.zip\n"
     ]
    },
    {
     "data": {
      "text/plain": [
       "[<ZipInfo filename='tl_2016_17031_roads.cpg' filemode='-rwxrwxr-x' file_size=5>,\n",
       " <ZipInfo filename='tl_2016_17031_roads.dbf' compress_type=deflate filemode='-rwxrwxr-x' file_size=10236312 compress_size=771563>,\n",
       " <ZipInfo filename='tl_2016_17031_roads.prj' compress_type=deflate filemode='-rwxrwxr-x' file_size=165 compress_size=133>,\n",
       " <ZipInfo filename='tl_2016_17031_roads.shp' compress_type=deflate filemode='-rwxrwxr-x' file_size=23335716 compress_size=13720745>,\n",
       " <ZipInfo filename='tl_2016_17031_roads.shp.ea.iso.xml' compress_type=deflate filemode='-rwxrwxrwx' file_size=20621 compress_size=2000>,\n",
       " <ZipInfo filename='tl_2016_17031_roads.shp.iso.xml' compress_type=deflate filemode='-rwxrwxrwx' file_size=291967 compress_size=11976>,\n",
       " <ZipInfo filename='tl_2016_17031_roads.shp.xml' compress_type=deflate filemode='-rwxrwxrwx' file_size=92101 compress_size=8070>,\n",
       " <ZipInfo filename='tl_2016_17031_roads.shx' compress_type=deflate filemode='-rwxrwxr-x' file_size=634900 compress_size=308395>]"
      ]
     },
     "execution_count": 33,
     "metadata": {},
     "output_type": "execute_result"
    }
   ],
   "source": [
    "filename = os.path.join(datadir, 'tl_2016_17031_roads.zip')\n",
    "filename = os.path.join(\"f:\\\\\", \"TIGER Data\", 'tl_2016_17031_roads.zip')\n",
    "print(filename)\n",
    "zf = zipfile.ZipFile(filename)\n",
    "zf.filelist"
   ]
  },
  {
   "cell_type": "code",
   "execution_count": 34,
   "metadata": {
    "collapsed": false
   },
   "outputs": [
    {
     "data": {
      "text/plain": [
       "['tl_2016_17031_roads']"
      ]
     },
     "execution_count": 34,
     "metadata": {},
     "output_type": "execute_result"
    }
   ],
   "source": [
    "fiona.listlayers(\"\", vfs=\"zip://\"+filename)"
   ]
  },
  {
   "cell_type": "code",
   "execution_count": 60,
   "metadata": {
    "collapsed": false
   },
   "outputs": [
    {
     "name": "stdout",
     "output_type": "stream",
     "text": [
      "{'properties': OrderedDict([('LINEARID', 'str:22'), ('FULLNAME', 'str:100'), ('RTTYP', 'str:1'), ('MTFCC', 'str:5')]), 'geometry': 'LineString'}\n",
      "{'init': 'epsg:4269'}\n"
     ]
    },
    {
     "data": {
      "text/plain": [
       "{'geometry': {'coordinates': [(-87.595765, 41.814607999999986),\n",
       "   (-87.595702, 41.81463399999999),\n",
       "   (-87.59551599999999, 41.81471299999999),\n",
       "   (-87.59545399999999, 41.81474)],\n",
       "  'type': 'LineString'},\n",
       " 'id': '0',\n",
       " 'properties': OrderedDict([('LINEARID', '110380277026'),\n",
       "              ('FULLNAME', '47th Pl Exd'),\n",
       "              ('RTTYP', 'M'),\n",
       "              ('MTFCC', 'S1400')]),\n",
       " 'type': 'Feature'}"
      ]
     },
     "execution_count": 60,
     "metadata": {},
     "output_type": "execute_result"
    }
   ],
   "source": [
    "with fiona.open(\"\", vfs=\"zip://\"+filename) as inp:\n",
    "    schema = inp.schema\n",
    "    print(schema)\n",
    "    print(inp.crs)\n",
    "    data = list(inp)\n",
    "data[0]"
   ]
  },
  {
   "cell_type": "code",
   "execution_count": 52,
   "metadata": {
    "collapsed": false
   },
   "outputs": [
    {
     "data": {
      "text/plain": [
       "'1.7.4'"
      ]
     },
     "execution_count": 52,
     "metadata": {},
     "output_type": "execute_result"
    }
   ],
   "source": [
    "fiona.__version__"
   ]
  },
  {
   "cell_type": "markdown",
   "metadata": {},
   "source": [
    "# With shapely\n",
    "\n",
    "`shapely` has a very nice way of forming geometry..."
   ]
  },
  {
   "cell_type": "code",
   "execution_count": 61,
   "metadata": {
    "collapsed": true
   },
   "outputs": [],
   "source": [
    "geometry = [shapely.geometry.asShape(row[\"geometry\"]) for row in data]"
   ]
  },
  {
   "cell_type": "code",
   "execution_count": 62,
   "metadata": {
    "collapsed": false
   },
   "outputs": [
    {
     "data": {
      "text/html": [
       "<div>\n",
       "<table border=\"1\" class=\"dataframe\">\n",
       "  <thead>\n",
       "    <tr style=\"text-align: right;\">\n",
       "      <th></th>\n",
       "      <th>LINEARID</th>\n",
       "      <th>FULLNAME</th>\n",
       "      <th>RTTYP</th>\n",
       "      <th>MTFCC</th>\n",
       "      <th>geometry</th>\n",
       "    </tr>\n",
       "  </thead>\n",
       "  <tbody>\n",
       "    <tr>\n",
       "      <th>0</th>\n",
       "      <td>110380277026</td>\n",
       "      <td>47th Pl Exd</td>\n",
       "      <td>M</td>\n",
       "      <td>S1400</td>\n",
       "      <td>LINESTRING (-87.595765 41.81460799999999, -87....</td>\n",
       "    </tr>\n",
       "    <tr>\n",
       "      <th>1</th>\n",
       "      <td>110380298305</td>\n",
       "      <td>Golden Spr</td>\n",
       "      <td>M</td>\n",
       "      <td>S1400</td>\n",
       "      <td>LINESTRING (-87.921616 41.67378399999999, -87....</td>\n",
       "    </tr>\n",
       "    <tr>\n",
       "      <th>2</th>\n",
       "      <td>1104259027148</td>\n",
       "      <td>Edens Expy Spr</td>\n",
       "      <td>M</td>\n",
       "      <td>S1100</td>\n",
       "      <td>LINESTRING (-87.86542699999998 42.149693999999...</td>\n",
       "    </tr>\n",
       "    <tr>\n",
       "      <th>3</th>\n",
       "      <td>1104259564382</td>\n",
       "      <td>Edens Expy Spr</td>\n",
       "      <td>M</td>\n",
       "      <td>S1100</td>\n",
       "      <td>LINESTRING (-87.832262 42.14520399999999, -87....</td>\n",
       "    </tr>\n",
       "    <tr>\n",
       "      <th>4</th>\n",
       "      <td>1104472109755</td>\n",
       "      <td>Edens Expy Spr</td>\n",
       "      <td>M</td>\n",
       "      <td>S1100</td>\n",
       "      <td>LINESTRING (-87.874499 42.152788, -87.87439399...</td>\n",
       "    </tr>\n",
       "  </tbody>\n",
       "</table>\n",
       "</div>"
      ],
      "text/plain": [
       "        LINEARID        FULLNAME RTTYP  MTFCC  \\\n",
       "0   110380277026     47th Pl Exd     M  S1400   \n",
       "1   110380298305      Golden Spr     M  S1400   \n",
       "2  1104259027148  Edens Expy Spr     M  S1100   \n",
       "3  1104259564382  Edens Expy Spr     M  S1100   \n",
       "4  1104472109755  Edens Expy Spr     M  S1100   \n",
       "\n",
       "                                            geometry  \n",
       "0  LINESTRING (-87.595765 41.81460799999999, -87....  \n",
       "1  LINESTRING (-87.921616 41.67378399999999, -87....  \n",
       "2  LINESTRING (-87.86542699999998 42.149693999999...  \n",
       "3  LINESTRING (-87.832262 42.14520399999999, -87....  \n",
       "4  LINESTRING (-87.874499 42.152788, -87.87439399...  "
      ]
     },
     "execution_count": 62,
     "metadata": {},
     "output_type": "execute_result"
    }
   ],
   "source": [
    "frame = gpd.GeoDataFrame()\n",
    "for name in schema[\"properties\"]:\n",
    "    frame[name] = [row[\"properties\"][name] for row in data]\n",
    "frame.geometry = geometry\n",
    "frame.head()"
   ]
  },
  {
   "cell_type": "code",
   "execution_count": 64,
   "metadata": {
    "collapsed": true
   },
   "outputs": [],
   "source": [
    "def our_load(name):\n",
    "    with fiona.open(name) as inp:\n",
    "        header = list(inp.schema[\"properties\"])\n",
    "        data = [list() for _ in header]\n",
    "        geo = []\n",
    "        for row in inp:\n",
    "            for i, name in enumerate(header):\n",
    "                data[i].append(row[\"properties\"][name])\n",
    "            geo.append(shapely.geometry.asShape(row[\"geometry\"]))\n",
    "    frame = gpd.GeoDataFrame({name : column for name, column in zip(header, data)})\n",
    "    frame.geometry = geo\n",
    "    frame.crs = inp.crs\n",
    "    return frame"
   ]
  },
  {
   "cell_type": "code",
   "execution_count": 66,
   "metadata": {
    "collapsed": false
   },
   "outputs": [
    {
     "name": "stdout",
     "output_type": "stream",
     "text": [
      "79350\n"
     ]
    },
    {
     "data": {
      "text/html": [
       "<div>\n",
       "<table border=\"1\" class=\"dataframe\">\n",
       "  <thead>\n",
       "    <tr style=\"text-align: right;\">\n",
       "      <th></th>\n",
       "      <th>FULLNAME</th>\n",
       "      <th>LINEARID</th>\n",
       "      <th>MTFCC</th>\n",
       "      <th>RTTYP</th>\n",
       "      <th>geometry</th>\n",
       "    </tr>\n",
       "  </thead>\n",
       "  <tbody>\n",
       "    <tr>\n",
       "      <th>0</th>\n",
       "      <td>47th Pl Exd</td>\n",
       "      <td>110380277026</td>\n",
       "      <td>S1400</td>\n",
       "      <td>M</td>\n",
       "      <td>LINESTRING (-87.595765 41.81460799999999, -87....</td>\n",
       "    </tr>\n",
       "    <tr>\n",
       "      <th>1</th>\n",
       "      <td>Golden Spr</td>\n",
       "      <td>110380298305</td>\n",
       "      <td>S1400</td>\n",
       "      <td>M</td>\n",
       "      <td>LINESTRING (-87.921616 41.67378399999999, -87....</td>\n",
       "    </tr>\n",
       "    <tr>\n",
       "      <th>2</th>\n",
       "      <td>Edens Expy Spr</td>\n",
       "      <td>1104259027148</td>\n",
       "      <td>S1100</td>\n",
       "      <td>M</td>\n",
       "      <td>LINESTRING (-87.86542699999998 42.149693999999...</td>\n",
       "    </tr>\n",
       "    <tr>\n",
       "      <th>3</th>\n",
       "      <td>Edens Expy Spr</td>\n",
       "      <td>1104259564382</td>\n",
       "      <td>S1100</td>\n",
       "      <td>M</td>\n",
       "      <td>LINESTRING (-87.832262 42.14520399999999, -87....</td>\n",
       "    </tr>\n",
       "    <tr>\n",
       "      <th>4</th>\n",
       "      <td>Edens Expy Spr</td>\n",
       "      <td>1104472109755</td>\n",
       "      <td>S1100</td>\n",
       "      <td>M</td>\n",
       "      <td>LINESTRING (-87.874499 42.152788, -87.87439399...</td>\n",
       "    </tr>\n",
       "  </tbody>\n",
       "</table>\n",
       "</div>"
      ],
      "text/plain": [
       "         FULLNAME       LINEARID  MTFCC RTTYP  \\\n",
       "0     47th Pl Exd   110380277026  S1400     M   \n",
       "1      Golden Spr   110380298305  S1400     M   \n",
       "2  Edens Expy Spr  1104259027148  S1100     M   \n",
       "3  Edens Expy Spr  1104259564382  S1100     M   \n",
       "4  Edens Expy Spr  1104472109755  S1100     M   \n",
       "\n",
       "                                            geometry  \n",
       "0  LINESTRING (-87.595765 41.81460799999999, -87....  \n",
       "1  LINESTRING (-87.921616 41.67378399999999, -87....  \n",
       "2  LINESTRING (-87.86542699999998 42.149693999999...  \n",
       "3  LINESTRING (-87.832262 42.14520399999999, -87....  \n",
       "4  LINESTRING (-87.874499 42.152788, -87.87439399...  "
      ]
     },
     "execution_count": 66,
     "metadata": {},
     "output_type": "execute_result"
    }
   ],
   "source": [
    "filename = os.path.join(datadir, 'tl_2016_17031_roads')\n",
    "frame = our_load(filename)\n",
    "print(len(frame))\n",
    "frame.head()"
   ]
  },
  {
   "cell_type": "code",
   "execution_count": 67,
   "metadata": {
    "collapsed": false
   },
   "outputs": [
    {
     "name": "stdout",
     "output_type": "stream",
     "text": [
      "79350\n"
     ]
    },
    {
     "data": {
      "text/html": [
       "<div>\n",
       "<table border=\"1\" class=\"dataframe\">\n",
       "  <thead>\n",
       "    <tr style=\"text-align: right;\">\n",
       "      <th></th>\n",
       "      <th>FULLNAME</th>\n",
       "      <th>LINEARID</th>\n",
       "      <th>MTFCC</th>\n",
       "      <th>RTTYP</th>\n",
       "      <th>geometry</th>\n",
       "    </tr>\n",
       "  </thead>\n",
       "  <tbody>\n",
       "    <tr>\n",
       "      <th>0</th>\n",
       "      <td>47th Pl Exd</td>\n",
       "      <td>110380277026</td>\n",
       "      <td>S1400</td>\n",
       "      <td>M</td>\n",
       "      <td>LINESTRING (-87.595765 41.81460799999999, -87....</td>\n",
       "    </tr>\n",
       "    <tr>\n",
       "      <th>1</th>\n",
       "      <td>Golden Spr</td>\n",
       "      <td>110380298305</td>\n",
       "      <td>S1400</td>\n",
       "      <td>M</td>\n",
       "      <td>LINESTRING (-87.921616 41.67378399999999, -87....</td>\n",
       "    </tr>\n",
       "    <tr>\n",
       "      <th>2</th>\n",
       "      <td>Edens Expy Spr</td>\n",
       "      <td>1104259027148</td>\n",
       "      <td>S1100</td>\n",
       "      <td>M</td>\n",
       "      <td>LINESTRING (-87.86542699999998 42.149693999999...</td>\n",
       "    </tr>\n",
       "    <tr>\n",
       "      <th>3</th>\n",
       "      <td>Edens Expy Spr</td>\n",
       "      <td>1104259564382</td>\n",
       "      <td>S1100</td>\n",
       "      <td>M</td>\n",
       "      <td>LINESTRING (-87.832262 42.14520399999999, -87....</td>\n",
       "    </tr>\n",
       "    <tr>\n",
       "      <th>4</th>\n",
       "      <td>Edens Expy Spr</td>\n",
       "      <td>1104472109755</td>\n",
       "      <td>S1100</td>\n",
       "      <td>M</td>\n",
       "      <td>LINESTRING (-87.874499 42.152788, -87.87439399...</td>\n",
       "    </tr>\n",
       "  </tbody>\n",
       "</table>\n",
       "</div>"
      ],
      "text/plain": [
       "         FULLNAME       LINEARID  MTFCC RTTYP  \\\n",
       "0     47th Pl Exd   110380277026  S1400     M   \n",
       "1      Golden Spr   110380298305  S1400     M   \n",
       "2  Edens Expy Spr  1104259027148  S1100     M   \n",
       "3  Edens Expy Spr  1104259564382  S1100     M   \n",
       "4  Edens Expy Spr  1104472109755  S1100     M   \n",
       "\n",
       "                                            geometry  \n",
       "0  LINESTRING (-87.595765 41.81460799999999, -87....  \n",
       "1  LINESTRING (-87.921616 41.67378399999999, -87....  \n",
       "2  LINESTRING (-87.86542699999998 42.149693999999...  \n",
       "3  LINESTRING (-87.832262 42.14520399999999, -87....  \n",
       "4  LINESTRING (-87.874499 42.152788, -87.87439399...  "
      ]
     },
     "execution_count": 67,
     "metadata": {},
     "output_type": "execute_result"
    }
   ],
   "source": [
    "frame = gpd.GeoDataFrame.from_file(filename)\n",
    "print(len(frame))\n",
    "frame.head()"
   ]
  },
  {
   "cell_type": "code",
   "execution_count": 68,
   "metadata": {
    "collapsed": false
   },
   "outputs": [
    {
     "name": "stdout",
     "output_type": "stream",
     "text": [
      "1 loop, best of 3: 3.24 s per loop\n"
     ]
    }
   ],
   "source": [
    "%timeit(our_load(filename))"
   ]
  },
  {
   "cell_type": "code",
   "execution_count": 69,
   "metadata": {
    "collapsed": false
   },
   "outputs": [
    {
     "name": "stdout",
     "output_type": "stream",
     "text": [
      "1 loop, best of 3: 9.45 s per loop\n"
     ]
    }
   ],
   "source": [
    "%timeit(gpd.GeoDataFrame.from_file(filename))"
   ]
  },
  {
   "cell_type": "code",
   "execution_count": null,
   "metadata": {
    "collapsed": true
   },
   "outputs": [],
   "source": []
  }
 ],
 "metadata": {
  "kernelspec": {
   "display_name": "Python 3",
   "language": "python",
   "name": "python3"
  },
  "language_info": {
   "codemirror_mode": {
    "name": "ipython",
    "version": 3
   },
   "file_extension": ".py",
   "mimetype": "text/x-python",
   "name": "python",
   "nbconvert_exporter": "python",
   "pygments_lexer": "ipython3",
   "version": "3.6.0"
  }
 },
 "nbformat": 4,
 "nbformat_minor": 2
}
