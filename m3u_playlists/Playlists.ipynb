{
 "metadata": {
  "name": "",
  "signature": "sha256:7f374b987c75b2ff0f1ec2fea9df953f8b558f29566a9ce5f5fd61203a7b1fe3"
 },
 "nbformat": 3,
 "nbformat_minor": 0,
 "worksheets": [
  {
   "cells": [
    {
     "cell_type": "markdown",
     "metadata": {},
     "source": [
      "I have ripped my CDs to ogg files which are organised in subdirectories of the form \"Artist - Album Title\" and inside each directory the files are \"## Title.ogg\" where ## is 01, 02, 03, ...  (Wait, I own CDs.  I know, quaint).\n",
      "\n",
      "I want to create [m3u files](https://en.wikipedia.org/wiki/M3U) from the meta-data in the OGG files as album playlists."
     ]
    },
    {
     "cell_type": "heading",
     "level": 2,
     "metadata": {},
     "source": [
      "m3u format"
     ]
    },
    {
     "cell_type": "markdown",
     "metadata": {},
     "source": [
      "First line: `#EXTM3U`\n",
      "\n",
      "Next n lines:\n",
      "\n",
      "`#EXTINF:##, Artist - Title`  where ## is the length in seconds\n",
      "\n",
      "`Filename`"
     ]
    },
    {
     "cell_type": "heading",
     "level": 1,
     "metadata": {},
     "source": [
      "OGG Info"
     ]
    },
    {
     "cell_type": "markdown",
     "metadata": {},
     "source": [
      "We can read OGG metadata easily using the `ogginfo.exe` command line tool.  My version, 1.2.0 (which is ancient) you can extract the following information:\n",
      "\n",
      "    title=\n",
      "    artist=\n",
      "    album=\n",
      "    tracknumber=\n",
      "    \n",
      "The we have various \"streams\", probably an error for a pure music file to contain more than 1 stream.  Something like:\n",
      "\n",
      "    Vorbis stream 1:\n",
      "        Total data length: 2322366 bytes\n",
      "        Playback length: 3m:03.000s\n",
      "        Average bitrate: 101.524197 kb/s"
     ]
    },
    {
     "cell_type": "heading",
     "level": 1,
     "metadata": {},
     "source": [
      "Simple code"
     ]
    },
    {
     "cell_type": "code",
     "collapsed": false,
     "input": [
      "import os\n",
      "\n",
      "filepath = \"..\\..\\..\\..\\Music\"\n",
      "os.listdir(filepath)[:5]"
     ],
     "language": "python",
     "metadata": {},
     "outputs": [
      {
       "metadata": {},
       "output_type": "pyout",
       "prompt_number": 6,
       "text": [
        "['30 Seconds to Mars - A Beautiful Lie',\n",
        " '30 Seconds to Mars - A Beautiful Lie.m3u',\n",
        " 'Air - Moon Safari',\n",
        " 'Air - Moon Safari.m3u',\n",
        " 'Amorphous Androgynous - Tales Of Ephidrina']"
       ]
      }
     ],
     "prompt_number": 6
    },
    {
     "cell_type": "code",
     "collapsed": false,
     "input": [
      "walker = os.walk(filepath)\n",
      "root, dirs, files = next(walker)\n",
      "root"
     ],
     "language": "python",
     "metadata": {},
     "outputs": [
      {
       "metadata": {},
       "output_type": "pyout",
       "prompt_number": 11,
       "text": [
        "'..\\\\..\\\\..\\\\..\\\\Music'"
       ]
      }
     ],
     "prompt_number": 11
    },
    {
     "cell_type": "code",
     "collapsed": false,
     "input": [
      "dirs[:5]"
     ],
     "language": "python",
     "metadata": {},
     "outputs": [
      {
       "metadata": {},
       "output_type": "pyout",
       "prompt_number": 14,
       "text": [
        "['30 Seconds to Mars - A Beautiful Lie',\n",
        " 'Air - Moon Safari',\n",
        " 'Amorphous Androgynous - Tales Of Ephidrina',\n",
        " 'Amorphous Androgynous - The Isness',\n",
        " 'APHEX TWIN - SYRO']"
       ]
      }
     ],
     "prompt_number": 14
    },
    {
     "cell_type": "code",
     "collapsed": false,
     "input": [
      "import subprocess\n",
      "\n",
      "cmd = os.path.join(filepath,\"ogginfo.exe\")\n",
      "filename = os.path.join(filepath, \"30 Seconds to Mars - A Beautiful Lie\", \"01 Attack.ogg\")\n",
      "\n",
      "proc = subprocess.Popen([cmd, filename], stdout=subprocess.PIPE, universal_newlines=True)\n",
      "for x in proc.stdout:\n",
      "    print(x, end=\"\")"
     ],
     "language": "python",
     "metadata": {},
     "outputs": [
      {
       "output_type": "stream",
       "stream": "stdout",
       "text": [
        "Processing file \"..\\..\\..\\..\\Music\\30 Seconds to Mars - A Beautiful Lie\\01 Attack.ogg\"...\n",
        "\n",
        "New logical stream (#1, serial: 000064ca): type vorbis\n",
        "Vorbis headers parsed for stream 1, information follows...\n",
        "Version: 0\n",
        "Vendor: Xiph.Org libVorbis I 20100325 (Everywhere)\n",
        "Channels: 2\n",
        "Rate: 44100\n",
        "\n",
        "Nominal bitrate: 112.000000 kb/s\n",
        "Upper bitrate not set\n",
        "Lower bitrate not set\n",
        "User comments section follows...\n",
        "\ttitle=Attack\n",
        "\tartist=30 Seconds to Mars\n",
        "\talbum=A Beautiful Lie\n",
        "\ttracknumber=01\n",
        "Vorbis stream 1:\n",
        "\tTotal data length: 2582397 bytes\n",
        "\tPlayback length: 3m:09.199s\n",
        "\tAverage bitrate: 109.192262 kb/s\n",
        "Logical stream 1 ended\n"
       ]
      }
     ],
     "prompt_number": 26
    },
    {
     "cell_type": "code",
     "collapsed": false,
     "input": [
      "import subprocess\n",
      "import itertools\n",
      "import re\n",
      "import math\n",
      "from collections import namedtuple\n",
      "OggInfo = namedtuple(\"OggInfo\", [\"title\", \"artist\", \"album\", \"tracknumber\", \"length\"])\n",
      "\n",
      "def run_ogg_info(cmdpath, filename):\n",
      "    \"\"\"Run ogginfo.exe from `cmdpath` on `filename`.\n",
      "    Returns OggInfo object.\"\"\"\n",
      "    proc = subprocess.Popen([cmd, filename], stdout=subprocess.PIPE, universal_newlines=True)\n",
      "    data = list(proc.stdout)\n",
      "    metadata = { \"title\": None, \"artist\": None, \"album\": None, \"tracknumber\": None, \"length\": None }\n",
      "    # Find User comments\n",
      "    userdata = itertools.dropwhile(lambda s : not s.startswith(\"User comments section follows\"), data)\n",
      "    for line in userdata:\n",
      "        for st in [\"title\", \"artist\", \"album\", \"tracknumber\"]:\n",
      "            m = re.search(\"{}\\s*=\\s*(.*)\".format(st), line)\n",
      "            if m != None:\n",
      "                metadata[st] = m.group(1)\n",
      "    # Find stream information\n",
      "    streamdata = itertools.dropwhile(lambda s : not s.startswith(\"Vorbis stream\"), data)\n",
      "    for line in streamdata:\n",
      "        m = re.search(\"Playback length:\\s*(.*)\", line)\n",
      "        if m != None:\n",
      "            # Expect format \"{int}m:{float}s\"\n",
      "            t = re.search(\"(\\d+)m:([\\d\\.]+)s\", m.group(1))\n",
      "            if t == None:\n",
      "                raise Exception(\"Unknown time code: '{}'\".format(m.group(1)))\n",
      "            else:\n",
      "                metadata[\"length\"] = int(t.group(1)) * 60 + math.ceil(float(t.group(2)))\n",
      "    # Return\n",
      "    return OggInfo(metadata[\"title\"], metadata[\"artist\"], metadata[\"album\"],\n",
      "                   metadata[\"tracknumber\"], metadata[\"length\"])\n",
      "        \n",
      "run_ogg_info(os.path.join(filepath,\"ogginfo.exe\"),\n",
      "        os.path.join(filepath, \"30 Seconds to Mars - A Beautiful Lie\", \"01 Attack.ogg\") )"
     ],
     "language": "python",
     "metadata": {},
     "outputs": [
      {
       "metadata": {},
       "output_type": "pyout",
       "prompt_number": 54,
       "text": [
        "OggInfo(title='Attack', artist='30 Seconds to Mars', album='A Beautiful Lie', tracknumber='01', length=190)"
       ]
      }
     ],
     "prompt_number": 54
    },
    {
     "cell_type": "code",
     "collapsed": false,
     "input": [
      "def get_sorted_filenames(directory):\n",
      "    walker = os.walk(directory)\n",
      "    _, dirs, files = next(walker)\n",
      "    if len(dirs) > 0:\n",
      "        raise Exception(\"{} contains subdirectories, which we don't expect!\".format(directory))\n",
      "    files.sort()\n",
      "    return files\n",
      "    \n",
      "get_sorted_filenames(os.path.join(filepath, dirs[0]))"
     ],
     "language": "python",
     "metadata": {},
     "outputs": [
      {
       "metadata": {},
       "output_type": "pyout",
       "prompt_number": 55,
       "text": [
        "['01 Attack.ogg',\n",
        " '02 A Beautiful Lie.ogg',\n",
        " '03 The Kill.ogg',\n",
        " '04 Was it a Dream_.ogg',\n",
        " '05 The Fantasy.ogg',\n",
        " '06 Savior.ogg',\n",
        " '07 From Yesterday.ogg',\n",
        " '08 The Story.ogg',\n",
        " '09 R-Evolve.ogg',\n",
        " '10 A Modern Myth _ Kill (Rebirth).ogg',\n",
        " '11 Battle of One (Bonus track).ogg',\n",
        " '12 Hunter (Bonus track).ogg']"
       ]
      }
     ],
     "prompt_number": 55
    },
    {
     "cell_type": "code",
     "collapsed": false,
     "input": [
      "import sys\n",
      "ogginfo_path = os.path.join(filepath,\"ogginfo.exe\")\n",
      "\n",
      "def make_m3u(directory, output_filename):\n",
      "    #with open(output_filename, \"w\") as f:\n",
      "    f = sys.stderr\n",
      "    print(\"#EXTM3U\", file=f)\n",
      "    for file in get_sorted_filenames(directory):\n",
      "        data = run_ogg_info(ogginfo_path, os.path.join(directory, file))\n",
      "        print(\"#EXTINF:{},{} - {}\".format(data.length, data.artist, data.title), file=f)\n",
      "        fullfilename = os.path.join(directory, file)\n",
      "        base, filename = os.path.split(fullfilename)\n",
      "        _, firstdir = os.path.split(base)\n",
      "        print(os.path.join(firstdir, filename), file=f)\n",
      "\n",
      "make_m3u(os.path.join(filepath,dirs[0]), \"\")"
     ],
     "language": "python",
     "metadata": {},
     "outputs": [
      {
       "output_type": "stream",
       "stream": "stderr",
       "text": [
        "#EXTM3U\n",
        "#EXTINF:190,30 Seconds to Mars - Attack\n",
        "30 Seconds to Mars - A Beautiful Lie\\01 Attack.ogg\n",
        "#EXTINF:246,30 Seconds to Mars - A Beautiful Lie"
       ]
      },
      {
       "output_type": "stream",
       "stream": "stderr",
       "text": [
        "\n",
        "30 Seconds to Mars - A Beautiful Lie\\02 A Beautiful Lie.ogg\n",
        "#EXTINF:232,30 Seconds to Mars - The Kill\n",
        "30 Seconds to Mars - A Beautiful Lie\\03 The Kill.ogg\n",
        "#EXTINF:256,30 Seconds to Mars - Was it a Dream_\n",
        "30 Seconds to Mars - A Beautiful Lie\\04 Was it a Dream_.ogg\n",
        "#EXTINF:270,30 Seconds to Mars - The Fantasy"
       ]
      },
      {
       "output_type": "stream",
       "stream": "stderr",
       "text": [
        "\n",
        "30 Seconds to Mars - A Beautiful Lie\\05 The Fantasy.ogg\n",
        "#EXTINF:205,30 Seconds to Mars - Savior\n",
        "30 Seconds to Mars - A Beautiful Lie\\06 Savior.ogg\n",
        "#EXTINF:248,30 Seconds to Mars - From Yesterday\n",
        "30 Seconds to Mars - A Beautiful Lie\\07 From Yesterday.ogg\n",
        "#EXTINF:235,30 Seconds to Mars - The Story\n",
        "30 Seconds to Mars - A Beautiful Lie\\08 The Story.ogg\n",
        "#EXTINF:240,30 Seconds to Mars - R-Evolve"
       ]
      },
      {
       "output_type": "stream",
       "stream": "stderr",
       "text": [
        "\n",
        "30 Seconds to Mars - A Beautiful Lie\\09 R-Evolve.ogg\n",
        "#EXTINF:855,30 Seconds to Mars - A Modern Myth _ Kill (Rebirth)\n",
        "30 Seconds to Mars - A Beautiful Lie\\10 A Modern Myth _ Kill (Rebirth).ogg\n",
        "#EXTINF:168,30 Seconds to Mars - Battle of One (Bonus track)\n",
        "30 Seconds to Mars - A Beautiful Lie\\11 Battle of One (Bonus track).ogg\n",
        "#EXTINF:237,30 Seconds to Mars - Hunter (Bonus track)"
       ]
      },
      {
       "output_type": "stream",
       "stream": "stderr",
       "text": [
        "\n",
        "30 Seconds to Mars - A Beautiful Lie\\12 Hunter (Bonus track).ogg\n"
       ]
      }
     ],
     "prompt_number": 69
    },
    {
     "cell_type": "code",
     "collapsed": false,
     "input": [
      "p = os.path.join(filepath,dirs[0],\"01 Attack.ogg\")\n",
      "p = \"...\\\\Bob\\\\..\\\\file.ogg\"\n",
      "base, fn = os.path.split(p)\n",
      "os.path.join( os.path.split(base)[1], fn)"
     ],
     "language": "python",
     "metadata": {},
     "outputs": [
      {
       "metadata": {},
       "output_type": "pyout",
       "prompt_number": 68,
       "text": [
        "'..\\\\file.ogg'"
       ]
      }
     ],
     "prompt_number": 68
    },
    {
     "cell_type": "code",
     "collapsed": false,
     "input": [],
     "language": "python",
     "metadata": {},
     "outputs": []
    }
   ],
   "metadata": {}
  }
 ]
}