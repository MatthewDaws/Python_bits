{
 "metadata": {
  "name": "",
  "signature": "sha256:77310848f70152bcb1c33a9a301382fb06778cee933e2c6f9e410a54d0322d6f"
 },
 "nbformat": 3,
 "nbformat_minor": 0,
 "worksheets": [
  {
   "cells": [
    {
     "cell_type": "code",
     "collapsed": false,
     "input": [
      "import mutagen.oggvorbis"
     ],
     "language": "python",
     "metadata": {},
     "outputs": [],
     "prompt_number": 16
    },
    {
     "cell_type": "code",
     "collapsed": false,
     "input": [
      "import os\n",
      "filepath = \"..\\..\\..\\..\\Music\\\\30 Seconds to Mars - A Beautiful Lie\"\n",
      "os.listdir(filepath)[:5]"
     ],
     "language": "python",
     "metadata": {},
     "outputs": [
      {
       "metadata": {},
       "output_type": "pyout",
       "prompt_number": 10,
       "text": [
        "['01 Attack.ogg',\n",
        " '02 A Beautiful Lie.ogg',\n",
        " '03 The Kill.ogg',\n",
        " '04 Was it a Dream_.ogg',\n",
        " '05 The Fantasy.ogg']"
       ]
      }
     ],
     "prompt_number": 10
    },
    {
     "cell_type": "code",
     "collapsed": false,
     "input": [
      "filename = os.path.join(filepath,\"01 Attack.ogg\")\n",
      "os.stat(filename)"
     ],
     "language": "python",
     "metadata": {},
     "outputs": [
      {
       "metadata": {},
       "output_type": "pyout",
       "prompt_number": 14,
       "text": [
        "os.stat_result(st_mode=33206, st_ino=562949953515306, st_dev=3496754873, st_nlink=1, st_uid=0, st_gid=0, st_size=2586477, st_atime=1349470465, st_mtime=1273421119, st_ctime=1349470465)"
       ]
      }
     ],
     "prompt_number": 14
    },
    {
     "cell_type": "code",
     "collapsed": false,
     "input": [
      "mutagen.oggvorbis.OggVorbis(filename)"
     ],
     "language": "python",
     "metadata": {},
     "outputs": [
      {
       "metadata": {},
       "output_type": "pyout",
       "prompt_number": 17,
       "text": [
        "{'title': ['Attack'], 'album': ['A Beautiful Lie'], 'artist': ['30 Seconds to Mars'], 'tracknumber': ['01']}"
       ]
      }
     ],
     "prompt_number": 17
    },
    {
     "cell_type": "code",
     "collapsed": false,
     "input": [
      "o = mutagen.oggvorbis.OggVorbis(filename)\n",
      "o.pprint()"
     ],
     "language": "python",
     "metadata": {},
     "outputs": [
      {
       "metadata": {},
       "output_type": "pyout",
       "prompt_number": 25,
       "text": [
        "'Ogg Vorbis, 189.20 seconds, 112000 bps (audio/vorbis)\\ntitle=Attack\\nartist=30 Seconds to Mars\\nalbum=A Beautiful Lie\\ntracknumber=01'"
       ]
      }
     ],
     "prompt_number": 25
    },
    {
     "cell_type": "code",
     "collapsed": false,
     "input": [
      "o.info.length"
     ],
     "language": "python",
     "metadata": {},
     "outputs": [
      {
       "metadata": {},
       "output_type": "pyout",
       "prompt_number": 30,
       "text": [
        "189.2"
       ]
      }
     ],
     "prompt_number": 30
    },
    {
     "cell_type": "code",
     "collapsed": false,
     "input": [
      "o[\"artist\"]"
     ],
     "language": "python",
     "metadata": {},
     "outputs": [
      {
       "metadata": {},
       "output_type": "pyout",
       "prompt_number": 33,
       "text": [
        "['30 Seconds to Mars']"
       ]
      }
     ],
     "prompt_number": 33
    },
    {
     "cell_type": "code",
     "collapsed": false,
     "input": [],
     "language": "python",
     "metadata": {},
     "outputs": []
    }
   ],
   "metadata": {}
  }
 ]
}