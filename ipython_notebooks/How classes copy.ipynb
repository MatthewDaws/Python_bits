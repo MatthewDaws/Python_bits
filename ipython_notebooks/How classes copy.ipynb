{
 "metadata": {
  "name": "",
  "signature": "sha256:88b896ad1a574aa303fc27a7c4447c69fb8825921dcd3071dcf51a39495aacdf"
 },
 "nbformat": 3,
 "nbformat_minor": 0,
 "worksheets": [
  {
   "cells": [
    {
     "cell_type": "code",
     "collapsed": false,
     "input": [
      "class C:\n",
      "    def __init__(self):\n",
      "        print(\"Calling initialiser for C.\")\n",
      "        self.x = \"Default value\"\n",
      "    def comp(self):\n",
      "        print(\"Have:\",self.x)"
     ],
     "language": "python",
     "metadata": {},
     "outputs": [],
     "prompt_number": 1
    },
    {
     "cell_type": "code",
     "collapsed": false,
     "input": [
      "a = C()\n",
      "a.comp()\n",
      "a.x = \"New value\"\n",
      "a.comp()"
     ],
     "language": "python",
     "metadata": {},
     "outputs": [
      {
       "output_type": "stream",
       "stream": "stdout",
       "text": [
        "Calling initialiser for C.\n",
        "Have: Default value\n",
        "Have: New value\n"
       ]
      }
     ],
     "prompt_number": 2
    },
    {
     "cell_type": "markdown",
     "metadata": {},
     "source": [
      "The next few bits of code show that, just as everywhere else in Python, `b = a` is just a reference, so `b` is just a reference to `a`."
     ]
    },
    {
     "cell_type": "code",
     "collapsed": false,
     "input": [
      "b = a\n",
      "b.comp()"
     ],
     "language": "python",
     "metadata": {},
     "outputs": [
      {
       "output_type": "stream",
       "stream": "stdout",
       "text": [
        "Have: New value\n"
       ]
      }
     ],
     "prompt_number": 3
    },
    {
     "cell_type": "code",
     "collapsed": false,
     "input": [
      "a == b"
     ],
     "language": "python",
     "metadata": {},
     "outputs": [
      {
       "metadata": {},
       "output_type": "pyout",
       "prompt_number": 4,
       "text": [
        "True"
       ]
      }
     ],
     "prompt_number": 4
    },
    {
     "cell_type": "code",
     "collapsed": false,
     "input": [
      "a is b"
     ],
     "language": "python",
     "metadata": {},
     "outputs": [
      {
       "metadata": {},
       "output_type": "pyout",
       "prompt_number": 5,
       "text": [
        "True"
       ]
      }
     ],
     "prompt_number": 5
    },
    {
     "cell_type": "markdown",
     "metadata": {},
     "source": [
      "Let's see what happen if we copy.  This seems a _little_ odd to me, as why aren't `a` and `b` equal?"
     ]
    },
    {
     "cell_type": "code",
     "collapsed": false,
     "input": [
      "import copy\n",
      "b = copy.copy(a)\n",
      "b.comp()\n",
      "print(a == b)\n",
      "print(a is b)\n",
      "b.x = \"b's values\"\n",
      "b.comp()\n",
      "a.comp()"
     ],
     "language": "python",
     "metadata": {},
     "outputs": [
      {
       "output_type": "stream",
       "stream": "stdout",
       "text": [
        "Have: New value\n",
        "False\n",
        "False\n",
        "Have: b's values\n",
        "Have: New value\n"
       ]
      }
     ],
     "prompt_number": 11
    },
    {
     "cell_type": "markdown",
     "metadata": {},
     "source": [
      "And let's just play with copy vs deepcopy; again, no real surprises here."
     ]
    },
    {
     "cell_type": "code",
     "collapsed": false,
     "input": [
      "class D:\n",
      "    def __init__(self):\n",
      "        self.x = []\n",
      "    def comp(self):\n",
      "        print(self.x)"
     ],
     "language": "python",
     "metadata": {},
     "outputs": [],
     "prompt_number": 12
    },
    {
     "cell_type": "code",
     "collapsed": false,
     "input": [
      "d = D()\n",
      "d.x = [1,2,3]\n",
      "d.comp()\n",
      "e = copy.copy(d)\n",
      "e.x[1] = \"Matt\"\n",
      "e.comp()\n",
      "d.comp()"
     ],
     "language": "python",
     "metadata": {},
     "outputs": [
      {
       "output_type": "stream",
       "stream": "stdout",
       "text": [
        "[1, 2, 3]\n",
        "[1, 'Matt', 3]\n",
        "[1, 'Matt', 3]\n"
       ]
      }
     ],
     "prompt_number": 13
    },
    {
     "cell_type": "code",
     "collapsed": false,
     "input": [
      "f = copy.deepcopy(d)\n",
      "f.x[1] = \"Daws\"\n",
      "f.comp()\n",
      "d.comp()"
     ],
     "language": "python",
     "metadata": {},
     "outputs": [
      {
       "output_type": "stream",
       "stream": "stdout",
       "text": [
        "[1, 'Daws', 3]\n",
        "[1, 'Matt', 3]\n"
       ]
      }
     ],
     "prompt_number": 14
    },
    {
     "cell_type": "code",
     "collapsed": false,
     "input": [],
     "language": "python",
     "metadata": {},
     "outputs": []
    }
   ],
   "metadata": {}
  }
 ]
}