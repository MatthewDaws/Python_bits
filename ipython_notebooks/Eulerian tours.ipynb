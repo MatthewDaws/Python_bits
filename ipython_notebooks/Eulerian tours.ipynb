{
 "metadata": {
  "name": "",
  "signature": "sha256:fe1f51b269a49c27b4b6b0ddc87656318f31023ae230a24eae7eca343da2a5c4"
 },
 "nbformat": 3,
 "nbformat_minor": 0,
 "worksheets": [
  {
   "cells": [
    {
     "cell_type": "markdown",
     "metadata": {},
     "source": [
      "After seeing a student presentation today, I wondered about how difficult/slow it is to find all <a href=\"http://en.wikipedia.org/wiki/Eulerian_path\">Eulerian Paths</a> in an undirected graph (the directed case is easier).\n",
      "\n",
      "Recall that a graph (undirected, simple) is _Eulerian_ if we can start at one vertex and walk all the edges, exactly once, returning to a possibly different vertex.  We assume the graph is connected (other look at connected components).  Then the theorem is:\n",
      "\n",
      "The graph has an Eulerian Path if and only there are exactly 0 or 2 vertices of odd degree:\n",
      "   - If there are no vertices of odd degree, all paths are _circuits_: they start and end at the same vertex.\n",
      "   - If there are 2 vertices of odd degree, all paths start at one of them and end at the other."
     ]
    },
    {
     "cell_type": "markdown",
     "metadata": {},
     "source": [
      "Assume the graph has vertices labelled `0,1,...,n-1`, we maintain a list of the edges (as pairs) and for each vertices the edges incident with that vertex.  Here's a class to store this."
     ]
    },
    {
     "cell_type": "code",
     "collapsed": false,
     "input": [
      "%matplotlib inline\n",
      "import matplotlib.pyplot as plt\n",
      "import networkx as nx"
     ],
     "language": "python",
     "metadata": {},
     "outputs": [],
     "prompt_number": 1
    },
    {
     "cell_type": "code",
     "collapsed": false,
     "input": [
      "class ETGraph:\n",
      "    def __init__(self, numvertices):\n",
      "        self.v = numvertices\n",
      "        self.edgelist = []\n",
      "        self.edges = [ [] for n in range(self.v) ]\n",
      "    def __str__(self):\n",
      "        return \"ETGraph with \"+str(self.v)+\" vertices and \"+str(\n",
      "            sum((len(x) for x in graph.edges))//2 )+\" edges.\"\n",
      "    def as_networkx_graph(self):\n",
      "        g = nx.Graph()\n",
      "        g.add_nodes_from( range(self.v) )\n",
      "        g.add_edges_from( self.edgelist )\n",
      "        return g\n",
      "    def add_edge(self, a, b):\n",
      "        if a<0 or a>=self.v or b<0 or b>=self.v or a==b:\n",
      "            raise IndexError(\"ETGraph::add_edge: vertices not in range.\")\n",
      "        if a>b :\n",
      "            a,b = b,a\n",
      "        if (a,b) not in self.edgelist :\n",
      "            self.edgelist.append( (a,b) )\n",
      "            self.edges[a].append( len(self.edgelist)-1 )\n",
      "            self.edges[b].append( len(self.edgelist)-1 )\n",
      "    def num_edges(self):\n",
      "        return len(self.edgelist)\n",
      "    def incident(self,vertex):\n",
      "        # Don't bother with range check for vertex\n",
      "        inlist = []\n",
      "        for e in self.edges[vertex]:\n",
      "            if self.edgelist[e][0]==vertex:\n",
      "                inlist.append( self.edgelist[e][1] )\n",
      "            else:\n",
      "                inlist.append( self.edgelist[e][0] )\n",
      "        return inlist"
     ],
     "language": "python",
     "metadata": {},
     "outputs": [],
     "prompt_number": 2
    },
    {
     "cell_type": "markdown",
     "metadata": {},
     "source": [
      "Assuming now that our graph is Eulerian, my algorithm is to start with a vertex of odd degree (or 0 is none exists) and then explore all paths.  All we need to know about a partial path, in order to extend it, is the used edges and current \"end\" point of the path."
     ]
    },
    {
     "cell_type": "code",
     "collapsed": false,
     "input": [
      "def ET_is_connected(graph):\n",
      "    \"\"\"Check if `graph` of type ETGraph is connected.\"\"\"\n",
      "    if type(graph) != ETGraph:\n",
      "        raise TypeError(\"ET_is_connected: graph should be of type ETGraph\")\n",
      "    # Simply maintain of vertices accessible from vertex 0, and\n",
      "    # a list of unvisited neighbours.\n",
      "    accessible = [0]\n",
      "    to_visit = []\n",
      "    to_visit.extend( graph.incident(0) )\n",
      "    while len(to_visit)>0:\n",
      "        v = to_visit.pop()\n",
      "        if v not in accessible:\n",
      "            accessible.append(v)\n",
      "            to_visit.extend( graph.incident(v) )\n",
      "    for n in range(graph.v):\n",
      "        if n not in accessible: return False\n",
      "    return True\n",
      "\n",
      "def ET_is_Eulerian(graph):\n",
      "    \"\"\"Check if `graph` is Eulerian-- could odd degree vertices.\"\"\"\n",
      "    if type(graph) != ETGraph:\n",
      "        raise TypeError(\"ET_is_connected: graph should be of type ETGraph\")\n",
      "    if not ET_is_connected(graph):\n",
      "        return False\n",
      "    odd_degree = [n for n in range(graph.v) if len(graph.edges[n])%2==1]\n",
      "    if len(odd_degree)!=0 and len(odd_degree)!=2 :\n",
      "        return False\n",
      "    return True"
     ],
     "language": "python",
     "metadata": {},
     "outputs": [],
     "prompt_number": 3
    },
    {
     "cell_type": "markdown",
     "metadata": {},
     "source": [
      "The follows is a convenience class to store a \"partial path\""
     ]
    },
    {
     "cell_type": "code",
     "collapsed": false,
     "input": [
      "class PartialPath:\n",
      "    def __init__(self,start):\n",
      "        self.used = [] # As a list, also stores edges in order\n",
      "        self.current = start\n",
      "    def move(self,edge,edgenum):\n",
      "        self.used.append(edgenum)\n",
      "        if self.current == edge[0]:\n",
      "            self.current = edge[1]\n",
      "        elif self.current == edge[1]:\n",
      "            self.current = edge[0]\n",
      "        else:\n",
      "            raise Exception(\"PartialPath::move bad edge\")\n",
      "    def return_path(self,graph):\n",
      "        \"\"\"graph = ETGraph used.   Returns vertex path.\"\"\"\n",
      "        # Need to work out start-- one end of first path\n",
      "        e1 = graph.edgelist[ self.used[0] ]\n",
      "        e2 = graph.edgelist[ self.used[1] ]\n",
      "        if e1[0] in e2:\n",
      "            start = e1[1]\n",
      "        else:\n",
      "            start = e1[0]\n",
      "        path = [start]\n",
      "        for n in range(1,len(self.used)):\n",
      "            x = self.used[n]\n",
      "            e = graph.edgelist[x]\n",
      "            if e[0] == path[-1]:\n",
      "                path.append(e[1])\n",
      "            else:\n",
      "                path.append(e[0])\n",
      "        return path"
     ],
     "language": "python",
     "metadata": {},
     "outputs": [],
     "prompt_number": 4
    },
    {
     "cell_type": "markdown",
     "metadata": {},
     "source": [
      "The following is rather slow, as it generates and stores all paths-- it hence also uses a lot of memory!"
     ]
    },
    {
     "cell_type": "code",
     "collapsed": false,
     "input": [
      "import copy\n",
      "def ET_Find_paths(graph):\n",
      "    if type(graph) != ETGraph:\n",
      "        raise TypeError(\"ET_is_connected: graph should be of type ETGraph\")\n",
      "    # Find is specific start and end points, or not\n",
      "    odd_degree = [n for n in range(graph.v) if len(graph.edges[n])%2==1]\n",
      "    if len(odd_degree)==0 :\n",
      "        start = 0\n",
      "    elif len(odd_degree)==2 :\n",
      "        start = odd_degree[0]\n",
      "    else:\n",
      "        return -1\n",
      "    # And now go!\n",
      "    ppaths = []\n",
      "    ppaths.append( PartialPath(start) )\n",
      "    # At each loop, any new path is always one edge longer, so we\n",
      "    # can simply loop (number of edges) times\n",
      "    for n in range( graph.num_edges() ):\n",
      "        newpaths = []\n",
      "        for p in ppaths:\n",
      "            # Find if there is unused edge incident with current\n",
      "            for e in graph.edges[p.current]:\n",
      "                if e not in p.used:\n",
      "                    newp = copy.deepcopy(p)\n",
      "                    newp.move(graph.edgelist[e],e)\n",
      "                    newpaths.append(newp)\n",
      "        ppaths = newpaths\n",
      "        print(n,\"/\",graph.num_edges()-1,\" -> \",len(ppaths))\n",
      "    return ppaths"
     ],
     "language": "python",
     "metadata": {},
     "outputs": [],
     "prompt_number": 5
    },
    {
     "cell_type": "markdown",
     "metadata": {},
     "source": [
      "The following explores all paths of small length, and then recursively explores each one in further detail-- so less memory usage (though could be used to keep all paths)."
     ]
    },
    {
     "cell_type": "code",
     "collapsed": false,
     "input": [
      "import copy\n",
      "\n",
      "def ET_find_num_paths_recurse(graph,current_path,steps_to_do):\n",
      "    \"\"\"current_path should be the PartialPath object to start iterating from.\"\"\"\n",
      "    ppaths = []\n",
      "    ppaths.append( current_path )\n",
      "    max_steps = graph.num_edges() - len(ppaths[0].used)\n",
      "    if steps_to_do > max_steps:\n",
      "        steps_to_do = max_steps\n",
      "    for n in range(steps_to_do):\n",
      "        newpaths = []\n",
      "        for p in ppaths:\n",
      "            # Find if there is unused edge incident with current\n",
      "            for e in graph.edges[p.current]:\n",
      "                if e not in p.used:\n",
      "                    newp = copy.deepcopy(p)\n",
      "                    newp.move(graph.edgelist[e],e)\n",
      "                    newpaths.append(newp)\n",
      "        ppaths = newpaths\n",
      "    return ppaths\n",
      "\n",
      "def ET_Find_num_paths(graph):\n",
      "    \"\"\"Return the number of Eulerian paths in ETGraph `graph`.\"\"\"\n",
      "    if type(graph) != ETGraph:\n",
      "        raise TypeError(\"ET_is_connected: graph should be of type ETGraph\")\n",
      "    odd_degree = [n for n in range(graph.v) if len(graph.edges[n])%2==1]\n",
      "    if len(odd_degree)==0 :\n",
      "        start = 0\n",
      "    elif len(odd_degree)==2 :\n",
      "        start = odd_degree[0]\n",
      "    else:\n",
      "        return -1\n",
      "    # Now explore a little bit, and then look at each path in turn\n",
      "    startpaths = ET_find_num_paths_recurse(graph, PartialPath(start), 8)\n",
      "    count = 0\n",
      "    for p in startpaths:\n",
      "        pfinish = ET_find_num_paths_recurse(graph, p, graph.num_edges())\n",
      "        count += len(pfinish)\n",
      "    return count"
     ],
     "language": "python",
     "metadata": {},
     "outputs": [],
     "prompt_number": 6
    },
    {
     "cell_type": "markdown",
     "metadata": {},
     "source": [
      "TODO: Validate individual paths, and check all paths are different."
     ]
    },
    {
     "cell_type": "markdown",
     "metadata": {},
     "source": [
      "Generate a random graph as a test."
     ]
    },
    {
     "cell_type": "code",
     "collapsed": false,
     "input": [
      "import random\n",
      "\n",
      "vertices = 10\n",
      "edges = 20\n",
      "\n",
      "while True:\n",
      "    graph = ETGraph(vertices)\n",
      "    while len(graph.edgelist) < edges :\n",
      "        a = random.randint(0,vertices-1)\n",
      "        b = random.randint(0,vertices-1)\n",
      "        if a!=b : graph.add_edge(a,b)\n",
      "    if ET_is_Eulerian(graph):\n",
      "        break\n",
      "\n",
      "g = graph.as_networkx_graph()\n",
      "layout = nx.spring_layout(g)\n",
      "nx.draw_networkx(g,pos=layout,with_labels=True)\n",
      "edgelabels = {}\n",
      "for n,e in enumerate(graph.edgelist):\n",
      "    edgelabels[e] = n\n",
      "temp = nx.draw_networkx_edge_labels(g,pos=layout,label_pos=0.5,edge_labels=edgelabels)"
     ],
     "language": "python",
     "metadata": {},
     "outputs": [
      {
       "metadata": {},
       "output_type": "display_data",
       "png": "[encoded data removed]",
       "text": [
        "<matplotlib.figure.Figure at 0x6831eb8>"
       ]
      }
     ],
     "prompt_number": 71
    },
    {
     "cell_type": "code",
     "collapsed": false,
     "input": [
      "print(ET_is_connected(graph))\n",
      "print(ET_is_Eulerian(graph))\n",
      "paths = ET_Find_paths(graph)\n",
      "if paths==-1:\n",
      "    print(\"Nope!\")\n",
      "else:\n",
      "    print(len(paths))"
     ],
     "language": "python",
     "metadata": {},
     "outputs": [
      {
       "output_type": "stream",
       "stream": "stdout",
       "text": [
        "True\n",
        "True\n",
        "0 / 19  ->  3\n",
        "1 / 19  ->  15\n",
        "2 / 19  ->  50\n",
        "3 / 19  ->  158\n",
        "4 / 19  ->  474\n",
        "5"
       ]
      },
      {
       "output_type": "stream",
       "stream": "stdout",
       "text": [
        " / 19  ->  1337\n",
        "6"
       ]
      },
      {
       "output_type": "stream",
       "stream": "stdout",
       "text": [
        " / 19  ->  3517\n",
        "7"
       ]
      },
      {
       "output_type": "stream",
       "stream": "stdout",
       "text": [
        " / 19  ->  8507\n",
        "8"
       ]
      },
      {
       "output_type": "stream",
       "stream": "stdout",
       "text": [
        " / 19  ->  18950\n",
        "9"
       ]
      },
      {
       "output_type": "stream",
       "stream": "stdout",
       "text": [
        " / 19  ->  39494\n",
        "10"
       ]
      },
      {
       "output_type": "stream",
       "stream": "stdout",
       "text": [
        " / 19  ->  76684\n",
        "11"
       ]
      },
      {
       "output_type": "stream",
       "stream": "stdout",
       "text": [
        " / 19  ->  136092\n",
        "12"
       ]
      },
      {
       "output_type": "stream",
       "stream": "stdout",
       "text": [
        " / 19  ->  220604\n",
        "13"
       ]
      },
      {
       "output_type": "stream",
       "stream": "stdout",
       "text": [
        " / 19  ->  331752\n",
        "14"
       ]
      },
      {
       "output_type": "stream",
       "stream": "stdout",
       "text": [
        " / 19  ->  452304\n",
        "15"
       ]
      },
      {
       "output_type": "stream",
       "stream": "stdout",
       "text": [
        " / 19  ->  531360\n",
        "16"
       ]
      },
      {
       "output_type": "stream",
       "stream": "stdout",
       "text": [
        " / 19  ->  549984\n",
        "17"
       ]
      },
      {
       "output_type": "stream",
       "stream": "stdout",
       "text": [
        " / 19  ->  539904\n",
        "18"
       ]
      },
      {
       "output_type": "stream",
       "stream": "stdout",
       "text": [
        " / 19  ->  539904\n",
        "19"
       ]
      },
      {
       "output_type": "stream",
       "stream": "stdout",
       "text": [
        " / 19  ->  539904\n",
        "539904\n"
       ]
      }
     ],
     "prompt_number": 72
    },
    {
     "cell_type": "code",
     "collapsed": false,
     "input": [
      "ET_Find_num_paths(graph)"
     ],
     "language": "python",
     "metadata": {},
     "outputs": [
      {
       "metadata": {},
       "output_type": "pyout",
       "prompt_number": 73,
       "text": [
        "539904"
       ]
      }
     ],
     "prompt_number": 73
    },
    {
     "cell_type": "markdown",
     "metadata": {},
     "source": [
      "Finally, we give a version which works directly with NetworkX graphs.\n",
      "\n",
      "This was a pain to code, essentially for the following reason.  Look closely!"
     ]
    },
    {
     "cell_type": "code",
     "collapsed": false,
     "input": [
      "nxg = graph.as_networkx_graph()\n",
      "print(\"Edges incident with vertex 3, for example:\")\n",
      "print(nxg.edges(3))\n",
      "print(\"These are now all the edges:\", nxg.edges())\n",
      "print(\"So the following is weird:\")\n",
      "print(nxg.edges(3)[0] in nxg.edges())\n",
      "print(\"   (Shows a weird result if vertex 3 is linked to a vertex of lower number...)\")"
     ],
     "language": "python",
     "metadata": {},
     "outputs": [
      {
       "output_type": "stream",
       "stream": "stdout",
       "text": [
        "Edges incident with vertex 3, for example:\n",
        "[(3, 1), (3, 2), (3, 4), (3, 7)]\n",
        "These are now all the edges: [(0, 2), (1, 9), (1, 3), (2, 8), (2, 3), (2, 5), (3, 4), (3, 7), (4, 5), (5, 8), (5, 9), (6, 7), (7, 8), (7, 9), (8, 9)]\n",
        "So the following is weird:\n",
        "False\n",
        "   (Shows a weird result if vertex 3 is linked to a vertex of lower number...)\n"
       ]
      }
     ],
     "prompt_number": 58
    },
    {
     "cell_type": "markdown",
     "metadata": {},
     "source": [
      "So I _think_ that we need to stick to the convention that `(a,b)` is only an edge if `a <  b`.  Nope-- some testing shows this isn't true!  So manually test both combinations..."
     ]
    },
    {
     "cell_type": "code",
     "collapsed": false,
     "input": [
      "import copy\n",
      "\n",
      "class nxPartialPath:\n",
      "    def __init__(self,start):\n",
      "        self.used = [] # As a list, also stores edges in order\n",
      "        self.current = start\n",
      "    def move(self,edge):\n",
      "        self.used.append(edge)\n",
      "        if self.current == edge[0]:\n",
      "            self.current = edge[1]\n",
      "        elif self.current == edge[1]:\n",
      "            self.current = edge[0]\n",
      "        else:\n",
      "            raise Exception(\"nxPartialPath::move bad edge\")\n",
      "    # Need this for debugging...\n",
      "    def __str__(self):\n",
      "        s = \"nxPartialPath: current vertex=\" + str(self.current)\n",
      "        s += \" partial path=\" + str(self.used)\n",
      "        return s\n",
      "\n",
      "def ETnx_find_num_paths_recurse(graph,current_path,steps_to_do):\n",
      "    \"\"\"current_path should be the nxPartialPath object to start iterating from.\"\"\"\n",
      "    ppaths = []\n",
      "    ppaths.append( current_path )\n",
      "    max_steps = nx.number_of_edges(graph) - len(ppaths[0].used)\n",
      "    if steps_to_do > max_steps:\n",
      "        steps_to_do = max_steps\n",
      "    for n in range(steps_to_do):\n",
      "        newpaths = []\n",
      "        for p in ppaths:\n",
      "            # Find if there is unused edge incident with current\n",
      "            # Need to fix here!!\n",
      "            for e in graph.edges(p.current):\n",
      "                ee = (e[1],e[0]) # Other order\n",
      "                if e not in p.used and ee not in p.used:\n",
      "                    newp = copy.deepcopy(p)\n",
      "                    newp.move(e)\n",
      "                    newpaths.append(newp)\n",
      "        ppaths = newpaths\n",
      "    return ppaths\n",
      "\n",
      "def ETnx_Find_num_paths(graph):\n",
      "    \"\"\"Return the number of Eulerian paths in networkx Graph `graph`.\"\"\"\n",
      "    if type(graph) != nx.classes.graph.Graph:\n",
      "        raise TypeError(\"ETnx_is_connected: graph should be from NetworkX\")\n",
      "    odd_degree = [ v for v in nx.nodes_iter(graph) if\n",
      "        len(list(nx.all_neighbors(graph,v)))%2==1 ]\n",
      "    if len(odd_degree)==0 :\n",
      "        start = 0\n",
      "    elif len(odd_degree)==2 :\n",
      "        start = odd_degree[0]\n",
      "    else:\n",
      "        return -1\n",
      "    #print(\"Believe that a suitable start point is:\",start)\n",
      "    #print(\"Odd degree count is:\",odd_degree)\n",
      "    # Now explore a little bit, and then look at each path in turn\n",
      "    # TODO\n",
      "    startpaths = ETnx_find_num_paths_recurse(graph, nxPartialPath(start), 8)\n",
      "    count = 0\n",
      "    for p in startpaths:\n",
      "        pfinish = ETnx_find_num_paths_recurse(graph, p, nx.number_of_edges(graph))\n",
      "        count += len(pfinish)\n",
      "    return count"
     ],
     "language": "python",
     "metadata": {},
     "outputs": [],
     "prompt_number": 59
    },
    {
     "cell_type": "code",
     "collapsed": false,
     "input": [
      "nxg = graph.as_networkx_graph()\n",
      "print(type(nxg))\n",
      "ETnx_Find_num_paths(nxg)"
     ],
     "language": "python",
     "metadata": {},
     "outputs": [
      {
       "output_type": "stream",
       "stream": "stdout",
       "text": [
        "<class 'networkx.classes.graph.Graph'>\n"
       ]
      },
      {
       "metadata": {},
       "output_type": "pyout",
       "prompt_number": 74,
       "text": [
        "539904"
       ]
      }
     ],
     "prompt_number": 74
    },
    {
     "cell_type": "code",
     "collapsed": false,
     "input": [
      "%timeit(ET_Find_num_paths(graph))\n",
      "%timeit(ETnx_Find_num_paths(nxg))"
     ],
     "language": "python",
     "metadata": {},
     "outputs": [
      {
       "output_type": "stream",
       "stream": "stdout",
       "text": [
        "1 loops, best of 3: 192 ms per loop\n",
        "1 loops, best of 3: 474 ms per loop"
       ]
      },
      {
       "output_type": "stream",
       "stream": "stdout",
       "text": [
        "\n"
       ]
      }
     ],
     "prompt_number": 70
    },
    {
     "cell_type": "code",
     "collapsed": false,
     "input": [],
     "language": "python",
     "metadata": {},
     "outputs": []
    }
   ],
   "metadata": {}
  }
 ]
}