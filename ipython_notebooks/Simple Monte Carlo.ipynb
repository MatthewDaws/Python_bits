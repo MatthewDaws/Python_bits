{
 "metadata": {
  "name": "",
  "signature": "sha256:a864954dc94c17c09815ed05f7c6e98783f40de0e3671c686eaa3517e332383f"
 },
 "nbformat": 3,
 "nbformat_minor": 0,
 "worksheets": [
  {
   "cells": [
    {
     "cell_type": "code",
     "collapsed": false,
     "input": [
      "Simple Monte Carlo simulation"
     ],
     "language": "python",
     "metadata": {},
     "outputs": []
    },
    {
     "cell_type": "markdown",
     "metadata": {},
     "source": [
      "A simple problem from [Bayesian Data Analysis](http://www.amazon.co.uk/Bayesian-Analysis-Chapman-Statistical-Science/dp/1439840954):\n",
      "\n",
      "A clinic has 3 doctors.  Patients arrive from 9am, simulated with a [Poisson process](https://en.wikipedia.org/wiki/Poisson_process) with mean waiting time 10mins.  A patient attends the first available doctor, and consultation times are uniformly distributed between 5 and 20 minutes.  The clinic stops admiting patients at 4pm.\n",
      "\n",
      "   - Simulate this.  How many patients come to the clinic?  How many had to wait for a doctor?  What was their average waiting time?  When did the office close?\n",
      "   - Now do this 100 times, and estimate the median and 50% interval for each summary above."
     ]
    },
    {
     "cell_type": "markdown",
     "metadata": {},
     "source": [
      "We'll use numpy, which comes with handy random distributions."
     ]
    },
    {
     "cell_type": "code",
     "collapsed": false,
     "input": [
      "import numpy as np"
     ],
     "language": "python",
     "metadata": {},
     "outputs": [],
     "prompt_number": 1
    },
    {
     "cell_type": "code",
     "collapsed": true,
     "input": [
      "class Clinic:\n",
      "    def do_next_update(self, time_limit):\n",
      "        \"\"\"Process the next event which occurs before `time_limit`.\n",
      "        This will be an appointment ending (and so maybe also a waiting\n",
      "        patient leaving the waiting room).\n",
      "        Advances clock to next event, or to `time_limit` if no\n",
      "        such event.\"\"\"\n",
      "        if len(self.doctors) == 0:\n",
      "            self.current_time = time_limit\n",
      "            return\n",
      "        gap = min(time_limit - self.current_time, min(self.doctors))\n",
      "        self.current_time += gap\n",
      "        index = 0\n",
      "        while index < len(self.doctors):\n",
      "            self.doctors[index] -= gap\n",
      "            if self.doctors[index] <= 0.0:\n",
      "                #print(\"Appointment ended at\", self.current_time)\n",
      "                del self.doctors[index]\n",
      "            else:\n",
      "                index += 1\n",
      "        while len(self.doctors) < 3 and self.waiting_list:\n",
      "            self.doctors.append( np.random.uniform(5,20) )\n",
      "            self.s[\"waiting_time_sum\"] += self.current_time -self.waiting_list[0]\n",
      "            del self.waiting_list[0]\n",
      "    def simulate(self):\n",
      "        self.current_time = 0.0 # Minutes since 9am; closes at 420.0\n",
      "        self.s = { \"patient_count\":0, \"wait_count\":0,\n",
      "            \"waiting_time_sum\":0.0, \"close_time\":0.0 }\n",
      "        self.doctors = [] # List of doctors with time of remaining appointment\n",
      "        self.waiting_list = [] # Arrival times of waiting patients\n",
      "        while self.current_time <= 420.0:\n",
      "            next_patient_time = self.current_time + np.random.exponential(10)\n",
      "            if next_patient_time > 420.0: break\n",
      "            #print(\"Next patient arrives at\", next_patient_time)\n",
      "            while self.current_time < next_patient_time:\n",
      "                self.do_next_update(next_patient_time)\n",
      "            self.s[\"patient_count\"] += 1\n",
      "            if len(self.doctors) < 3:\n",
      "                self.doctors.append( np.random.uniform(5,20) )\n",
      "            else:\n",
      "                self.waiting_list.append(next_patient_time)\n",
      "                self.s[\"wait_count\"] += 1\n",
      "        # Clinic now shut, so wait for final patients\n",
      "        while self.doctors:\n",
      "            self.do_next_update(1000000)\n",
      "        self.s[\"close_time\"] = self.current_time\n",
      "        if self.current_time < 420: # No patients at end of day!\n",
      "            self.s[\"close_time\"] = 420.0\n",
      "    def __str__(self):\n",
      "        r = \"{} patients, {} had to wait an average of {:.3f}mins, with closing\"\n",
      "        r += \" at {:.1f}mins after 4pm.\"\n",
      "        return r.format(*self.summary()) # Unpack tuple\n",
      "    def summary(self):\n",
      "        av_wait_time = 0.0\n",
      "        if self.s[\"wait_count\"] > 0:\n",
      "            av_wait_time = self.s[\"waiting_time_sum\"] / self.s[\"wait_count\"]\n",
      "        return (self.s[\"patient_count\"], self.s[\"wait_count\"],\n",
      "            av_wait_time, self.s[\"close_time\"]-420.0)\n",
      "        "
     ],
     "language": "python",
     "metadata": {},
     "outputs": [],
     "prompt_number": 67
    },
    {
     "cell_type": "code",
     "collapsed": false,
     "input": [
      "c = Clinic()\n",
      "c.simulate()\n",
      "print(c.summary())\n",
      "print(c)"
     ],
     "language": "python",
     "metadata": {},
     "outputs": [
      {
       "output_type": "stream",
       "stream": "stdout",
       "text": [
        "(62, 22, 8.907121337625467, 6.640971087024013)\n",
        "62 patients, 22 had to wait an average of 8.907mins, with closing at 6.6mins after 4pm.\n"
       ]
      }
     ],
     "prompt_number": 68
    },
    {
     "cell_type": "code",
     "collapsed": false,
     "input": [
      "import pandas as pd\n",
      "\n",
      "c = Clinic()\n",
      "res = []\n",
      "for n in range(100):\n",
      "    c.simulate()\n",
      "    res.append(c.summary())\n",
      "    \n",
      "p = pd.Series(x[0] for x in res)\n",
      "print(\"Patients:\", p.describe())\n",
      "p = pd.Series(x[1] for x in res)\n",
      "print(\"Waiting patients:\", p.describe())\n",
      "p = pd.Series(x[2] for x in res if x[1]>0)\n",
      "print(\"Average wait time:\", p.describe())\n",
      "p = pd.Series(x[3] for x in res)\n",
      "print(\"Closing time after 4pm:\", p.describe())"
     ],
     "language": "python",
     "metadata": {},
     "outputs": [
      {
       "output_type": "stream",
       "stream": "stdout",
       "text": [
        "Patients: count    100.000000\n",
        "mean      84.000000\n",
        "std        8.997194\n",
        "min       59.000000\n",
        "25%       78.750000\n",
        "50%       84.000000\n",
        "75%       90.000000\n",
        "max      109.000000\n",
        "dtype: float64\n",
        "Waiting patients: count    100.000000\n",
        "mean      54.100000\n",
        "std       18.660443\n",
        "min       19.000000\n",
        "25%       41.500000\n",
        "50%       54.000000\n",
        "75%       66.500000\n",
        "max       98.000000\n",
        "dtype: float64\n",
        "Average wait time: count    100.000000\n",
        "mean      11.074919\n",
        "std        5.127571\n",
        "min        3.415327\n",
        "25%        7.317639\n",
        "50%       10.511173\n",
        "75%       14.264241\n",
        "max       27.913730\n",
        "dtype: float64\n",
        "Closing time after 4pm: count    100.000000\n",
        "mean      18.165653\n",
        "std       12.374630\n",
        "min        0.000000\n",
        "25%       10.713635\n",
        "50%       15.277793\n",
        "75%       24.106578\n",
        "max       62.122509\n",
        "dtype: float64\n"
       ]
      }
     ],
     "prompt_number": 69
    },
    {
     "cell_type": "heading",
     "level": 1,
     "metadata": {},
     "source": [
      "Notes on what we learnt"
     ]
    },
    {
     "cell_type": "markdown",
     "metadata": {},
     "source": [
      "   - The Python `statistics` module doesn't do much!\n",
      "   - So cheated and used pandas!\n",
      "   - Writing the simulation was trickier than I thought.\n",
      "   - I thought about a \"classical OOP\" attack: a class for doctors, and a class for patients.  But this seems very tightly coupled: doctors have to wait for patients, and vice versa.\n",
      "   - There must be a standard way to attack this sort of problem.  Would be interesting to know more!"
     ]
    },
    {
     "cell_type": "heading",
     "level": 1,
     "metadata": {},
     "source": [
      "Another go"
     ]
    },
    {
     "cell_type": "markdown",
     "metadata": {},
     "source": [
      "Here's another attempt, trying to encapsulate things a bit better, so we could more easily change the parameters and simulation.\n",
      "   - Notice that I'm using a Python list as a FIFO list, with 0 at the next element.  This is not efficient, but for these small lists, doesn't really matter.\n",
      "   - This still took me a frustrating amount of time, but I like the result: it's more obvious how it works, and would be easier to adjust the rules of the simulation without rewriting very much."
     ]
    },
    {
     "cell_type": "code",
     "collapsed": false,
     "input": [
      "class Doctor:\n",
      "    def __init__(self, doc_id):\n",
      "        \"\"\"`doc_id` is unused, but is the 'id'.\n",
      "        `free_from` is the initial time the doctor is free.\"\"\"\n",
      "        self.docid = doc_id\n",
      "        self.busy = False\n",
      "    def becomes_free(self, next_time):\n",
      "        \"\"\"Returns the time the doctor becomes free, or if the doctor is\n",
      "        not busy, returns next_time.\"\"\"\n",
      "        if not self.busy:\n",
      "            return next_time\n",
      "        return self.busyto\n",
      "    def is_free(self):\n",
      "        \"\"\"Return if doctor is free.\"\"\"\n",
      "        return not self.busy\n",
      "    def update(self, current_time):\n",
      "        \"\"\"Updates doctor to current time.\"\"\"\n",
      "        if self.busy and self.busyto <= current_time:\n",
      "            self.busy = False\n",
      "    def do_task(self, current_time, length):\n",
      "        \"\"\"Pass `current_time` and `length`.  Currently the doctor is\n",
      "        next free at time current_time + length.  Could change this to\n",
      "        allow different doctors different \"speeds\" etc.\"\"\"\n",
      "        self.busyto = current_time + length\n",
      "        self.busy = True\n",
      "\n",
      "class Patient:\n",
      "    def __init__(self, current_time):\n",
      "        \"\"\"Encapsulate the randomness.\"\"\"\n",
      "        self.arrives = current_time + np.random.exponential(10)\n",
      "        self.appointment_length = np.random.uniform(5,20)\n",
      "    \n",
      "def simulate(start = 0, end = 420, num_doctors = 3):\n",
      "    current_time = start\n",
      "    patient_count = 0\n",
      "    waiting_count = 0\n",
      "    waiting_time_sum = 0.0\n",
      "    waiting_list = []\n",
      "    arrival_list = [ Patient(start) ] # Initial patient; assume always\n",
      "            # ordered so arrival_list[0] is the next patient to arrive\n",
      "    doctor_list = [ Doctor(n) for n in range(num_doctors) ]\n",
      "    # When to end is slightly tricky: the end point is when the next patient\n",
      "    # in `arrival_list` has arrival time after `end` and all the doctors are\n",
      "    # free.\n",
      "    while not ( arrival_list[0].arrives > end and\n",
      "               all(d.is_free() for d in doctor_list) ):\n",
      "        # Find next action\n",
      "        next_patient_action = arrival_list[0].arrives\n",
      "        next_doctor_action = min( d.becomes_free(next_patient_action) for d in doctor_list )\n",
      "        current_time = min( next_patient_action, next_doctor_action )\n",
      "        #print(\"current_time is now\",current_time)\n",
      "        # See if new patient has arrived now.\n",
      "        if arrival_list[0].arrives <= current_time:\n",
      "            if current_time <= end: # Patient is actually allowed to arrive\n",
      "                #print(\"New patient arriving...\")\n",
      "                waiting_list.append( arrival_list[0] )\n",
      "                patient_count += 1\n",
      "            del arrival_list[0]\n",
      "            # Need to update to simulate Poisson process.\n",
      "            # Alternative would be to construct all of `arrival_list`\n",
      "            # at outset\n",
      "            if not arrival_list:\n",
      "                arrival_list.append(Patient(current_time))\n",
      "        # Update doctors: assign new patients if needs be\n",
      "        for d in doctor_list:\n",
      "            d.update(current_time)\n",
      "            if d.is_free() and waiting_list:\n",
      "                applen = waiting_list[0].appointment_length\n",
      "                if waiting_list[0].arrives < current_time: # Were they waiting?\n",
      "                    waiting_count += 1\n",
      "                    waiting_time_sum += current_time - waiting_list[0].arrives\n",
      "                del waiting_list[0]\n",
      "                d.do_task(current_time, applen)\n",
      "                #print(\"Patient now seeing doctor for length\", applen,\"waiting list len:\",\n",
      "                #      len(waiting_list))\n",
      "    \n",
      "    # Adjust closing time to 4pm if actually \"closed\" before\n",
      "    current_time = max(end, current_time)\n",
      "    if waiting_count > 0:\n",
      "        waiting_time_avg = waiting_time_sum / waiting_count\n",
      "    else:\n",
      "        waiting_time_avg = 0\n",
      "    return patient_count, waiting_count, waiting_time_avg, current_time"
     ],
     "language": "python",
     "metadata": {},
     "outputs": [],
     "prompt_number": 9
    },
    {
     "cell_type": "code",
     "collapsed": false,
     "input": [
      "simulate()"
     ],
     "language": "python",
     "metadata": {},
     "outputs": [
      {
       "metadata": {},
       "output_type": "pyout",
       "prompt_number": 10,
       "text": [
        "(44, 4, 7.204304571845864, 425.0792609956046)"
       ]
      }
     ],
     "prompt_number": 10
    },
    {
     "cell_type": "code",
     "collapsed": false,
     "input": [
      "import pandas as pd\n",
      "\n",
      "res = []\n",
      "for n in range(100):\n",
      "    res.append( simulate() )\n",
      "    \n",
      "p = pd.Series(x[0] for x in res)\n",
      "print(\"Patients:\", p.describe())\n",
      "p = pd.Series(x[1] for x in res)\n",
      "print(\"Waiting patients:\", p.describe())\n",
      "p = pd.Series(x[2] for x in res if x[1]>0)\n",
      "print(\"Average wait time:\", p.describe())\n",
      "p = pd.Series(x[3] - 420.0 for x in res)\n",
      "print(\"Closing time after 4pm:\", p.describe())"
     ],
     "language": "python",
     "metadata": {},
     "outputs": [
      {
       "output_type": "stream",
       "stream": "stdout",
       "text": [
        "Patients: count    100.000000\n",
        "mean      42.220000\n",
        "std        6.855772\n",
        "min       24.000000\n",
        "25%       38.000000\n",
        "50%       42.000000\n",
        "75%       46.000000\n",
        "max       61.000000\n",
        "dtype: float64\n",
        "Waiting patients: count    100.000000\n",
        "mean       6.740000\n",
        "std        5.153443\n",
        "min        0.000000\n",
        "25%        3.750000\n",
        "50%        6.000000\n",
        "75%        9.000000\n",
        "max       29.000000\n",
        "dtype: float64\n",
        "Average wait time: count    95.000000\n",
        "mean      4.024316\n",
        "std       2.070453\n",
        "min       0.202297\n",
        "25%       2.506232\n",
        "50%       3.976737\n",
        "75%       5.522893\n",
        "max       9.158129\n",
        "dtype: float64\n",
        "Closing time after 4pm: count    100.000000\n",
        "mean       6.158246\n",
        "std        6.387677\n",
        "min        0.000000\n",
        "25%        0.000000\n",
        "50%        4.036878\n",
        "75%       10.803977\n",
        "max       30.419596\n",
        "dtype: float64\n"
       ]
      }
     ],
     "prompt_number": 11
    },
    {
     "cell_type": "code",
     "collapsed": false,
     "input": [],
     "language": "python",
     "metadata": {},
     "outputs": []
    }
   ],
   "metadata": {}
  }
 ]
}