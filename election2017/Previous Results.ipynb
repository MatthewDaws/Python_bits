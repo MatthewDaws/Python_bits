{
 "cells": [
  {
   "cell_type": "code",
   "execution_count": 1,
   "metadata": {
    "collapsed": true
   },
   "outputs": [],
   "source": [
    "import pandas as pd\n",
    "import numpy as np"
   ]
  },
  {
   "cell_type": "code",
   "execution_count": 11,
   "metadata": {
    "collapsed": false
   },
   "outputs": [
    {
     "data": {
      "text/html": [
       "<div>\n",
       "<table border=\"1\" class=\"dataframe\">\n",
       "  <thead>\n",
       "    <tr style=\"text-align: right;\">\n",
       "      <th></th>\n",
       "      <th>Constituency</th>\n",
       "      <th>Name</th>\n",
       "      <th>Country</th>\n",
       "      <th>Region</th>\n",
       "      <th>Electorate</th>\n",
       "      <th>Turnout</th>\n",
       "      <th>Unnamed: 6</th>\n",
       "      <th>Candidate</th>\n",
       "      <th>Party</th>\n",
       "      <th>Votes</th>\n",
       "      <th>Share</th>\n",
       "      <th>Place</th>\n",
       "    </tr>\n",
       "  </thead>\n",
       "  <tbody>\n",
       "    <tr>\n",
       "      <th>0</th>\n",
       "      <td>1</td>\n",
       "      <td>Aberavon</td>\n",
       "      <td>Wales</td>\n",
       "      <td>Wales</td>\n",
       "      <td>49821</td>\n",
       "      <td>31523</td>\n",
       "      <td>0.633</td>\n",
       "      <td>Stephen Kinnock</td>\n",
       "      <td>Labour</td>\n",
       "      <td>15416</td>\n",
       "      <td>0.489</td>\n",
       "      <td>1</td>\n",
       "    </tr>\n",
       "    <tr>\n",
       "      <th>1</th>\n",
       "      <td>1</td>\n",
       "      <td>Aberavon</td>\n",
       "      <td>Wales</td>\n",
       "      <td>Wales</td>\n",
       "      <td>49821</td>\n",
       "      <td>31523</td>\n",
       "      <td>0.633</td>\n",
       "      <td>Peter Bush</td>\n",
       "      <td>UKIP</td>\n",
       "      <td>4971</td>\n",
       "      <td>0.158</td>\n",
       "      <td>2</td>\n",
       "    </tr>\n",
       "    <tr>\n",
       "      <th>2</th>\n",
       "      <td>1</td>\n",
       "      <td>Aberavon</td>\n",
       "      <td>Wales</td>\n",
       "      <td>Wales</td>\n",
       "      <td>49821</td>\n",
       "      <td>31523</td>\n",
       "      <td>0.633</td>\n",
       "      <td>Edward Yi He</td>\n",
       "      <td>Conservative</td>\n",
       "      <td>3742</td>\n",
       "      <td>0.119</td>\n",
       "      <td>3</td>\n",
       "    </tr>\n",
       "    <tr>\n",
       "      <th>3</th>\n",
       "      <td>1</td>\n",
       "      <td>Aberavon</td>\n",
       "      <td>Wales</td>\n",
       "      <td>Wales</td>\n",
       "      <td>49821</td>\n",
       "      <td>31523</td>\n",
       "      <td>0.633</td>\n",
       "      <td>Duncan Higgitt</td>\n",
       "      <td>Plaid Cymru</td>\n",
       "      <td>3663</td>\n",
       "      <td>0.116</td>\n",
       "      <td>4</td>\n",
       "    </tr>\n",
       "    <tr>\n",
       "      <th>4</th>\n",
       "      <td>1</td>\n",
       "      <td>Aberavon</td>\n",
       "      <td>Wales</td>\n",
       "      <td>Wales</td>\n",
       "      <td>49821</td>\n",
       "      <td>31523</td>\n",
       "      <td>0.633</td>\n",
       "      <td>Helen Clarke</td>\n",
       "      <td>Liberal Democrat</td>\n",
       "      <td>1397</td>\n",
       "      <td>0.044</td>\n",
       "      <td>5</td>\n",
       "    </tr>\n",
       "  </tbody>\n",
       "</table>\n",
       "</div>"
      ],
      "text/plain": [
       "   Constituency      Name Country Region  Electorate  Turnout  Unnamed: 6  \\\n",
       "0             1  Aberavon   Wales  Wales       49821    31523       0.633   \n",
       "1             1  Aberavon   Wales  Wales       49821    31523       0.633   \n",
       "2             1  Aberavon   Wales  Wales       49821    31523       0.633   \n",
       "3             1  Aberavon   Wales  Wales       49821    31523       0.633   \n",
       "4             1  Aberavon   Wales  Wales       49821    31523       0.633   \n",
       "\n",
       "         Candidate             Party  Votes  Share  Place  \n",
       "0  Stephen Kinnock            Labour  15416  0.489      1  \n",
       "1       Peter Bush              UKIP   4971  0.158      2  \n",
       "2     Edward Yi He      Conservative   3742  0.119      3  \n",
       "3   Duncan Higgitt       Plaid Cymru   3663  0.116      4  \n",
       "4     Helen Clarke  Liberal Democrat   1397  0.044      5  "
      ]
     },
     "execution_count": 11,
     "metadata": {},
     "output_type": "execute_result"
    }
   ],
   "source": [
    "res2015 = pd.read_excel(\"2015 Constituency Results.xlsx\")\n",
    "res2015.rename(columns={\"Unnamed: 1\": \"Name\"}, inplace=True)\n",
    "res2015.head()"
   ]
  },
  {
   "cell_type": "markdown",
   "metadata": {},
   "source": [
    "# 2010\n",
    "\n",
    "Can't find a clean list.  But we have:\n",
    "\n",
    "- https://www.electoralcommission.org.uk/find-information-by-subject/elections-and-referendums/past-elections-and-referendums/uk-general-elections/2010-uk-general-election-results\n",
    " \n",
    "- http://www.politicsresources.net/area/uk/ge10/ge10index.htm\n"
   ]
  },
  {
   "cell_type": "code",
   "execution_count": 11,
   "metadata": {
    "collapsed": true
   },
   "outputs": [],
   "source": [
    "import requests\n",
    "from bs4 import BeautifulSoup"
   ]
  },
  {
   "cell_type": "code",
   "execution_count": 6,
   "metadata": {
    "collapsed": true
   },
   "outputs": [],
   "source": [
    "ec_url = (\"https://www.electoralcommission.org.uk/find-information-by-subject/\" +\n",
    "        \"elections-and-referendums/past-elections-and-referendums/\"+\n",
    "        \"uk-general-elections/2010-uk-general-election-results\")"
   ]
  },
  {
   "cell_type": "code",
   "execution_count": 9,
   "metadata": {
    "collapsed": false
   },
   "outputs": [
    {
     "data": {
      "text/plain": [
       "<Response [200]>"
      ]
     },
     "execution_count": 9,
     "metadata": {},
     "output_type": "execute_result"
    }
   ],
   "source": [
    "response = requests.get(ec_url)\n",
    "response"
   ]
  },
  {
   "cell_type": "code",
   "execution_count": 38,
   "metadata": {
    "collapsed": false
   },
   "outputs": [],
   "source": [
    "soup = BeautifulSoup(response.content, 'html.parser')\n",
    "for form in soup.find_all(\"form\"):\n",
    "    if \"id\" in form.attrs:\n",
    "        break\n",
    "con_lookup = {}\n",
    "for v in form.find_all(\"option\"):\n",
    "    url = v[\"value\"]\n",
    "    if url != \"\":\n",
    "        con_lookup[v.text] = url"
   ]
  },
  {
   "cell_type": "code",
   "execution_count": 5,
   "metadata": {
    "collapsed": true
   },
   "outputs": [],
   "source": [
    "import collections, time\n",
    "\n",
    "Result = collections.namedtuple(\"Result\", [\"name\", \"party\", \"votes\"])\n",
    "Constituency = collections.namedtuple(\"Constituency\", [\"name\", \"electorate\", \"total_votes\", \"results\"])"
   ]
  },
  {
   "cell_type": "code",
   "execution_count": 71,
   "metadata": {
    "collapsed": false
   },
   "outputs": [],
   "source": [
    "def get_all(con_lookup):\n",
    "    for name, url in con_lookup.items():\n",
    "        time.sleep(1)\n",
    "        response = requests.get(url)\n",
    "        assert response.ok\n",
    "        soup = BeautifulSoup(response.content, 'html.parser')\n",
    "\n",
    "        name = soup.find_all(attrs={\"class\":\"page-title\"})[0].text\n",
    "        data = [para.text for para in soup.find_all(attrs={\"class\":\"election-results\"})[0].find_all(\"p\")]\n",
    "        for d in data:\n",
    "            if d.startswith(\"Electorate: \"):\n",
    "                electorate = int(d[12:].replace(\",\", \"\"))\n",
    "            if d.startswith(\"Total number of votes cast: \"):\n",
    "                total_votes = int(d[28:].replace(\",\", \"\"))\n",
    "        results = []\n",
    "        for row in soup.find_all(\"table\")[0].tbody.find_all(\"tr\"):\n",
    "            entries = [e.text for e in row.find_all(\"td\")]\n",
    "            v = int(entries[3].replace(\",\", \"\"))\n",
    "            results.append( Result(name=entries[1] + \" \" +entries[0], party=entries[2], votes=v) )\n",
    "\n",
    "        yield Constituency(name, electorate, total_votes, results)"
   ]
  },
  {
   "cell_type": "code",
   "execution_count": 72,
   "metadata": {
    "collapsed": false
   },
   "outputs": [],
   "source": [
    "results = list(get_all(con_lookup))"
   ]
  },
  {
   "cell_type": "code",
   "execution_count": null,
   "metadata": {
    "collapsed": true
   },
   "outputs": [],
   "source": [
    "import pickle\n",
    "with open(\"results.pic\", \"wb\") as f:\n",
    "    pickle.dump(f, results)"
   ]
  },
  {
   "cell_type": "markdown",
   "metadata": {
    "collapsed": true
   },
   "source": [
    "# One we prepared earlier"
   ]
  },
  {
   "cell_type": "code",
   "execution_count": 6,
   "metadata": {
    "collapsed": false
   },
   "outputs": [],
   "source": [
    "import pickle\n",
    "with open(\"results.pic\", \"rb\") as f:\n",
    "    results = pickle.load(f)"
   ]
  },
  {
   "cell_type": "code",
   "execution_count": 8,
   "metadata": {
    "collapsed": false
   },
   "outputs": [
    {
     "data": {
      "text/plain": [
       "Constituency(name='Aberavon', electorate=50838, total_votes=31469, results=[Result(name='H. Francis', party='Labour Party', votes=16073), Result(name='K. Davies', party='Liberal Democrat', votes=5034), Result(name='C.Y. Jones', party='Conservative Party', votes=4411), Result(name='P. Nicholls-Jones', party='Plaid Cymru', votes=2198), Result(name='K.A. Edwards', party='British National Party', votes=1276), Result(name='A. Tutton', party='Independent', votes=919), Result(name='C. Beany', party='New Millennium Bean', votes=558), Result(name='J. Callan', party='United Kingdom Independence Party', votes=489)])"
      ]
     },
     "execution_count": 8,
     "metadata": {},
     "output_type": "execute_result"
    }
   ],
   "source": [
    "results[0]"
   ]
  },
  {
   "cell_type": "code",
   "execution_count": 30,
   "metadata": {
    "collapsed": false
   },
   "outputs": [],
   "source": [
    "data = []\n",
    "for result in results:\n",
    "    for votes in result.results:\n",
    "        data.append([result.name, result.electorate, result.total_votes,\n",
    "                    votes.name, votes.party, votes.votes])\n",
    "\n",
    "    all_votes = np.asarray([r.votes for r in result.results])\n",
    "    places = np.argsort(all_votes)\n",
    "    length = len(result.results)\n",
    "    for i, (p,v) in enumerate(zip(places, result.results)):\n",
    "        data[i-length].append(v.votes / result.total_votes)\n",
    "        data[i-length].append(length - p)\n",
    "        \n",
    "df = pd.DataFrame(data)\n",
    "df.columns = [\"Name\", \"Electorate\", \"Turnout\", \"Candidate\", \"Party\", \"Votes\", \"Share\", \"Place\"]"
   ]
  },
  {
   "cell_type": "code",
   "execution_count": 34,
   "metadata": {
    "collapsed": false
   },
   "outputs": [],
   "source": [
    "name_to_number = {row[\"Name\"] : row[\"Constituency\"] for _, row in res2015.iterrows()}\n",
    "name_to_country = {row[\"Name\"] : row[\"Country\"] for _, row in res2015.iterrows()}\n",
    "name_to_region = {row[\"Name\"] : row[\"Region\"] for _, row in res2015.iterrows()}"
   ]
  },
  {
   "cell_type": "code",
   "execution_count": 51,
   "metadata": {
    "collapsed": false
   },
   "outputs": [],
   "source": [
    "different_names = {\n",
    "    'Antrim East' : 'East Antrim',\n",
    "    'Antrim North' : 'North Antrim',\n",
    "    'Antrim South' : 'South Antrim',\n",
    "    'Ashton Under Lyne' : 'Ashton-under-Lyne',\n",
    "    'Down North' : 'North Down',\n",
    "    'Down South' : 'South Down',\n",
    "    'Dunfermline & Fife West' : 'Dunfermline & West Fife',\n",
    "    'Faversham & Kent Mid' : 'Faversham & Mid Kent',\n",
    "    'Londonderry East' : 'East Londonderry',\n",
    "    'Tyrone West' : 'West Tyrone',\n",
    "    'Ulster Mid' : 'Mid Ulster'\n",
    "}\n",
    "\n",
    "def adjust_name(n):\n",
    "    if n in different_names:\n",
    "        return different_names[n]\n",
    "    return n\n",
    "\n",
    "df[\"Name\"] = df.Name.map(adjust_name)"
   ]
  },
  {
   "cell_type": "code",
   "execution_count": 55,
   "metadata": {
    "collapsed": false
   },
   "outputs": [],
   "source": [
    "df[\"Constituency\"] = df.Name.map(name_to_number)\n",
    "df[\"Country\"] = df.Name.map(name_to_country)\n",
    "df[\"Region\"] = df.Name.map(name_to_region)"
   ]
  },
  {
   "cell_type": "code",
   "execution_count": 61,
   "metadata": {
    "collapsed": false
   },
   "outputs": [
    {
     "data": {
      "text/html": [
       "<div>\n",
       "<table border=\"1\" class=\"dataframe\">\n",
       "  <thead>\n",
       "    <tr style=\"text-align: right;\">\n",
       "      <th></th>\n",
       "      <th>Constituency</th>\n",
       "      <th>Name</th>\n",
       "      <th>Country</th>\n",
       "      <th>Region</th>\n",
       "      <th>Electorate</th>\n",
       "      <th>Turnout</th>\n",
       "      <th>Candidate</th>\n",
       "      <th>Party</th>\n",
       "      <th>Votes</th>\n",
       "      <th>Share</th>\n",
       "      <th>Place</th>\n",
       "    </tr>\n",
       "  </thead>\n",
       "  <tbody>\n",
       "    <tr>\n",
       "      <th>0</th>\n",
       "      <td>1</td>\n",
       "      <td>Aberavon</td>\n",
       "      <td>Wales</td>\n",
       "      <td>Wales</td>\n",
       "      <td>50838</td>\n",
       "      <td>31469</td>\n",
       "      <td>H. Francis</td>\n",
       "      <td>Labour Party</td>\n",
       "      <td>16073</td>\n",
       "      <td>0.510757</td>\n",
       "      <td>1</td>\n",
       "    </tr>\n",
       "    <tr>\n",
       "      <th>1</th>\n",
       "      <td>1</td>\n",
       "      <td>Aberavon</td>\n",
       "      <td>Wales</td>\n",
       "      <td>Wales</td>\n",
       "      <td>50838</td>\n",
       "      <td>31469</td>\n",
       "      <td>K. Davies</td>\n",
       "      <td>Liberal Democrat</td>\n",
       "      <td>5034</td>\n",
       "      <td>0.159967</td>\n",
       "      <td>2</td>\n",
       "    </tr>\n",
       "    <tr>\n",
       "      <th>2</th>\n",
       "      <td>1</td>\n",
       "      <td>Aberavon</td>\n",
       "      <td>Wales</td>\n",
       "      <td>Wales</td>\n",
       "      <td>50838</td>\n",
       "      <td>31469</td>\n",
       "      <td>C.Y. Jones</td>\n",
       "      <td>Conservative Party</td>\n",
       "      <td>4411</td>\n",
       "      <td>0.140170</td>\n",
       "      <td>3</td>\n",
       "    </tr>\n",
       "    <tr>\n",
       "      <th>3</th>\n",
       "      <td>1</td>\n",
       "      <td>Aberavon</td>\n",
       "      <td>Wales</td>\n",
       "      <td>Wales</td>\n",
       "      <td>50838</td>\n",
       "      <td>31469</td>\n",
       "      <td>P. Nicholls-Jones</td>\n",
       "      <td>Plaid Cymru</td>\n",
       "      <td>2198</td>\n",
       "      <td>0.069847</td>\n",
       "      <td>4</td>\n",
       "    </tr>\n",
       "    <tr>\n",
       "      <th>4</th>\n",
       "      <td>1</td>\n",
       "      <td>Aberavon</td>\n",
       "      <td>Wales</td>\n",
       "      <td>Wales</td>\n",
       "      <td>50838</td>\n",
       "      <td>31469</td>\n",
       "      <td>K.A. Edwards</td>\n",
       "      <td>British National Party</td>\n",
       "      <td>1276</td>\n",
       "      <td>0.040548</td>\n",
       "      <td>5</td>\n",
       "    </tr>\n",
       "  </tbody>\n",
       "</table>\n",
       "</div>"
      ],
      "text/plain": [
       "   Constituency      Name Country Region  Electorate  Turnout  \\\n",
       "0             1  Aberavon   Wales  Wales       50838    31469   \n",
       "1             1  Aberavon   Wales  Wales       50838    31469   \n",
       "2             1  Aberavon   Wales  Wales       50838    31469   \n",
       "3             1  Aberavon   Wales  Wales       50838    31469   \n",
       "4             1  Aberavon   Wales  Wales       50838    31469   \n",
       "\n",
       "           Candidate                   Party  Votes     Share  Place  \n",
       "0         H. Francis            Labour Party  16073  0.510757      1  \n",
       "1          K. Davies        Liberal Democrat   5034  0.159967      2  \n",
       "2         C.Y. Jones      Conservative Party   4411  0.140170      3  \n",
       "3  P. Nicholls-Jones             Plaid Cymru   2198  0.069847      4  \n",
       "4       K.A. Edwards  British National Party   1276  0.040548      5  "
      ]
     },
     "execution_count": 61,
     "metadata": {},
     "output_type": "execute_result"
    }
   ],
   "source": [
    "cols = list(res2015.columns)\n",
    "del cols[6]\n",
    "df[cols].head()"
   ]
  },
  {
   "cell_type": "code",
   "execution_count": 62,
   "metadata": {
    "collapsed": false
   },
   "outputs": [
    {
     "data": {
      "text/html": [
       "<div>\n",
       "<table border=\"1\" class=\"dataframe\">\n",
       "  <thead>\n",
       "    <tr style=\"text-align: right;\">\n",
       "      <th></th>\n",
       "      <th>Constituency</th>\n",
       "      <th>Name</th>\n",
       "      <th>Country</th>\n",
       "      <th>Region</th>\n",
       "      <th>Electorate</th>\n",
       "      <th>Turnout</th>\n",
       "      <th>Unnamed: 6</th>\n",
       "      <th>Candidate</th>\n",
       "      <th>Party</th>\n",
       "      <th>Votes</th>\n",
       "      <th>Share</th>\n",
       "      <th>Place</th>\n",
       "    </tr>\n",
       "  </thead>\n",
       "  <tbody>\n",
       "    <tr>\n",
       "      <th>0</th>\n",
       "      <td>1</td>\n",
       "      <td>Aberavon</td>\n",
       "      <td>Wales</td>\n",
       "      <td>Wales</td>\n",
       "      <td>49821</td>\n",
       "      <td>31523</td>\n",
       "      <td>0.633</td>\n",
       "      <td>Stephen Kinnock</td>\n",
       "      <td>Labour</td>\n",
       "      <td>15416</td>\n",
       "      <td>0.489</td>\n",
       "      <td>1</td>\n",
       "    </tr>\n",
       "    <tr>\n",
       "      <th>1</th>\n",
       "      <td>1</td>\n",
       "      <td>Aberavon</td>\n",
       "      <td>Wales</td>\n",
       "      <td>Wales</td>\n",
       "      <td>49821</td>\n",
       "      <td>31523</td>\n",
       "      <td>0.633</td>\n",
       "      <td>Peter Bush</td>\n",
       "      <td>UKIP</td>\n",
       "      <td>4971</td>\n",
       "      <td>0.158</td>\n",
       "      <td>2</td>\n",
       "    </tr>\n",
       "    <tr>\n",
       "      <th>2</th>\n",
       "      <td>1</td>\n",
       "      <td>Aberavon</td>\n",
       "      <td>Wales</td>\n",
       "      <td>Wales</td>\n",
       "      <td>49821</td>\n",
       "      <td>31523</td>\n",
       "      <td>0.633</td>\n",
       "      <td>Edward Yi He</td>\n",
       "      <td>Conservative</td>\n",
       "      <td>3742</td>\n",
       "      <td>0.119</td>\n",
       "      <td>3</td>\n",
       "    </tr>\n",
       "    <tr>\n",
       "      <th>3</th>\n",
       "      <td>1</td>\n",
       "      <td>Aberavon</td>\n",
       "      <td>Wales</td>\n",
       "      <td>Wales</td>\n",
       "      <td>49821</td>\n",
       "      <td>31523</td>\n",
       "      <td>0.633</td>\n",
       "      <td>Duncan Higgitt</td>\n",
       "      <td>Plaid Cymru</td>\n",
       "      <td>3663</td>\n",
       "      <td>0.116</td>\n",
       "      <td>4</td>\n",
       "    </tr>\n",
       "    <tr>\n",
       "      <th>4</th>\n",
       "      <td>1</td>\n",
       "      <td>Aberavon</td>\n",
       "      <td>Wales</td>\n",
       "      <td>Wales</td>\n",
       "      <td>49821</td>\n",
       "      <td>31523</td>\n",
       "      <td>0.633</td>\n",
       "      <td>Helen Clarke</td>\n",
       "      <td>Liberal Democrat</td>\n",
       "      <td>1397</td>\n",
       "      <td>0.044</td>\n",
       "      <td>5</td>\n",
       "    </tr>\n",
       "  </tbody>\n",
       "</table>\n",
       "</div>"
      ],
      "text/plain": [
       "   Constituency      Name Country Region  Electorate  Turnout  Unnamed: 6  \\\n",
       "0             1  Aberavon   Wales  Wales       49821    31523       0.633   \n",
       "1             1  Aberavon   Wales  Wales       49821    31523       0.633   \n",
       "2             1  Aberavon   Wales  Wales       49821    31523       0.633   \n",
       "3             1  Aberavon   Wales  Wales       49821    31523       0.633   \n",
       "4             1  Aberavon   Wales  Wales       49821    31523       0.633   \n",
       "\n",
       "         Candidate             Party  Votes  Share  Place  \n",
       "0  Stephen Kinnock            Labour  15416  0.489      1  \n",
       "1       Peter Bush              UKIP   4971  0.158      2  \n",
       "2     Edward Yi He      Conservative   3742  0.119      3  \n",
       "3   Duncan Higgitt       Plaid Cymru   3663  0.116      4  \n",
       "4     Helen Clarke  Liberal Democrat   1397  0.044      5  "
      ]
     },
     "execution_count": 62,
     "metadata": {},
     "output_type": "execute_result"
    }
   ],
   "source": [
    "res2015.head()"
   ]
  },
  {
   "cell_type": "code",
   "execution_count": null,
   "metadata": {
    "collapsed": true
   },
   "outputs": [],
   "source": []
  }
 ],
 "metadata": {
  "kernelspec": {
   "display_name": "Python 3",
   "language": "python",
   "name": "python3"
  },
  "language_info": {
   "codemirror_mode": {
    "name": "ipython",
    "version": 3
   },
   "file_extension": ".py",
   "mimetype": "text/x-python",
   "name": "python",
   "nbconvert_exporter": "python",
   "pygments_lexer": "ipython3",
   "version": "3.6.0"
  }
 },
 "nbformat": 4,
 "nbformat_minor": 2
}
