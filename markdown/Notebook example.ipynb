{
 "cells": [
  {
   "cell_type": "markdown",
   "metadata": {},
   "source": [
    "# Some markdown\n",
    "\n",
    "This is an image:\n",
    "\n",
    "![Figure 1](graph.png)\n",
    "\n",
    "We can also do all the usual markdown things:\n",
    "\n",
    "- A list\n",
    "- Some more list"
   ]
  },
  {
   "cell_type": "markdown",
   "metadata": {},
   "source": [
    "## Embedding mathematics\n",
    "\n",
    "You can also use LaTeX to add mathematics.  Even for simple formula, I think this is much easier (once you've learnt the basics) than using Word.\n",
    "\n",
    "Let $X$ be a random variable, normally distributed with probability density function\n",
    "\n",
    "$$ f(x) = \\frac{1}{\\sqrt{2 \\pi \\sigma^2}} \\exp\\Big( -\\frac{-(x-\\mu)^2}{2\\sigma^2} \\Big) $$\n",
    "\n",
    "We find that the expectation $\\mathbb{E}(X) = \\mu$ and $\\operatorname{var}(X) = \\sigma^2$.\n",
    "\n",
    "All without having to use any Python!"
   ]
  },
  {
   "cell_type": "markdown",
   "metadata": {},
   "source": [
    "# Quick guide to installing a using.\n",
    "\n",
    "- Download and install [Anaconda python](https://www.continuum.io/downloads)\n",
    "- On Windows, from the start menu, find \"Anaconda(3)\" and then select \"Anaconda Prompt\".  (On linux, open a console.)\n",
    "- Navigate to the directory you wish to work in.  E.g.:\n",
    "\n",
    "      cd c:\\users\\mattuser\\documents\n",
    "      cd github\\python_bits\\markdown\n",
    "\n",
    "- Once you are in a suitable directory, run jupyter notebook as:\n",
    "\n",
    "      jupyter notebook\n",
    "    \n",
    "- After a while, your web browser will open with the Jupyter console.  You can start a \"new\" \"notebook\" if you want."
   ]
  },
  {
   "cell_type": "markdown",
   "metadata": {},
   "source": [
    "## In a notebook\n",
    "\n",
    "- Once you have a notebook open, use the drop-down menu in the middle to change from \"Code\" to \"Markdown\":\n",
    "\n",
    "![Menu](menu.png)\n",
    "\n",
    "- This will make the cell except to contain markdown code, instead of Python code.\n",
    "- Now type markdown, and then when you're done, press \"Shift\" and \"Enter\" to ask the notebook to render the markdown.\n",
    "- To edit, double-click in the cell.\n",
    "\n",
    "When you're done, use then \"File\" menu to \"Save and Checkpoint\".  (Ctrl-S on the keyboard).  If you have saved, you can safely close the browser window, and then the console window."
   ]
  },
  {
   "cell_type": "markdown",
   "metadata": {},
   "source": [
    "## GitHub\n",
    "\n",
    "Of course, you need to a way to get files to and from github.\n",
    "\n",
    "- The easiest way is to use the desktop client, available [Here](https://desktop.github.com/)\n",
    "- They seem to be rolling out a new \"beta\" client, of course.  Choose which one you want.\n",
    "- [Old client help](https://help.github.com/desktop/) and [Beta client help](https://help.github.com/desktop-beta/)\n",
    "\n",
    "I have to say that about once a month, the desktop client breaks and I have to resort to the `git` command line tool, and stackoverflow.  YMMV."
   ]
  },
  {
   "cell_type": "markdown",
   "metadata": {
    "collapsed": true
   },
   "source": [
    "## Some guides\n",
    "\n",
    "- [A primer](http://data-blog.udacity.com/posts/2016/10/latex-primer/) - Looks very nice\n",
    "- [More advanced guide](https://www.datacamp.com/community/tutorials/tutorial-jupyter-notebook#gs.2DAf58E) but also some mention of R\n",
    "- [Famous LaTeX primer](https://www.tug.org/twg/mactex/tutorials/ltxprimer-1.0.pdf)"
   ]
  },
  {
   "cell_type": "code",
   "execution_count": null,
   "metadata": {
    "collapsed": true
   },
   "outputs": [],
   "source": []
  }
 ],
 "metadata": {
  "kernelspec": {
   "display_name": "Python 3",
   "language": "python",
   "name": "python3"
  },
  "language_info": {
   "codemirror_mode": {
    "name": "ipython",
    "version": 3
   },
   "file_extension": ".py",
   "mimetype": "text/x-python",
   "name": "python",
   "nbconvert_exporter": "python",
   "pygments_lexer": "ipython3",
   "version": "3.6.0"
  }
 },
 "nbformat": 4,
 "nbformat_minor": 2
}
