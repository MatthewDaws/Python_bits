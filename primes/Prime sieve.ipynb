{
 "cells": [
  {
   "cell_type": "code",
   "execution_count": null,
   "metadata": {},
   "outputs": [],
   "source": [
    "%matplotlib inline\n",
    "import matplotlib.pyplot as plt\n",
    "import numpy as np\n",
    "import array"
   ]
  },
  {
   "cell_type": "code",
   "execution_count": null,
   "metadata": {},
   "outputs": [],
   "source": [
    "class Sieve:\n",
    "    def __init__(self, maxp):\n",
    "        self._array = array.array(\"L\") # 32-bit unsigned\n",
    "        self._maxp = ((maxp+63)//64)*64 + 2\n",
    "        for x in range(self._maxp//64):\n",
    "            self._array.append(4294967295)\n",
    "        p = 3\n",
    "        while p*p <= self._maxp:\n",
    "            pp = p + p + p\n",
    "            while pp <= self._maxp:\n",
    "                self._put(pp)\n",
    "                pp += p + p\n",
    "            while True:\n",
    "                p += 2\n",
    "                if self._get(p):\n",
    "                    break\n",
    "        \n",
    "    def is_prime(self, p):\n",
    "        assert(p>1)\n",
    "        if p == 2:\n",
    "            return True\n",
    "        if p%2 == 0:\n",
    "            return False\n",
    "        return self._get(p)\n",
    "        \n",
    "    def __iter__(self):\n",
    "        yield 2\n",
    "        start = 3\n",
    "        for x in self._array:\n",
    "            for i in range(32):\n",
    "                if (x&1)==1:\n",
    "                    yield start + i + i\n",
    "                x = x>>1\n",
    "            start += 64\n",
    "        \n",
    "    def _put(self, n):\n",
    "        # 3->0, 5->1, 7->2 etc.\n",
    "        nn = (n-3)//2\n",
    "        dword = nn//32\n",
    "        bit = nn%32\n",
    "        mask = 1<<bit\n",
    "        self._array[dword] &= (4294967295 - mask)\n",
    "        \n",
    "    def _get(self, n):\n",
    "        nn = (n-3)//2\n",
    "        dword = nn//32\n",
    "        bit = nn%32\n",
    "        mask = 1<<bit\n",
    "        return (self._array[dword] & mask)!=0"
   ]
  },
  {
   "cell_type": "markdown",
   "metadata": {},
   "source": [
    "Some testing..."
   ]
  },
  {
   "cell_type": "code",
   "execution_count": null,
   "metadata": {},
   "outputs": [],
   "source": [
    "s = Sieve(10)\n",
    "assert( list(s)[:4] == [2,3,5,7] )"
   ]
  },
  {
   "cell_type": "code",
   "execution_count": null,
   "metadata": {},
   "outputs": [],
   "source": [
    "def is_prime(p):\n",
    "    assert(p>1)\n",
    "    x = 2\n",
    "    while x*x<=p:\n",
    "        if p%x == 0:\n",
    "            return False\n",
    "        x+=1\n",
    "    return True\n",
    "\n",
    "assert(not is_prime(9))\n",
    "assert(is_prime(2))\n",
    "assert(is_prime(3))\n",
    "assert(not is_prime(4))\n",
    "assert( [x for x in range(2,20) if is_prime(x)] == [2,3,5,7,11,13,17,19])"
   ]
  },
  {
   "cell_type": "code",
   "execution_count": null,
   "metadata": {},
   "outputs": [],
   "source": [
    "s = Sieve(1000)\n",
    "assert(all(is_prime(x) for x in s))"
   ]
  },
  {
   "cell_type": "markdown",
   "metadata": {},
   "source": [
    "Find $10^6$ primes"
   ]
  },
  {
   "cell_type": "code",
   "execution_count": null,
   "metadata": {},
   "outputs": [],
   "source": [
    "import time\n",
    "start = time.process_time()\n",
    "s = Sieve(1000000)\n",
    "time.process_time() - start"
   ]
  },
  {
   "cell_type": "markdown",
   "metadata": {},
   "source": [
    "# PIL"
   ]
  },
  {
   "cell_type": "code",
   "execution_count": null,
   "metadata": {},
   "outputs": [],
   "source": [
    "import PIL.Image"
   ]
  },
  {
   "cell_type": "code",
   "execution_count": null,
   "metadata": {},
   "outputs": [],
   "source": [
    "im = PIL.Image.new(\"1\", (1000,1000), 0)\n",
    "px = im.load()\n",
    "for num in s:\n",
    "    x = (num-1)%1000\n",
    "    y = (num-1)//1000\n",
    "    px[x,y] = 1\n",
    "im"
   ]
  },
  {
   "cell_type": "markdown",
   "metadata": {},
   "source": [
    "# Much larger"
   ]
  },
  {
   "cell_type": "code",
   "execution_count": null,
   "metadata": {},
   "outputs": [],
   "source": [
    "import time\n",
    "start = time.process_time()\n",
    "s = Sieve(100000000)\n",
    "time.process_time() - start"
   ]
  },
  {
   "cell_type": "code",
   "execution_count": null,
   "metadata": {},
   "outputs": [],
   "source": [
    "im = PIL.Image.new(\"1\", (10000,10000), 0)\n",
    "px = im.load()\n",
    "for num in s:\n",
    "    x = (num-1)%10000\n",
    "    y = (num-1)//10000\n",
    "    px[x,y] = 1\n",
    "im"
   ]
  },
  {
   "cell_type": "markdown",
   "metadata": {},
   "source": [
    "Would be better done in numpy..."
   ]
  },
  {
   "cell_type": "code",
   "execution_count": null,
   "metadata": {},
   "outputs": [],
   "source": [
    "im1 = PIL.Image.new(\"L\", (1000,1000), 0)\n",
    "px1 = im1.load()\n",
    "for n in range(1000000):\n",
    "    x, y = (n%1000), (n//1000)\n",
    "    summ = 0\n",
    "    for xx in range(x*10, x*10+10):\n",
    "        for yy in range(y*10, y*10+10):\n",
    "            summ += px[xx,yy]\n",
    "    px1[x,y] = min(255, int((summ / 10) * 255))"
   ]
  },
  {
   "cell_type": "code",
   "execution_count": null,
   "metadata": {},
   "outputs": [],
   "source": [
    "im1"
   ]
  },
  {
   "cell_type": "markdown",
   "metadata": {},
   "source": [
    "## Prime number theorem"
   ]
  },
  {
   "cell_type": "code",
   "execution_count": null,
   "metadata": {},
   "outputs": [],
   "source": [
    "x = np.asarray([x*100 for x in range(1, 1000001)])\n",
    "counts = np.zeros_like(x)\n",
    "for prime in s:\n",
    "    if prime >= 100000000:\n",
    "        break\n",
    "    m = prime // 100\n",
    "    counts[m] += 1\n",
    "cumulative_counts = np.cumsum(counts)"
   ]
  },
  {
   "cell_type": "code",
   "execution_count": null,
   "metadata": {},
   "outputs": [],
   "source": [
    "randoms = []\n",
    "for m in range(1, 1000001):\n",
    "    upper_count = m * 100 * 1.06 / np.log(m * 100)\n",
    "    choices = list(range(m*100 - 99, m*100+1))\n",
    "    # Optionally remove things which \"obviously\" aren't prime\n",
    "    choices = [x for x in choices if not(x%2==0 or x%3==0 or x%5==0)]\n",
    "    choices = np.random.choice(choices, int(upper_count) - len(randoms), replace=False)\n",
    "    randoms.extend( np.sort(choices) )"
   ]
  },
  {
   "cell_type": "code",
   "execution_count": null,
   "metadata": {},
   "outputs": [],
   "source": [
    "counts = np.zeros_like(x)\n",
    "for prime in randoms:\n",
    "    m = prime // 100\n",
    "    counts[m] += 1\n",
    "random_cumulative_counts = np.cumsum(counts)"
   ]
  },
  {
   "cell_type": "code",
   "execution_count": null,
   "metadata": {},
   "outputs": [],
   "source": [
    "fig, ax = plt.subplots(1,1, figsize=(15,8))\n",
    "ax.plot(x, cumulative_counts, label=\"primes\")\n",
    "ax.plot(x, random_cumulative_counts, label=\"randoms\")\n",
    "# 1.06 depends on 10^x, as it were\n",
    "y = 1.06 * x / np.log(x)\n",
    "ax.plot(x, y, label=\"expected\")\n",
    "ax.legend()\n",
    "pass"
   ]
  },
  {
   "cell_type": "markdown",
   "metadata": {},
   "source": [
    "So numbers of primes $<=x$ is about $1.06 x / log(x)$"
   ]
  },
  {
   "cell_type": "code",
   "execution_count": null,
   "metadata": {},
   "outputs": [],
   "source": [
    "im = PIL.Image.new(\"1\", (10000,10000), 0)\n",
    "px = im.load()\n",
    "for num in randoms:\n",
    "    x = (num-1)%10000\n",
    "    y = (num-1)//10000\n",
    "    px[int(x),int(y)] = 1\n",
    "im"
   ]
  },
  {
   "cell_type": "code",
   "execution_count": null,
   "metadata": {},
   "outputs": [],
   "source": [
    "im2 = PIL.Image.new(\"L\", (1000,1000), 0)\n",
    "px2 = im2.load()\n",
    "for n in range(1000000):\n",
    "    x, y = (n%1000), (n//1000)\n",
    "    summ = 0\n",
    "    for xx in range(x*10, x*10+10):\n",
    "        for yy in range(y*10, y*10+10):\n",
    "            summ += px[xx,yy]\n",
    "    px2[x,y] = min(255, int((summ / 10) * 255))"
   ]
  },
  {
   "cell_type": "code",
   "execution_count": null,
   "metadata": {},
   "outputs": [],
   "source": [
    "im2"
   ]
  },
  {
   "cell_type": "code",
   "execution_count": null,
   "metadata": {},
   "outputs": [],
   "source": [
    "im1.save(\"primes.png\")\n",
    "im2.save(\"randoms.png\")"
   ]
  },
  {
   "cell_type": "code",
   "execution_count": null,
   "metadata": {},
   "outputs": [],
   "source": [
    "im3 = PIL.Image.new(\"L\", (1000,1000), 0)\n",
    "im3.paste(im1, (0,0))\n",
    "im3.paste(im2, (500,0))\n",
    "im3"
   ]
  },
  {
   "cell_type": "code",
   "execution_count": null,
   "metadata": {},
   "outputs": [],
   "source": [
    "im3.save(\"both.png\")"
   ]
  },
  {
   "cell_type": "code",
   "execution_count": null,
   "metadata": {},
   "outputs": [],
   "source": []
  }
 ],
 "metadata": {
  "kernelspec": {
   "display_name": "Python 3",
   "language": "python",
   "name": "python3"
  },
  "language_info": {
   "codemirror_mode": {
    "name": "ipython",
    "version": 3
   },
   "file_extension": ".py",
   "mimetype": "text/x-python",
   "name": "python",
   "nbconvert_exporter": "python",
   "pygments_lexer": "ipython3",
   "version": "3.7.1"
  }
 },
 "nbformat": 4,
 "nbformat_minor": 2
}
