{
 "metadata": {
  "name": "",
  "signature": "sha256:1d0d1bb9ce0c143f2c3e3bb6c2bbfcfda163383f66d6e69f2d2ff6fb4f649dfc"
 },
 "nbformat": 3,
 "nbformat_minor": 0,
 "worksheets": [
  {
   "cells": [
    {
     "cell_type": "markdown",
     "metadata": {},
     "source": [
      "This is a little mathematical background to justify why we might require [priors](http://en.wikipedia.org/wiki/Prior_probability) to be \"invariant\" under certain transformations of the parameter space.  This is not a new idea, but the derivation is my own (and hence so are errors...)\n",
      "\n",
      "I'll use `sympy` to do some examples."
     ]
    },
    {
     "cell_type": "code",
     "collapsed": false,
     "input": [
      "%matplotlib inline\n",
      "import sympy\n",
      "sympy.init_printing(use_latex = True)"
     ],
     "language": "python",
     "metadata": {},
     "outputs": [],
     "prompt_number": 3
    },
    {
     "cell_type": "markdown",
     "metadata": {},
     "source": [
      "As motivation, consider a model where $(X_i)_{i=1}^n$ are IID samples from $N(\\mu,\\sigma^2)$ where we wish to use a sample $(x_i)$ to make inferences about $\\mu, \\sigma$.  For some variety, I'll use the [precision](http://en.wikipedia.org/wiki/Precision_%28statistics%29) $\\tau = 1 / \\sigma^2$.\n",
      "\n",
      "So our random variable $x=(x_i)$ takes values in $\\Omega = \\mathbb R^n$.  Consider the transformation $\\phi : \\Omega\\rightarrow\\Omega; (x_i) \\mapsto (bx_i+b)$.  That is, for each sample, we scale by $b$ and add $a$.  Then $\\phi(x)$ is a sample of IID $N(b\\mu+a, b^2\\sigma^2)$.  If $\\Theta$ is the parameter space (in our case, say $\\{ (\\mu,\\tau) : \\tau > 0 \\}$) then consider the transformation $\\psi : \\Theta \\rightarrow \\Theta; (\\mu,\\tau) \\mapsto (b\\mu+a, b^{-2} \\tau )$.  It is hence reasonable to say the following:\n",
      "   - Suppose we make some inference about $\\theta = (\\mu,\\tau)$ given $x = (x_i)$.\n",
      "   - Then we should make the \"same\" inference about $\\psi(\\theta)$ given $\\phi(x)$.\n",
      "   \n",
      "As an example, if $\\phi(x) = ( 2x_i - 1 )$ and our inference about $(x_i)$ gives a value to $\\mathbb P( 0\\leq \\mu \\leq 2, 1 \\leq \\tau \\leq 3 )$ then as $\\psi(\\mu,\\tau) = (2\\mu-1, \\tau/2)$, the inference about $(2x_i-1)$ should give the sample value to $\\mathbb P( -1 \\leq \\mu \\leq 3, 1/4 \\leq \\tau \\leq 3/4 )$."
     ]
    },
    {
     "cell_type": "heading",
     "level": 2,
     "metadata": {},
     "source": [
      "The assumption"
     ]
    },
    {
     "cell_type": "markdown",
     "metadata": {},
     "source": [
      "Let $f(x|\\theta)$ be the PDF of $x$ given the parameter value $\\theta$.  So $\\mathbb P(x\\in A | \\theta) = \\int_A f(x|\\theta) dx$ for measurable $A\\subseteq\\Omega$.  Our assumption is that apply $\\phi$ to $\\Omega$ is \"the same as\" applying $\\psi$ to $\\Theta$.  That is,\n",
      "$$ \\mathbb P(\\phi(x)\\in A | \\theta) = \\mathbb P(x\\in A | \\psi(\\theta) ). $$\n",
      "By the [change of variables formula](http://en.wikipedia.org/wiki/Integration_by_substitution#Application_in_probability) the distribution $y = \\phi(x)$ has density $f(\\phi^{-1}(y)|\\theta) |\\det J(\\phi^{-1})|$ here $J$ is the Jacobian.  Using that $|\\det J(\\phi^{-1})| = 1 / |\\det J(\\phi)|$ we find that\n",
      "$$ f(\\phi^{-1}(y)|\\theta) = f(y|\\psi(\\theta)) |\\det J(\\phi)|, $$\n",
      "or equivalently, with $x = \\phi^{-1}(y)$,\n",
      "$$ f(x|\\theta) = f(\\phi(x)|\\psi(\\theta)) |\\det J(\\phi)|. $$"
     ]
    },
    {
     "cell_type": "markdown",
     "metadata": {},
     "source": [
      "Let's check this for our normal distribution example.  \n",
      "\n",
      "   - In `sympy` I don't know how to specify $x_1, x_2, \\cdots, x_n$ for an unknown $n$.\n",
      "   - So let's get around this with a hack.\n",
      "\n",
      "Write $\\sum_i (x_i - \\mu)^2 = \\sum_i x_i^2 - 2\\mu \\sum_i x_i + n\\mu^2 = S_{xx} - 2\\mu S_x + n\\mu^2$."
     ]
    },
    {
     "cell_type": "code",
     "collapsed": false,
     "input": [
      "def density(Sxx, Sx, n, mu, tau):\n",
      "    \"\"\"Return the density (2\\pi\\sigma^2)^{-n/2} \\exp(-\\sum (x_i-\\mu)^2 / 2\\sigma^2)\n",
      "    = (2\\pi)^{-n/2} \\tau^{n/2} \\exp(-\\tau (S_{xx} - 2\\mu S_x + n\\mu^2)/2)\"\"\"\n",
      "    return (2 * sympy.pi)**(-n/2) * tau**(n/2) * sympy.exp( - tau * (Sxx - 2*mu*Sx + n*mu**2) / 2 )\n",
      "\n",
      "n = sympy.symbols(\"n\", integer = True, positive = True)\n",
      "Sx, mu = sympy.symbols(\"Sx mu\", real = True)\n",
      "Sxx, tau = sympy.symbols(\"Sxx tau\", real = True, positive = True)\n",
      "\n",
      "density(Sxx, Sx, n, mu, tau)"
     ],
     "language": "python",
     "metadata": {},
     "outputs": [
      {
       "latex": [
        "$$\\frac{\\tau^{\\frac{n}{2}}}{\\left(2 \\pi\\right)^{\\frac{n}{2}}} e^{- \\frac{\\tau}{2} \\left(- 2 Sx \\mu + Sxx + \\mu^{2} n\\right)}$$"
       ],
       "metadata": {},
       "output_type": "pyout",
       "png": "[encoded data removed]",
       "prompt_number": 4,
       "text": [
        "                \u239b                 2  \u239e \n",
        " n      -n   -\u03c4\u22c5\u239d-2\u22c5Sx\u22c5\u03bc + Sxx + \u03bc \u22c5n\u23a0 \n",
        " \u2500      \u2500\u2500\u2500  \u2500\u2500\u2500\u2500\u2500\u2500\u2500\u2500\u2500\u2500\u2500\u2500\u2500\u2500\u2500\u2500\u2500\u2500\u2500\u2500\u2500\u2500\u2500\u2500\u2500\u2500\n",
        " 2       2               2             \n",
        "\u03c4 \u22c5(2\u22c5\u03c0)   \u22c5\u212f                          "
       ]
      }
     ],
     "prompt_number": 4
    },
    {
     "cell_type": "markdown",
     "metadata": {},
     "source": [
      "Our transformation $\\phi$ is $x_i \\mapsto bx_i+a$ and so $S_{xx} \\mapsto \\sum_i (bx_i+a)^2 = b^2S_{xx} + 2abS_x + na^2$ and $S_x \\mapsto \\sum_i bx_i+a = bS_x+na$."
     ]
    },
    {
     "cell_type": "code",
     "collapsed": false,
     "input": [
      "def phi(a, b):\n",
      "    def func(Sxx, Sx, n):\n",
      "        return b*b*Sxx + 2*a*b*Sx + n*a*a, b*Sx + n*a, n\n",
      "    return func\n",
      "    \n",
      "a, b = sympy.symbols(\"a b\", real = True)\n",
      "density(*phi(a,b)(Sxx,Sx,n),mu=mu,tau=tau)"
     ],
     "language": "python",
     "metadata": {},
     "outputs": [
      {
       "latex": [
        "$$\\frac{\\tau^{\\frac{n}{2}}}{\\left(2 \\pi\\right)^{\\frac{n}{2}}} e^{- \\frac{\\tau}{2} \\left(2 Sx a b + Sxx b^{2} + a^{2} n + \\mu^{2} n - 2 \\mu \\left(Sx b + a n\\right)\\right)}$$"
       ],
       "metadata": {},
       "output_type": "pyout",
       "png": "[encoded data removed]",
       "prompt_number": 5,
       "text": [
        "                \u239b                2    2      2                     \u239e \n",
        " n      -n   -\u03c4\u22c5\u239d2\u22c5Sx\u22c5a\u22c5b + Sxx\u22c5b  + a \u22c5n + \u03bc \u22c5n - 2\u22c5\u03bc\u22c5(Sx\u22c5b + a\u22c5n)\u23a0 \n",
        " \u2500      \u2500\u2500\u2500  \u2500\u2500\u2500\u2500\u2500\u2500\u2500\u2500\u2500\u2500\u2500\u2500\u2500\u2500\u2500\u2500\u2500\u2500\u2500\u2500\u2500\u2500\u2500\u2500\u2500\u2500\u2500\u2500\u2500\u2500\u2500\u2500\u2500\u2500\u2500\u2500\u2500\u2500\u2500\u2500\u2500\u2500\u2500\u2500\u2500\u2500\u2500\u2500\u2500\u2500\u2500\u2500\u2500\u2500\u2500\u2500\n",
        " 2       2                              2                            \n",
        "\u03c4 \u22c5(2\u22c5\u03c0)   \u22c5\u212f                                                        "
       ]
      }
     ],
     "prompt_number": 5
    },
    {
     "cell_type": "markdown",
     "metadata": {},
     "source": [
      "Our transformation $\\psi$ is $\\mu\\mapsto b\\mu+a, \\tau \\mapsto b^{-2} \\tau$."
     ]
    },
    {
     "cell_type": "code",
     "collapsed": false,
     "input": [
      "def psi(a, b):\n",
      "    def func(mu, tau):\n",
      "        return b*mu+a, b**(-2) * tau\n",
      "    return func\n",
      "\n",
      "density(Sxx,Sx,n,*psi(a,b)(mu,tau))"
     ],
     "language": "python",
     "metadata": {},
     "outputs": [
      {
       "latex": [
        "$$\\frac{\\left(\\frac{\\tau}{b^{2}}\\right)^{\\frac{n}{2}}}{\\left(2 \\pi\\right)^{\\frac{n}{2}}} e^{- \\frac{\\tau}{2 b^{2}} \\left(- Sx \\left(2 a + 2 b \\mu\\right) + Sxx + n \\left(a + b \\mu\\right)^{2}\\right)}$$"
       ],
       "metadata": {},
       "output_type": "pyout",
       "png": "[encoded data removed]",
       "prompt_number": 6,
       "text": [
        "                   \u239b                                     2\u239e \n",
        "             n  -\u03c4\u22c5\u239d-Sx\u22c5(2\u22c5a + 2\u22c5b\u22c5\u03bc) + Sxx + n\u22c5(a + b\u22c5\u03bc) \u23a0 \n",
        "     -n      \u2500  \u2500\u2500\u2500\u2500\u2500\u2500\u2500\u2500\u2500\u2500\u2500\u2500\u2500\u2500\u2500\u2500\u2500\u2500\u2500\u2500\u2500\u2500\u2500\u2500\u2500\u2500\u2500\u2500\u2500\u2500\u2500\u2500\u2500\u2500\u2500\u2500\u2500\u2500\u2500\u2500\u2500\u2500\u2500\u2500\n",
        "     \u2500\u2500\u2500     2                         2                    \n",
        "      2  \u239b\u03c4 \u239e                       2\u22c5b                     \n",
        "(2\u22c5\u03c0)   \u22c5\u239c\u2500\u2500\u239f \u22c5\u212f                                            \n",
        "         \u239c 2\u239f                                               \n",
        "         \u239db \u23a0                                               "
       ]
      }
     ],
     "prompt_number": 6
    },
    {
     "cell_type": "markdown",
     "metadata": {},
     "source": [
      "Unfortunately, our \"hack\" means we can't automate the calculation of the determinant.  We have $\\phi:\\mathbb R^n \\rightarrow \\mathbb R^n; (x_i) \\mapsto (bx_i+a)$ so $J(\\phi) = bI_n$ and hence $\\det J(\\phi) = b^n$."
     ]
    },
    {
     "cell_type": "code",
     "collapsed": false,
     "input": [
      "rhs = density(*(phi(a,b)(Sxx,Sx,n) + psi(a,b)(mu,tau))) * sympy.Abs(b)**n\n",
      "sympy.simplify(rhs)"
     ],
     "language": "python",
     "metadata": {},
     "outputs": [
      {
       "latex": [
        "$$\\frac{\\tau^{\\frac{n}{2}}}{2^{\\frac{n}{2}} \\pi^{\\frac{n}{2}}} e^{\\frac{\\tau}{2} \\left(2 Sx \\mu - Sxx - \\mu^{2} n\\right)}$$"
       ],
       "metadata": {},
       "output_type": "pyout",
       "png": "[encoded data removed]",
       "prompt_number": 7,
       "text": [
        "                \u239b                2  \u239e\n",
        " -n   -n   n  \u03c4\u22c5\u239d2\u22c5Sx\u22c5\u03bc - Sxx - \u03bc \u22c5n\u23a0\n",
        " \u2500\u2500\u2500  \u2500\u2500\u2500  \u2500  \u2500\u2500\u2500\u2500\u2500\u2500\u2500\u2500\u2500\u2500\u2500\u2500\u2500\u2500\u2500\u2500\u2500\u2500\u2500\u2500\u2500\u2500\u2500\n",
        "  2    2   2             2           \n",
        "2   \u22c5\u03c0   \u22c5\u03c4 \u22c5\u212f                       "
       ]
      }
     ],
     "prompt_number": 7
    },
    {
     "cell_type": "code",
     "collapsed": false,
     "input": [
      "lhs = density(Sxx,Sx,n,mu,tau)\n",
      "lhs"
     ],
     "language": "python",
     "metadata": {},
     "outputs": [
      {
       "latex": [
        "$$\\frac{\\tau^{\\frac{n}{2}}}{\\left(2 \\pi\\right)^{\\frac{n}{2}}} e^{- \\frac{\\tau}{2} \\left(- 2 Sx \\mu + Sxx + \\mu^{2} n\\right)}$$"
       ],
       "metadata": {},
       "output_type": "pyout",
       "png": "[encoded data removed]",
       "prompt_number": 8,
       "text": [
        "                \u239b                 2  \u239e \n",
        " n      -n   -\u03c4\u22c5\u239d-2\u22c5Sx\u22c5\u03bc + Sxx + \u03bc \u22c5n\u23a0 \n",
        " \u2500      \u2500\u2500\u2500  \u2500\u2500\u2500\u2500\u2500\u2500\u2500\u2500\u2500\u2500\u2500\u2500\u2500\u2500\u2500\u2500\u2500\u2500\u2500\u2500\u2500\u2500\u2500\u2500\u2500\u2500\n",
        " 2       2               2             \n",
        "\u03c4 \u22c5(2\u22c5\u03c0)   \u22c5\u212f                          "
       ]
      }
     ],
     "prompt_number": 8
    },
    {
     "cell_type": "markdown",
     "metadata": {},
     "source": [
      "Unfortunately, the following is a little distressing..."
     ]
    },
    {
     "cell_type": "code",
     "collapsed": false,
     "input": [
      "rhs == lhs"
     ],
     "language": "python",
     "metadata": {},
     "outputs": [
      {
       "metadata": {},
       "output_type": "pyout",
       "prompt_number": 9,
       "text": [
        "False"
       ]
      }
     ],
     "prompt_number": 9
    },
    {
     "cell_type": "code",
     "collapsed": false,
     "input": [
      "rhs - lhs == 0"
     ],
     "language": "python",
     "metadata": {},
     "outputs": [
      {
       "metadata": {},
       "output_type": "pyout",
       "prompt_number": 10,
       "text": [
        "False"
       ]
      }
     ],
     "prompt_number": 10
    },
    {
     "cell_type": "code",
     "collapsed": false,
     "input": [
      "sympy.simplify(rhs - lhs)"
     ],
     "language": "python",
     "metadata": {},
     "outputs": [
      {
       "latex": [
        "$$0$$"
       ],
       "metadata": {},
       "output_type": "pyout",
       "png": "[encoded data removed]",
       "prompt_number": 11,
       "text": [
        "0"
       ]
      }
     ],
     "prompt_number": 11
    },
    {
     "cell_type": "code",
     "collapsed": false,
     "input": [
      "sympy.simplify(rhs - lhs) == 0"
     ],
     "language": "python",
     "metadata": {},
     "outputs": [
      {
       "metadata": {},
       "output_type": "pyout",
       "prompt_number": 12,
       "text": [
        "True"
       ]
      }
     ],
     "prompt_number": 12
    },
    {
     "cell_type": "heading",
     "level": 2,
     "metadata": {},
     "source": [
      "What we wish to be true"
     ]
    },
    {
     "cell_type": "markdown",
     "metadata": {},
     "source": [
      "Okay, so what about our inference, about the _posterior distribution_, do we wish to be true?\n",
      "\n",
      "$$ \\mathbb P(\\theta \\in \\Psi(A) | \\phi(x) ) = \\mathbb P(\\theta\\in A | x). $$\n",
      "\n",
      "Again, if we write $p(\\theta|x)$ for the posterior density, then this is equivalent to:\n",
      "\n",
      "$$ p(\\theta|x) = p(\\psi(\\theta)| \\phi(x)) |\\det J(\\psi)|. $$"
     ]
    },
    {
     "cell_type": "markdown",
     "metadata": {},
     "source": [
      "By Bayes' Theorem, we want the following to be true:\n",
      "\n",
      "$$ \\frac{f(x|\\theta) p(\\theta)}{p(x)} = \\frac{f(\\phi(x)|\\psi(\\theta)) p(\\psi(\\theta))}{p(\\phi(x))} |\\det J(\\psi)|. $$\n",
      "\n",
      "By our assumption $f(x|\\theta) = f(\\phi(x)|\\psi(\\theta)) |\\det J(\\phi)|$, this is equivalent to:\n",
      "\n",
      "$$ \\frac{f(\\phi(x)|\\psi(\\theta)) |\\det J(\\phi)| p(\\theta)}{p(x)} = \\frac{f(\\phi(x)|\\psi(\\theta)) p(\\psi(\\theta))}{p(\\phi(x))} |\\det J(\\psi)|. $$"
     ]
    },
    {
     "cell_type": "heading",
     "level": 2,
     "metadata": {},
     "source": [
      "A little arm waving."
     ]
    },
    {
     "cell_type": "markdown",
     "metadata": {},
     "source": [
      "We need to deal with the terms $p(x)$ and $p(\\phi(x))$.  Now, these are likely to be \"improper distributions\", much as we expect $p(\\theta)$ to be improper.  Thus, $\\int p(x) dx$ may fail to be finite, and so we more correctly think of $p(x)$ as measuring \"proportional\" or \"relative\" probability: $\\int_A p(x) dx$ cannot be interpretted as a probability, but we can make sense of the ratio $\\int_A p(x) dx / \\int_B p(x) dx$ as the \"ratio\" of more likely $x$ is to be in $A$ relative to $B$.\n",
      "\n",
      "With that out the way, it still makes sense to transform $x$.  Our philosophy is that $\\phi$ isn't \"changing\" the data, and so $\\phi(x)$ should be no more or less likely than $x$.  Formally then, we want\n",
      "$$ \\mathbb P(x \\in A) = \\mathbb P(\\phi(x)\\in A). $$\n",
      "By change of variables, this means that\n",
      "$$ p(x) = p(\\phi(x)) |\\det J(\\phi)|. $$"
     ]
    },
    {
     "cell_type": "markdown",
     "metadata": {},
     "source": [
      "Combining this with the above, what we hope to be true is that:\n",
      "\n",
      "$$ \\frac{f(\\phi(x)|\\psi(\\theta)) |\\det J(\\phi)| p(\\theta)}{p(\\phi(x))|\\det J(\\phi)|} = \\frac{f(\\phi(x)|\\psi(\\theta)) p(\\psi(\\theta))}{p(\\phi(x))} |\\det J(\\psi)|. $$\n",
      "\n",
      "This cancels down to:\n",
      "\n",
      "$$ p(\\theta) = p(\\psi(\\theta)) |\\det J(\\psi)|. $$\n",
      "\n",
      "Thus we have derived a relationship which the _prior_ should have!"
     ]
    },
    {
     "cell_type": "heading",
     "level": 2,
     "metadata": {},
     "source": [
      "For our example."
     ]
    },
    {
     "cell_type": "markdown",
     "metadata": {},
     "source": [
      "We have $\\psi(\\mu,\\tau) = (b\\mu+a, b^{-2} \\tau)$ and so $|\\det J(\\psi)| = |b|^{-1}$.  Thus we need\n",
      "\n",
      "$$ p(\\mu,\\tau) = |b|^{-1} p(b\\mu+a, b^{-2} \\tau) $$\n",
      "\n",
      "for all $\\mu,\\tau,a,b$.  Set $b=1$ and $a=-\\mu$ to get\n",
      "\n",
      "$$ p(\\mu,\\tau) = p(0, \\tau) $$\n",
      "\n",
      "So $p(\\mu,\\tau) = h(\\tau)$ for some function $h$.  Then set $b = \\tau^{1/2}$ to find that\n",
      "\n",
      "$$ h(\\tau) = |b|^{-1} h(|b|^{-2}\\tau) \\implies h(\\tau) = \\tau^{-1/2} h(1) \\implies h(\\tau) \\propto \\tau^{-1/2} $$\n",
      "\n",
      "as $\\tau > 0$.  Thus $p(\\mu,\\tau) \\propto \\tau^{-1/2}$."
     ]
    },
    {
     "cell_type": "heading",
     "level": 1,
     "metadata": {},
     "source": [
      "Some comments"
     ]
    },
    {
     "cell_type": "markdown",
     "metadata": {},
     "source": [
      "Firstly, let's check that at least the posterior is well-defined."
     ]
    },
    {
     "cell_type": "code",
     "collapsed": false,
     "input": [
      "posterior = density(Sxx, Sx, n, mu, tau) * tau**(-1/2)\n",
      "posterior"
     ],
     "language": "python",
     "metadata": {},
     "outputs": [
      {
       "latex": [
        "$$\\frac{\\tau^{\\frac{n}{2}}}{\\tau^{0.5} \\left(2 \\pi\\right)^{\\frac{n}{2}}} e^{- \\frac{\\tau}{2} \\left(- 2 Sx \\mu + Sxx + \\mu^{2} n\\right)}$$"
       ],
       "metadata": {},
       "output_type": "pyout",
       "png": "[encoded data removed]",
       "prompt_number": 69,
       "text": [
        "                      \u239b                 2  \u239e \n",
        "       n      -n   -\u03c4\u22c5\u239d-2\u22c5Sx\u22c5\u03bc + Sxx + \u03bc \u22c5n\u23a0 \n",
        "       \u2500      \u2500\u2500\u2500  \u2500\u2500\u2500\u2500\u2500\u2500\u2500\u2500\u2500\u2500\u2500\u2500\u2500\u2500\u2500\u2500\u2500\u2500\u2500\u2500\u2500\u2500\u2500\u2500\u2500\u2500\n",
        " -0.5  2       2               2             \n",
        "\u03c4    \u22c5\u03c4 \u22c5(2\u22c5\u03c0)   \u22c5\u212f                          "
       ]
      }
     ],
     "prompt_number": 69
    },
    {
     "cell_type": "code",
     "collapsed": false,
     "input": [
      "int1 = sympy.integrate(posterior, (mu, -sympy.oo, sympy.oo))\n",
      "int1 = sympy.simplify(int1)\n",
      "int1"
     ],
     "language": "python",
     "metadata": {},
     "outputs": [
      {
       "latex": [
        "$$\\frac{1}{\\sqrt{n}} 2^{- \\frac{n}{2} + \\frac{1}{2}} \\pi^{- \\frac{n}{2} + \\frac{1}{2}} \\tau^{\\frac{n}{2} - 1.0} e^{\\frac{\\tau}{2} \\left(\\frac{Sx^{2}}{n} - Sxx\\right)}$$"
       ],
       "metadata": {},
       "output_type": "pyout",
       "png": "[encoded data removed]",
       "prompt_number": 70,
       "text": [
        "                              \u239b  2      \u239e\n",
        "                              \u239cSx       \u239f\n",
        "                            \u03c4\u22c5\u239c\u2500\u2500\u2500 - Sxx\u239f\n",
        "   n   1    n   1  n          \u239d n       \u23a0\n",
        " - \u2500 + \u2500  - \u2500 + \u2500  \u2500 - 1.0  \u2500\u2500\u2500\u2500\u2500\u2500\u2500\u2500\u2500\u2500\u2500\u2500\u2500\n",
        "   2   2    2   2  2              2      \n",
        "2       \u22c5\u03c0       \u22c5\u03c4       \u22c5\u212f             \n",
        "\u2500\u2500\u2500\u2500\u2500\u2500\u2500\u2500\u2500\u2500\u2500\u2500\u2500\u2500\u2500\u2500\u2500\u2500\u2500\u2500\u2500\u2500\u2500\u2500\u2500\u2500\u2500\u2500\u2500\u2500\u2500\u2500\u2500\u2500\u2500\u2500\u2500\u2500\u2500\u2500\u2500\n",
        "                    ___                  \n",
        "                  \u2572\u2571 n                   "
       ]
      }
     ],
     "prompt_number": 70
    },
    {
     "cell_type": "code",
     "collapsed": false,
     "input": [
      "sympy.integrate(int1, (tau, 1, sympy.oo))"
     ],
     "language": "python",
     "metadata": {},
     "outputs": [
      {
       "latex": [
        "$$\\begin{cases} \\frac{1}{\\sqrt{n}} \\left(2 \\pi\\right)^{- \\frac{n}{2} + \\frac{1}{2}} \\left(\\frac{2^{\\frac{n}{2}} e^{- \\frac{i \\pi}{2} n} \\Gamma{\\left(\\frac{n}{2} \\right)}}{\\operatorname{polar\\_lift}^{\\frac{n}{2}}{\\left (\\frac{Sx^{2}}{n} - Sxx \\right )}} + \\frac{2^{\\frac{n}{2} - 1} n e^{- \\frac{i \\pi}{2} n} \\Gamma{\\left(- \\frac{n}{2} \\right)} \\gamma\\left(\\frac{n}{2}, \\frac{e^{i \\pi}}{2} \\operatorname{polar\\_lift}{\\left (\\frac{Sx^{2}}{n} - Sxx \\right )}\\right)}{\\Gamma{\\left(- \\frac{n}{2} + 1 \\right)} \\operatorname{polar\\_lift}^{\\frac{n}{2}}{\\left (\\frac{Sx^{2}}{n} - Sxx \\right )}}\\right) & \\text{for}\\: \\left(\\left\\lvert{\\operatorname{periodic_{argument}}{\\left (e^{i \\pi} \\operatorname{polar\\_lift}{\\left (\\frac{Sx^{2}}{n} - Sxx \\right )},\\infty \\right )}}\\right\\rvert = \\frac{\\pi}{2} \\wedge - \\frac{n}{2} - \\frac{1}{2} > - \\frac{3}{2}\\right) \\vee \\left\\lvert{\\operatorname{periodic_{argument}}{\\left (e^{i \\pi} \\operatorname{polar\\_lift}{\\left (\\frac{Sx^{2}}{n} - Sxx \\right )},\\infty \\right )}}\\right\\rvert < \\frac{\\pi}{2} \\\\\\int_{1}^{\\infty} \\frac{1}{\\sqrt{n}} 2^{- \\frac{n}{2} + \\frac{1}{2}} \\pi^{- \\frac{n}{2} + \\frac{1}{2}} \\tau^{\\frac{n}{2} - 1.0} e^{\\frac{\\tau}{2} \\left(\\frac{Sx^{2}}{n} - Sxx\\right)}\\, d\\tau & \\text{otherwise} \\end{cases}$$"
       ],
       "metadata": {},
       "output_type": "pyout",
       "png": "[encoded data removed]",
       "prompt_number": 71,
       "text": [
        "\u23a7             \u239b                                                               \n",
        "\u23aa             \u239c                                             n        -\u2148\u22c5\u03c0\u22c5n   \n",
        "\u23aa             \u239c                                             \u2500 - 1    \u2500\u2500\u2500\u2500\u2500\u2500\u2500  \n",
        "\u23aa       n   1 \u239c n  -\u2148\u22c5\u03c0\u22c5n                                   2           2     \n",
        "\u23aa     - \u2500 + \u2500 \u239c \u2500  \u2500\u2500\u2500\u2500\u2500\u2500\u2500                   \u239b  2      \u239e   2     \u22c5n\u22c5\u212f       \u22c5\u0393\n",
        "\u23aa       2   2 \u239c 2     2     \u239bn\u239e           -n \u239cSx       \u239f                      \n",
        "\u23aa(2\u22c5\u03c0)       \u22c5\u239c2 \u22c5\u212f       \u22c5\u0393\u239c\u2500\u239f\u22c5polar_lift\u2500\u2500\u2500\u239c\u2500\u2500\u2500 - Sxx\u239f + \u2500\u2500\u2500\u2500\u2500\u2500\u2500\u2500\u2500\u2500\u2500\u2500\u2500\u2500\u2500\u2500\u2500\u2500\u2500\n",
        "\u23aa             \u239c             \u239d2\u23a0            2 \u239d n       \u23a0                      \n",
        "\u23aa             \u239c                                                               \n",
        "\u23aa             \u239d                                                               \n",
        "\u23aa\u2500\u2500\u2500\u2500\u2500\u2500\u2500\u2500\u2500\u2500\u2500\u2500\u2500\u2500\u2500\u2500\u2500\u2500\u2500\u2500\u2500\u2500\u2500\u2500\u2500\u2500\u2500\u2500\u2500\u2500\u2500\u2500\u2500\u2500\u2500\u2500\u2500\u2500\u2500\u2500\u2500\u2500\u2500\u2500\u2500\u2500\u2500\u2500\u2500\u2500\u2500\u2500\u2500\u2500\u2500\u2500\u2500\u2500\u2500\u2500\u2500\u2500\u2500\u2500\u2500\u2500\u2500\u2500\u2500\u2500\u2500\u2500\u2500\u2500\u2500\u2500\u2500\n",
        "\u23aa                                                                      ___    \n",
        "\u23aa                                                                    \u2572\u2571 n     \n",
        "\u23aa                                                                             \n",
        "\u23a8                                               \u221e                             \n",
        "\u23aa                                               \u2320                             \n",
        "\u23aa                                               \u23ae                             \n",
        "\u23aa                                               \u23ae                             \n",
        "\u23aa                                               \u23ae                             \n",
        "\u23aa                                               \u23ae    n   1    n   1  n        \n",
        "\u23aa                                               \u23ae  - \u2500 + \u2500  - \u2500 + \u2500  \u2500 - 1.0  \n",
        "\u23aa                                               \u23ae    2   2    2   2  2        \n",
        "\u23aa                                               \u23ae 2       \u22c5\u03c0       \u22c5\u03c4       \u22c5\u212f\n",
        "\u23aa                                               \u23ae \u2500\u2500\u2500\u2500\u2500\u2500\u2500\u2500\u2500\u2500\u2500\u2500\u2500\u2500\u2500\u2500\u2500\u2500\u2500\u2500\u2500\u2500\u2500\u2500\u2500\u2500\u2500\u2500\n",
        "\u23aa                                               \u23ae                     ___     \n",
        "\u23aa                                               \u23ae                   \u2572\u2571 n      \n",
        "\u23aa                                               \u2321                             \n",
        "\u23aa                                               1                             \n",
        "\u23a9                                                                             \n",
        "\n",
        "       \u239b                  \u239b  2      \u239e\u239e                         \u239e              \n",
        "       \u239c    \u2148\u22c5\u03c0           \u239cSx       \u239f\u239f                         \u239f              \n",
        "       \u239c   \u212f   \u22c5polar_lift\u239c\u2500\u2500\u2500 - Sxx\u239f\u239f              \u239b  2      \u239e\u239f              \n",
        "\u239b-n \u239e  \u239cn                 \u239d n       \u23a0\u239f           -n \u239cSx       \u239f\u239f              \n",
        "\u239c\u2500\u2500\u2500\u239f\u22c5\u03b3\u239c\u2500, \u2500\u2500\u2500\u2500\u2500\u2500\u2500\u2500\u2500\u2500\u2500\u2500\u2500\u2500\u2500\u2500\u2500\u2500\u2500\u2500\u2500\u2500\u2500\u2500\u2500\u2500\u239f\u22c5polar_lift\u2500\u2500\u2500\u239c\u2500\u2500\u2500 - Sxx\u239f\u239f              \n",
        "\u239d 2 \u23a0  \u239d2              2             \u23a0            2 \u239d n       \u23a0\u239f              \n",
        "\u2500\u2500\u2500\u2500\u2500\u2500\u2500\u2500\u2500\u2500\u2500\u2500\u2500\u2500\u2500\u2500\u2500\u2500\u2500\u2500\u2500\u2500\u2500\u2500\u2500\u2500\u2500\u2500\u2500\u2500\u2500\u2500\u2500\u2500\u2500\u2500\u2500\u2500\u2500\u2500\u2500\u2500\u2500\u2500\u2500\u2500\u2500\u2500\u2500\u2500\u2500\u2500\u2500\u2500\u2500\u2500\u2500\u2500\u2500\u2500\u2500\u2500\u2500\u239f              \n",
        "                  \u239b  n    \u239e                                    \u239f              \n",
        "                 \u0393\u239c- \u2500 + 1\u239f                                    \u239f      \u239b\u2502      \n",
        "                  \u239d  2    \u23a0                                    \u23a0      \u239c\u2502      \n",
        "\u2500\u2500\u2500\u2500\u2500\u2500\u2500\u2500\u2500\u2500\u2500\u2500\u2500\u2500\u2500\u2500\u2500\u2500\u2500\u2500\u2500\u2500\u2500\u2500\u2500\u2500\u2500\u2500\u2500\u2500\u2500\u2500\u2500\u2500\u2500\u2500\u2500\u2500\u2500\u2500\u2500\u2500\u2500\u2500\u2500\u2500\u2500\u2500\u2500\u2500\u2500\u2500\u2500\u2500\u2500\u2500\u2500\u2500\u2500\u2500\u2500\u2500\u2500\u2500  for \u239c\u2502period\n",
        "                                                                      \u239d\u2502      \n",
        "                                                                              \n",
        "                                                                              \n",
        "                                                                              \n",
        "                                                                              \n",
        "  \u239b  2      \u239e                                                                 \n",
        "  \u239cSx       \u239f                                                                 \n",
        "\u03c4\u22c5\u239c\u2500\u2500\u2500 - Sxx\u239f                                                                 \n",
        "  \u239d n       \u23a0                                                                 \n",
        "\u2500\u2500\u2500\u2500\u2500\u2500\u2500\u2500\u2500\u2500\u2500\u2500\u2500                                                                 \n",
        "      2                                                                       \n",
        "                                                                              \n",
        "\u2500\u2500\u2500\u2500\u2500\u2500\u2500\u2500\u2500\u2500\u2500\u2500\u2500 d\u03c4                                                              \n",
        "                                                                              \n",
        "                                                                              \n",
        "                                                                              \n",
        "                                                                              \n",
        "                                                                              \n",
        "\n",
        "                                                                              \n",
        "                                                                              \n",
        "                                                                              \n",
        "                                                                              \n",
        "                                                                              \n",
        "                                                                              \n",
        "                                                                              \n",
        "                                                                              \n",
        "           \u239b               \u239b  2      \u239e   \u239e\u2502                     \u239e   \u2502         \n",
        "           \u239c \u2148\u22c5\u03c0           \u239cSx       \u239f   \u239f\u2502   \u03c0     n   1       \u239f   \u2502         \n",
        "ic_argument\u239c\u212f   \u22c5polar_lift\u239c\u2500\u2500\u2500 - Sxx\u239f, \u221e\u239f\u2502 = \u2500 \u2227 - \u2500 - \u2500 > -3/2\u239f \u2228 \u2502periodic_\n",
        "           \u239d               \u239d n       \u23a0   \u23a0\u2502   2     2   2       \u23a0   \u2502         \n",
        "                                                                              \n",
        "                                                                              \n",
        "                                                                              \n",
        "                                                                              \n",
        "                                                                              \n",
        "                                                                              \n",
        "                                                                              \n",
        "                                                                              \n",
        "                                                                              \n",
        "                                                                              \n",
        "                                                                              \n",
        "                                                  otherwise                   \n",
        "                                                                              \n",
        "                                                                              \n",
        "                                                                              \n",
        "                                                                              \n",
        "                                                                              \n",
        "\n",
        "                                            \n",
        "                                            \n",
        "                                            \n",
        "                                            \n",
        "                                            \n",
        "                                            \n",
        "                                            \n",
        "                                            \n",
        "        \u239b               \u239b  2      \u239e   \u239e\u2502    \n",
        "        \u239c \u2148\u22c5\u03c0           \u239cSx       \u239f   \u239f\u2502   \u03c0\n",
        "argument\u239c\u212f   \u22c5polar_lift\u239c\u2500\u2500\u2500 - Sxx\u239f, \u221e\u239f\u2502 < \u2500\n",
        "        \u239d               \u239d n       \u23a0   \u23a0\u2502   2\n",
        "                                            \n",
        "                                            \n",
        "                                            \n",
        "                                            \n",
        "                                            \n",
        "                                            \n",
        "                                            \n",
        "                                            \n",
        "                                            \n",
        "                                            \n",
        "                                            \n",
        "                                            \n",
        "                                            \n",
        "                                            \n",
        "                                            \n",
        "                                            \n",
        "                                            "
       ]
      }
     ],
     "prompt_number": 71
    },
    {
     "cell_type": "markdown",
     "metadata": {},
     "source": [
      "Again, `sympy` defeats me: I'm not sure how to tell it $|S_{x}| = |\\sum x_i| \\leq n^{1/2} S_{xx}^{1/2}$ by Cauchy-Schwarz and so $S_x^2 / n \\leq S_{xx}$."
     ]
    },
    {
     "cell_type": "code",
     "collapsed": false,
     "input": [
      "alpha = sympy.symbols(\"alpha\", real = True, positive = True)\n",
      "int2 = (1/sympy.sqrt(n)) * (2*sympy.pi)**((1-n)/2) * tau**((n-2)/2) * sympy.exp(-tau * alpha / 2)\n",
      "int2"
     ],
     "language": "python",
     "metadata": {},
     "outputs": [
      {
       "latex": [
        "$$\\frac{\\tau^{\\frac{n}{2} - 1}}{\\sqrt{n} e^{\\frac{\\alpha \\tau}{2}}} \\left(2 \\pi\\right)^{- \\frac{n}{2} + \\frac{1}{2}}$$"
       ],
       "metadata": {},
       "output_type": "pyout",
       "png": "[encoded data removed]",
       "prompt_number": 72,
       "text": [
        " n            n   1  -\u03b1\u22c5\u03c4 \n",
        " \u2500 - 1      - \u2500 + \u2500  \u2500\u2500\u2500\u2500\u2500\n",
        " 2            2   2    2  \n",
        "\u03c4     \u22c5(2\u22c5\u03c0)       \u22c5\u212f     \n",
        "\u2500\u2500\u2500\u2500\u2500\u2500\u2500\u2500\u2500\u2500\u2500\u2500\u2500\u2500\u2500\u2500\u2500\u2500\u2500\u2500\u2500\u2500\u2500\u2500\u2500\u2500\n",
        "            ___           \n",
        "          \u2572\u2571 n            "
       ]
      }
     ],
     "prompt_number": 72
    },
    {
     "cell_type": "code",
     "collapsed": false,
     "input": [
      "sympy.simplify( sympy.integrate(int2, (tau,0,sympy.oo)) )"
     ],
     "language": "python",
     "metadata": {},
     "outputs": [
      {
       "latex": [
        "$$\\frac{2 \\sqrt{2}}{\\alpha^{\\frac{n}{2}} n^{\\frac{3}{2}}} \\pi^{- \\frac{n}{2} + \\frac{1}{2}} \\Gamma{\\left(\\frac{n}{2} + 1 \\right)}$$"
       ],
       "metadata": {},
       "output_type": "pyout",
       "png": "[encoded data removed]",
       "prompt_number": 73,
       "text": [
        "           n   1  -n          \n",
        "         - \u2500 + \u2500  \u2500\u2500\u2500         \n",
        "    ___    2   2   2   \u239bn    \u239e\n",
        "2\u22c5\u2572\u2571 2 \u22c5\u03c0       \u22c5\u03b1   \u22c5\u0393\u239c\u2500 + 1\u239f\n",
        "                       \u239d2    \u23a0\n",
        "\u2500\u2500\u2500\u2500\u2500\u2500\u2500\u2500\u2500\u2500\u2500\u2500\u2500\u2500\u2500\u2500\u2500\u2500\u2500\u2500\u2500\u2500\u2500\u2500\u2500\u2500\u2500\u2500\u2500\u2500\n",
        "              3/2             \n",
        "             n                "
       ]
      }
     ],
     "prompt_number": 73
    },
    {
     "cell_type": "code",
     "collapsed": false,
     "input": [
      "def normalise_my_prior(alpha, n):\n",
      "    return 2 * sympy.sqrt(2) * sympy.pi**((1-n)/2) * sympy.gamma((n+2)/2) / ( alpha**(n/2) * n * sympy.sqrt(n) )\n",
      "\n",
      "normalise_my_prior(alpha, n)"
     ],
     "language": "python",
     "metadata": {},
     "outputs": [
      {
       "latex": [
        "$$\\frac{2 \\sqrt{2}}{\\alpha^{\\frac{n}{2}} n^{\\frac{3}{2}}} \\pi^{- \\frac{n}{2} + \\frac{1}{2}} \\Gamma{\\left(\\frac{n}{2} + 1 \\right)}$$"
       ],
       "metadata": {},
       "output_type": "pyout",
       "png": "[encoded data removed]",
       "prompt_number": 74,
       "text": [
        "           n   1  -n          \n",
        "         - \u2500 + \u2500  \u2500\u2500\u2500         \n",
        "    ___    2   2   2   \u239bn    \u239e\n",
        "2\u22c5\u2572\u2571 2 \u22c5\u03c0       \u22c5\u03b1   \u22c5\u0393\u239c\u2500 + 1\u239f\n",
        "                       \u239d2    \u23a0\n",
        "\u2500\u2500\u2500\u2500\u2500\u2500\u2500\u2500\u2500\u2500\u2500\u2500\u2500\u2500\u2500\u2500\u2500\u2500\u2500\u2500\u2500\u2500\u2500\u2500\u2500\u2500\u2500\u2500\u2500\u2500\n",
        "              3/2             \n",
        "             n                "
       ]
      }
     ],
     "prompt_number": 74
    },
    {
     "cell_type": "code",
     "collapsed": false,
     "input": [
      "sympy.simplify( int1 / normalise_my_prior(alpha, n) )"
     ],
     "language": "python",
     "metadata": {},
     "outputs": [
      {
       "latex": [
        "$$\\frac{\\alpha^{\\frac{n}{2}} \\tau^{\\frac{n}{2} - 1.0}}{2^{\\frac{n}{2}} \\Gamma{\\left(\\frac{n}{2} \\right)}} e^{\\frac{\\tau}{2} \\left(\\frac{Sx^{2}}{n} - Sxx\\right)}$$"
       ],
       "metadata": {},
       "output_type": "pyout",
       "png": "[encoded data removed]",
       "prompt_number": 75,
       "text": [
        "                    \u239b  2      \u239e\n",
        "                    \u239cSx       \u239f\n",
        "                  \u03c4\u22c5\u239c\u2500\u2500\u2500 - Sxx\u239f\n",
        " -n   n  n          \u239d n       \u23a0\n",
        " \u2500\u2500\u2500  \u2500  \u2500 - 1.0  \u2500\u2500\u2500\u2500\u2500\u2500\u2500\u2500\u2500\u2500\u2500\u2500\u2500\n",
        "  2   2  2              2      \n",
        "2   \u22c5\u03b1 \u22c5\u03c4       \u22c5\u212f             \n",
        "\u2500\u2500\u2500\u2500\u2500\u2500\u2500\u2500\u2500\u2500\u2500\u2500\u2500\u2500\u2500\u2500\u2500\u2500\u2500\u2500\u2500\u2500\u2500\u2500\u2500\u2500\u2500\u2500\u2500\u2500\u2500\n",
        "               \u239bn\u239e             \n",
        "              \u0393\u239c\u2500\u239f             \n",
        "               \u239d2\u23a0             "
       ]
      }
     ],
     "prompt_number": 75
    },
    {
     "cell_type": "heading",
     "level": 1,
     "metadata": {},
     "source": [
      "Comparison with the Jeffreys prior"
     ]
    },
    {
     "cell_type": "markdown",
     "metadata": {},
     "source": [
      "The [Jeffreys Prior]() is one way to construct a \"noninformative\" prior which is \"invariant\": what this means is that you get given a prodecure to follow to construct a prior, and if you then transform your coordinates, and follow the procedure in the new coorindate system, then you get a prior which is the transformed version of your previous prior.  (There is some category theory here: this is a \"covariant\" prior in the catgeory sense, not the stats sense, of the word).\n",
      "\n",
      "From [Duke lecture notes](https://stat.duke.edu/courses/Fall11/sta114/jeffreys.pdf) we find that $p(s) = s^{-3/2}$ if $s=\\sigma^2$.  From [Berkeley lecture notes](http://www.cs.berkeley.edu/~jordan/courses/260-spring10/lectures/lecture7.pdf) we find $p(\\sigma) = \\sigma^{-2}$, though we're warned that this gives \"poor convergence properties\", though I don't fully understand what that means.\n",
      "\n",
      "Let's just check that there are consistent:\n",
      "\n",
      "$$ p_\\sigma(\\sigma) = p_s(s) \\Big|\\frac{ds}{d\\sigma}\\Big| = 2 s^{-3/2} \\sigma \\propto \\sigma^{-2}. $$\n",
      "\n",
      "My prior is in terms of $\\tau = \\sigma^{-2}$ and is $p(\\tau) = \\tau^{-1/2}$.  Thus\n",
      "\n",
      "$$ p_\\sigma(\\sigma) = p_\\tau(\\tau) \\Big|\\frac{d\\tau}{d\\sigma}\\Big| = 2\\tau^{-1/2} \\sigma^{-3} \\propto \\sigma^{-2}. $$\n",
      "\n",
      "So, this agrees with the Jeffreys prior.\n",
      "\n",
      "For comparison, if $p_\\sigma(\\sigma) = \\sigma^{-1}$ then $p_\\tau(\\tau) = \\sigma^{-1} \\Big|\\frac{d\\sigma}{d\\tau}\\Big|\n",
      "= \\sigma^{-1} \\frac12 \\sigma^3 \\propto \\sigma^2 = 1/\\tau$."
     ]
    },
    {
     "cell_type": "heading",
     "level": 1,
     "metadata": {},
     "source": [
      "Convergence"
     ]
    },
    {
     "cell_type": "markdown",
     "metadata": {},
     "source": [
      "The posterior distribution is then\n",
      "\n",
      "$$ p(\\mu,\\tau | x) = p(x | \\mu,\\tau) p(\\mu,\\tau) = \\Big(\\frac{\\tau}{2\\pi}\\Big)^{n/2} \\exp\\Big(-\\frac{\\tau}{2} \\sum (x_i-\\mu)^2 \\Big) \\tau^{-1/2}. $$\n",
      "\n",
      "With $\\alpha = S_{xx} - S_x^2 / n$, from the above calculation, the normalised posterior is\n",
      "\n",
      "$$ p(\\mu,\\tau | x) = \\frac{\\alpha^{n/2} n^{3/2}}{2\\sqrt 2} \\pi^{-1/2} \\Gamma\\Big(\\frac{n}{2}+1\\Big)^{-1} \\Big(\\frac{\\tau}{2}\\Big)^{n/2} \\exp\\Big(-\\frac{\\tau}{2} \\sum (x_i-\\mu)^2 \\Big) \\tau^{-1/2} $$\n",
      "\n",
      "What I do below is generate some samples from $N(0,1)$ to compare this distribution with the one from using the prior $p(\\sigma) = 1/\\sigma$.\n",
      "\n",
      "Firstly we find the normaisation for this new prior, repeating the work above."
     ]
    },
    {
     "cell_type": "code",
     "collapsed": false,
     "input": [
      "posterior = density(Sxx, Sx, n, mu, tau) * tau**(-1)\n",
      "sympy.simplify( sympy.integrate(posterior, (mu,-sympy.oo, sympy.oo)))"
     ],
     "language": "python",
     "metadata": {},
     "outputs": [
      {
       "latex": [
        "$$\\frac{1}{\\sqrt{n}} 2^{- \\frac{n}{2} + \\frac{1}{2}} \\pi^{- \\frac{n}{2} + \\frac{1}{2}} \\tau^{\\frac{n}{2} - \\frac{3}{2}} e^{\\frac{\\tau}{2} \\left(\\frac{Sx^{2}}{n} - Sxx\\right)}$$"
       ],
       "metadata": {},
       "output_type": "pyout",
       "png": "[encoded data removed]",
       "prompt_number": 80,
       "text": [
        "                            \u239b  2      \u239e\n",
        "                            \u239cSx       \u239f\n",
        "                          \u03c4\u22c5\u239c\u2500\u2500\u2500 - Sxx\u239f\n",
        "   n   1    n   1  n   3    \u239d n       \u23a0\n",
        " - \u2500 + \u2500  - \u2500 + \u2500  \u2500 - \u2500  \u2500\u2500\u2500\u2500\u2500\u2500\u2500\u2500\u2500\u2500\u2500\u2500\u2500\n",
        "   2   2    2   2  2   2        2      \n",
        "2       \u22c5\u03c0       \u22c5\u03c4     \u22c5\u212f             \n",
        "\u2500\u2500\u2500\u2500\u2500\u2500\u2500\u2500\u2500\u2500\u2500\u2500\u2500\u2500\u2500\u2500\u2500\u2500\u2500\u2500\u2500\u2500\u2500\u2500\u2500\u2500\u2500\u2500\u2500\u2500\u2500\u2500\u2500\u2500\u2500\u2500\u2500\u2500\u2500\n",
        "                   ___                 \n",
        "                 \u2572\u2571 n                  "
       ]
      }
     ],
     "prompt_number": 80
    },
    {
     "cell_type": "code",
     "collapsed": false,
     "input": [
      "int1 = n**(-1/2) * (2*sympy.pi)**((1-n)/2) * tau**((n-3)/2) * sympy.exp(-tau * alpha / 2)\n",
      "sympy.integrate(int1, (tau,0,sympy.oo))"
     ],
     "language": "python",
     "metadata": {},
     "outputs": [
      {
       "latex": [
        "$$\\begin{cases} \\frac{2}{\\alpha n^{0.5}} 2^{- \\frac{n}{2} + \\frac{1}{2}} \\pi^{- \\frac{n}{2} + \\frac{1}{2}} \\left(\\frac{\\alpha}{2}\\right)^{- \\frac{n}{2} + \\frac{3}{2}} \\Gamma{\\left(\\frac{n}{2} - \\frac{1}{2} \\right)} & \\text{for}\\: - \\frac{n}{2} + \\frac{3}{2} < 1 \\\\\\int_{0}^{\\infty} \\frac{\\tau^{\\frac{n}{2} - \\frac{3}{2}}}{n^{0.5} e^{\\frac{\\alpha \\tau}{2}}} \\left(2 \\pi\\right)^{- \\frac{n}{2} + \\frac{1}{2}}\\, d\\tau & \\text{otherwise} \\end{cases}$$"
       ],
       "metadata": {},
       "output_type": "pyout",
       "png": "[encoded data removed]",
       "prompt_number": 81,
       "text": [
        "\u23a7                               n   3                          \n",
        "\u23aa     n   1    n   1          - \u2500 + \u2500                          \n",
        "\u23aa   - \u2500 + \u2500  - \u2500 + \u2500            2   2                          \n",
        "\u23aa     2   2    2   2  -0.5 \u239b\u03b1\u239e         \u239bn   1\u239e                 \n",
        "\u23aa2\u22c52       \u22c5\u03c0       \u22c5n    \u22c5\u239c\u2500\u239f       \u22c5\u0393\u239c\u2500 - \u2500\u239f                 \n",
        "\u23aa                          \u239d2\u23a0         \u239d2   2\u23a0        n   3    \n",
        "\u23aa\u2500\u2500\u2500\u2500\u2500\u2500\u2500\u2500\u2500\u2500\u2500\u2500\u2500\u2500\u2500\u2500\u2500\u2500\u2500\u2500\u2500\u2500\u2500\u2500\u2500\u2500\u2500\u2500\u2500\u2500\u2500\u2500\u2500\u2500\u2500\u2500\u2500\u2500\u2500\u2500\u2500\u2500\u2500\u2500\u2500  for - \u2500 + \u2500 < 1\n",
        "\u23aa                      \u03b1                              2   2    \n",
        "\u23a8                                                              \n",
        "\u23aa    \u221e                                                         \n",
        "\u23aa    \u2320                                                         \n",
        "\u23aa    \u23ae        n   3        n   1  -\u03b1\u22c5\u03c4                         \n",
        "\u23aa    \u23ae        \u2500 - \u2500      - \u2500 + \u2500  \u2500\u2500\u2500\u2500\u2500                        \n",
        "\u23aa    \u23ae  -0.5  2   2        2   2    2                          \n",
        "\u23aa    \u23ae n    \u22c5\u03c4     \u22c5(2\u22c5\u03c0)       \u22c5\u212f      d\u03c4         otherwise   \n",
        "\u23aa    \u2321                                                         \n",
        "\u23a9    0                                                         "
       ]
      }
     ],
     "prompt_number": 81
    },
    {
     "cell_type": "code",
     "collapsed": false,
     "input": [
      "def normalise_other_prior(alpha, n):\n",
      "    return ( 2 / (alpha * n**(1/2)) ) * (2*sympy.pi)**((1-n)/2) * (alpha/2)**((3-n)/2) * sympy.gamma((n-1)/2)\n",
      "\n",
      "normalise_other_prior(alpha, n)"
     ],
     "language": "python",
     "metadata": {},
     "outputs": [
      {
       "latex": [
        "$$\\frac{2}{\\alpha n^{0.5}} \\left(\\frac{\\alpha}{2}\\right)^{- \\frac{n}{2} + \\frac{3}{2}} \\left(2 \\pi\\right)^{- \\frac{n}{2} + \\frac{1}{2}} \\Gamma{\\left(\\frac{n}{2} - \\frac{1}{2} \\right)}$$"
       ],
       "metadata": {},
       "output_type": "pyout",
       "png": "[encoded data removed]",
       "prompt_number": 82,
       "text": [
        "             n   3                      \n",
        "           - \u2500 + \u2500        n   1         \n",
        "             2   2      - \u2500 + \u2500         \n",
        "   -0.5 \u239b\u03b1\u239e               2   2  \u239bn   1\u239e\n",
        "2\u22c5n    \u22c5\u239c\u2500\u239f       \u22c5(2\u22c5\u03c0)       \u22c5\u0393\u239c\u2500 - \u2500\u239f\n",
        "        \u239d2\u23a0                      \u239d2   2\u23a0\n",
        "\u2500\u2500\u2500\u2500\u2500\u2500\u2500\u2500\u2500\u2500\u2500\u2500\u2500\u2500\u2500\u2500\u2500\u2500\u2500\u2500\u2500\u2500\u2500\u2500\u2500\u2500\u2500\u2500\u2500\u2500\u2500\u2500\u2500\u2500\u2500\u2500\u2500\u2500\u2500\u2500\n",
        "                   \u03b1                    "
       ]
      }
     ],
     "prompt_number": 82
    },
    {
     "cell_type": "code",
     "collapsed": false,
     "input": [
      "sympy.simplify( int1 / normalise_other_prior(alpha, n) )"
     ],
     "language": "python",
     "metadata": {},
     "outputs": [
      {
       "latex": [
        "$$\\frac{2^{- \\frac{n}{2} + \\frac{1}{2}} \\alpha^{\\frac{n}{2} - \\frac{1}{2}} \\tau^{\\frac{n}{2} - \\frac{3}{2}}}{e^{\\frac{\\alpha \\tau}{2}} \\Gamma{\\left(\\frac{n}{2} - \\frac{1}{2} \\right)}}$$"
       ],
       "metadata": {},
       "output_type": "pyout",
       "png": "[encoded data removed]",
       "prompt_number": 84,
       "text": [
        "   n   1  n   1  n   3  -\u03b1\u22c5\u03c4 \n",
        " - \u2500 + \u2500  \u2500 - \u2500  \u2500 - \u2500  \u2500\u2500\u2500\u2500\u2500\n",
        "   2   2  2   2  2   2    2  \n",
        "2       \u22c5\u03b1     \u22c5\u03c4     \u22c5\u212f     \n",
        "\u2500\u2500\u2500\u2500\u2500\u2500\u2500\u2500\u2500\u2500\u2500\u2500\u2500\u2500\u2500\u2500\u2500\u2500\u2500\u2500\u2500\u2500\u2500\u2500\u2500\u2500\u2500\u2500\u2500\n",
        "            \u239bn   1\u239e          \n",
        "           \u0393\u239c\u2500 - \u2500\u239f          \n",
        "            \u239d2   2\u23a0          "
       ]
      }
     ],
     "prompt_number": 84
    },
    {
     "cell_type": "code",
     "collapsed": false,
     "input": [
      "import numpy as np\n",
      "%matplotlib inline\n",
      "import matplotlib.pyplot as plt"
     ],
     "language": "python",
     "metadata": {},
     "outputs": [],
     "prompt_number": 85
    },
    {
     "cell_type": "code",
     "collapsed": false,
     "input": [
      "def make_example(n):\n",
      "    x = np.random.normal(size = n)\n",
      "    Sxx = np.sum(x*x)\n",
      "    Sx = np.sum(x)\n",
      "\n",
      "    def posterior(mu, tau):\n",
      "        return ( (tau / (2*sympy.pi))**(n/2) * sympy.exp( - tau * (Sxx - 2*mu*Sx + n*mu*mu) / 2 ) * tau**(-1/2)\n",
      "                / normalise_my_prior(Sxx-Sx*Sx/n, n) )\n",
      "\n",
      "    def posterior1(mu, tau):\n",
      "        return ( (tau / (2*sympy.pi))**(n/2) * sympy.exp( - tau * (Sxx - 2*mu*Sx + n*mu*mu) / 2 ) * tau**(-1)\n",
      "                / normalise_other_prior(Sxx-Sx*Sx/n, n) )\n",
      "\n",
      "    return posterior, posterior1"
     ],
     "language": "python",
     "metadata": {},
     "outputs": [],
     "prompt_number": 86
    },
    {
     "cell_type": "code",
     "collapsed": false,
     "input": [
      "posterior, posterior1 = make_example(10)\n",
      "mubins = np.linspace(-1, 1, 50)\n",
      "taubins = np.linspace(0.1, 2, 50)\n",
      "\n",
      "# Slow as our functions use sympy primitives not numpy primitives.\n",
      "Z = np.zeros([len(mubins),len(taubins)])\n",
      "Z1 = np.zeros([len(mubins),len(taubins)])\n",
      "for x, mux in enumerate(mubins):\n",
      "    for y, tauy in enumerate(taubins):\n",
      "        Z[x,y] = posterior(mux, tauy)\n",
      "        Z1[x,y] = posterior1(mux, tauy)"
     ],
     "language": "python",
     "metadata": {},
     "outputs": [],
     "prompt_number": 87
    },
    {
     "cell_type": "code",
     "collapsed": false,
     "input": [
      "plt.contour(mubins, taubins, Z.T)"
     ],
     "language": "python",
     "metadata": {},
     "outputs": [
      {
       "metadata": {},
       "output_type": "pyout",
       "prompt_number": 88,
       "text": [
        "<matplotlib.contour.QuadContourSet at 0x17e40c50>"
       ]
      },
      {
       "metadata": {},
       "output_type": "display_data",
       "png": "[encoded data removed]",
       "text": [
        "<matplotlib.figure.Figure at 0x151eb9b0>"
       ]
      }
     ],
     "prompt_number": 88
    },
    {
     "cell_type": "code",
     "collapsed": false,
     "input": [
      "plt.contour(mubins, taubins, Z1.T)"
     ],
     "language": "python",
     "metadata": {},
     "outputs": [
      {
       "metadata": {},
       "output_type": "pyout",
       "prompt_number": 89,
       "text": [
        "<matplotlib.contour.QuadContourSet at 0x17e9e198>"
       ]
      },
      {
       "metadata": {},
       "output_type": "display_data",
       "png": "[encoded data removed]",
       "text": [
        "<matplotlib.figure.Figure at 0x15047ba8>"
       ]
      }
     ],
     "prompt_number": 89
    },
    {
     "cell_type": "heading",
     "level": 1,
     "metadata": {},
     "source": [
      "Marginalise out $\\mu$"
     ]
    },
    {
     "cell_type": "markdown",
     "metadata": {},
     "source": [
      "Comparing two dimensional distributions is hard: what do \"confidence intervals\" mean, for example?  So, let's marginalise out $\\mu$ and get the posterior distribution on $\\tau$.  We copy some formula from above."
     ]
    },
    {
     "cell_type": "code",
     "collapsed": false,
     "input": [
      "posterior = (alpha * tau / 2)**(n/2) / (tau * sympy.gamma(n/2)) * sympy.exp(-alpha * tau / 2)\n",
      "posterior"
     ],
     "language": "python",
     "metadata": {},
     "outputs": [
      {
       "latex": [
        "$$\\frac{\\left(\\frac{\\alpha \\tau}{2}\\right)^{\\frac{n}{2}}}{\\tau e^{\\frac{\\alpha \\tau}{2}} \\Gamma{\\left(\\frac{n}{2} \\right)}}$$"
       ],
       "metadata": {},
       "output_type": "pyout",
       "png": "[encoded data removed]",
       "prompt_number": 94,
       "text": [
        "     n       \n",
        "     \u2500  -\u03b1\u22c5\u03c4 \n",
        "     2  \u2500\u2500\u2500\u2500\u2500\n",
        "\u239b\u03b1\u22c5\u03c4\u239e     2  \n",
        "\u239c\u2500\u2500\u2500\u239f \u22c5\u212f     \n",
        "\u239d 2 \u23a0        \n",
        "\u2500\u2500\u2500\u2500\u2500\u2500\u2500\u2500\u2500\u2500\u2500\u2500\u2500\n",
        "       \u239bn\u239e   \n",
        "    \u03c4\u22c5\u0393\u239c\u2500\u239f   \n",
        "       \u239d2\u23a0   "
       ]
      }
     ],
     "prompt_number": 94
    },
    {
     "cell_type": "code",
     "collapsed": false,
     "input": [
      "posterior1 = (alpha * tau / 2)**((n-1)/2) / (tau * sympy.gamma((n-1)/2)) * sympy.exp(-alpha * tau / 2)\n",
      "posterior1"
     ],
     "language": "python",
     "metadata": {},
     "outputs": [
      {
       "latex": [
        "$$\\frac{\\left(\\frac{\\alpha \\tau}{2}\\right)^{\\frac{n}{2} - \\frac{1}{2}}}{\\tau e^{\\frac{\\alpha \\tau}{2}} \\Gamma{\\left(\\frac{n}{2} - \\frac{1}{2} \\right)}}$$"
       ],
       "metadata": {},
       "output_type": "pyout",
       "png": "[encoded data removed]",
       "prompt_number": 95,
       "text": [
        "     n   1       \n",
        "     \u2500 - \u2500  -\u03b1\u22c5\u03c4 \n",
        "     2   2  \u2500\u2500\u2500\u2500\u2500\n",
        "\u239b\u03b1\u22c5\u03c4\u239e         2  \n",
        "\u239c\u2500\u2500\u2500\u239f     \u22c5\u212f     \n",
        "\u239d 2 \u23a0            \n",
        "\u2500\u2500\u2500\u2500\u2500\u2500\u2500\u2500\u2500\u2500\u2500\u2500\u2500\u2500\u2500\u2500\u2500\n",
        "       \u239bn   1\u239e   \n",
        "    \u03c4\u22c5\u0393\u239c\u2500 - \u2500\u239f   \n",
        "       \u239d2   2\u23a0   "
       ]
      }
     ],
     "prompt_number": 95
    },
    {
     "cell_type": "markdown",
     "metadata": {},
     "source": [
      "So actually the only difference is that the \"other\" prior multiplies by $\\tau^{-1/2}$."
     ]
    },
    {
     "cell_type": "code",
     "collapsed": false,
     "input": [
      "from scipy.special import gamma\n",
      "\n",
      "def make_example(n):\n",
      "    x = np.random.normal(size=n)\n",
      "    alpha = np.sum(x*x) - np.sum(x)**2/n\n",
      "\n",
      "    def p1(tau):\n",
      "        return (alpha * tau / 2)**(n/2) / (tau * gamma(n/2)) * np.exp(-alpha * tau / 2)\n",
      "    def p2(tau):\n",
      "        return (alpha * tau / 2)**((n-1)/2) / (tau * gamma((n-1)/2)) * np.exp(-alpha * tau / 2)\n",
      "    \n",
      "    return p1, p2\n",
      "\n",
      "p1, p2 = make_example(10)\n",
      "x = np.linspace(0.1, 2, 50)\n",
      "y1 = p1(x)\n",
      "y2 = p2(x)\n",
      "plt.plot(x, y1)\n",
      "plt.plot(x, y2)"
     ],
     "language": "python",
     "metadata": {},
     "outputs": [
      {
       "metadata": {},
       "output_type": "pyout",
       "prompt_number": 110,
       "text": [
        "[<matplotlib.lines.Line2D at 0x19b0f9e8>]"
       ]
      },
      {
       "metadata": {},
       "output_type": "display_data",
       "png": "[encoded data removed]",
       "text": [
        "<matplotlib.figure.Figure at 0x19b0f828>"
       ]
      }
     ],
     "prompt_number": 110
    },
    {
     "cell_type": "code",
     "collapsed": false,
     "input": [],
     "language": "python",
     "metadata": {},
     "outputs": []
    }
   ],
   "metadata": {}
  }
 ]
}