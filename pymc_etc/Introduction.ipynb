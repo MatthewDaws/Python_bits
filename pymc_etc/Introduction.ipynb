{
 "cells": [
  {
   "cell_type": "markdown",
   "metadata": {},
   "source": [
    "# Introduction\n",
    "\n",
    "We'll explore the use of [pymc3](https://github.com/pymc-devs/pymc3) and [emcee](http://dfm.io/emcee/current/) for Bayesian modelling.\n",
    "\n",
    "We start with a simple model which we can analytically solve.\n",
    "\n",
    "\\begin{align*}\n",
    "p &\\sim B(\\alpha, \\beta) \\\\\n",
    "x &\\sim \\operatorname{Bin}(n, p)\n",
    "\\end{align*}\n",
    "where $n$ is fixed.  Given data $(x_1,\\cdots,x_k)$ the Posterior is\n",
    "$$ p \\sim B(\\alpha+x, \\beta+kn-x) \\quad\\text{where}\\quad x = \\sum_i x_i. $$"
   ]
  },
  {
   "cell_type": "markdown",
   "metadata": {},
   "source": [
    "# General setup\n",
    "\n",
    "Suppose we have $p$ is distributed with density $f(p)$, and $x|p$ is distributed with density $f(x|p)$.  Then by Bayes's Theorem\n",
    "$$ p(p|(x_i)) \\propto f(p) \\prod_i f(x_i|p) $$\n",
    "\n",
    "In our case, we have\n",
    "$$ p(p|(x_i)) \\propto p^{\\alpha-1} (1-p)^{\\beta-1}\n",
    "\\prod_i \\begin{pmatrix} n \\\\ x_i \\end{pmatrix} p^{x_i} (1-p)^{n-x_i}\n",
    "= p^{\\alpha - 1 + \\sum_i x_i} (1-p)^{\\beta - 1 + nk - \\sum_i x_i}\n",
    "\\prod_i \\begin{pmatrix} n \\\\ x_i \\end{pmatrix}. $$\n"
   ]
  },
  {
   "cell_type": "code",
   "execution_count": 29,
   "metadata": {
    "collapsed": true
   },
   "outputs": [],
   "source": [
    "%matplotlib inline\n",
    "import matplotlib.pyplot as plt\n",
    "import numpy as np\n",
    "import scipy.special\n",
    "import scipy.stats"
   ]
  },
  {
   "cell_type": "code",
   "execution_count": 30,
   "metadata": {
    "collapsed": true
   },
   "outputs": [],
   "source": [
    "k = 20\n",
    "n = 10\n",
    "x = np.random.binomial(n, 0.3, size=k)\n",
    "alpha, beta = 1, 1"
   ]
  },
  {
   "cell_type": "markdown",
   "metadata": {},
   "source": [
    "# Exact posterior"
   ]
  },
  {
   "cell_type": "code",
   "execution_count": 38,
   "metadata": {},
   "outputs": [
    {
     "data": {
      "image/png": "[encoded data removed]",
      "text/plain": [
       "<matplotlib.figure.Figure at 0x9a31278>"
      ]
     },
     "metadata": {},
     "output_type": "display_data"
    }
   ],
   "source": [
    "beta_dist = scipy.stats.beta(alpha - 1 + np.sum(x), beta - 1 + np.sum(n - x))\n",
    "\n",
    "fig, ax = plt.subplots(figsize=(10,6))\n",
    "xx = np.linspace(0.001, 0.999, 200)\n",
    "y = [beta_dist.pdf(t) for t in xx]\n",
    "ax.plot(xx, y)\n",
    "None"
   ]
  },
  {
   "cell_type": "markdown",
   "metadata": {},
   "source": [
    "# Rejection sampling"
   ]
  },
  {
   "cell_type": "code",
   "execution_count": 70,
   "metadata": {
    "collapsed": true
   },
   "outputs": [],
   "source": [
    "def log_likelihood(p):\n",
    "    if p <= 0 or p >= 1:\n",
    "        return -np.inf\n",
    "    li = (alpha - 1 + np.sum(x)) * np.log(p) + (beta - 1 + np.sum(n-x)) * np.log(1-p)\n",
    "    li -= np.sum(scipy.special.loggamma(x+1)).real\n",
    "    li -= np.sum(scipy.special.loggamma(n-x+1)).real\n",
    "    return li"
   ]
  },
  {
   "cell_type": "code",
   "execution_count": 43,
   "metadata": {},
   "outputs": [
    {
     "data": {
      "text/plain": [
       "1.5993604712321174e-147"
      ]
     },
     "execution_count": 43,
     "metadata": {},
     "output_type": "execute_result"
    },
    {
     "data": {
      "image/png": "[encoded data removed]",
      "text/plain": [
       "<matplotlib.figure.Figure at 0xa2a4080>"
      ]
     },
     "metadata": {},
     "output_type": "display_data"
    }
   ],
   "source": [
    "fig, ax = plt.subplots(figsize=(10,6))\n",
    "\n",
    "xx = np.linspace(0.001, 0.999, 100)\n",
    "y = [log_likelihood(t) for t in xx]\n",
    "ax.plot(xx, y)\n",
    "\n",
    "max_log_y = np.exp(np.max(y)) * 1.1\n",
    "max_log_y"
   ]
  },
  {
   "cell_type": "code",
   "execution_count": 52,
   "metadata": {},
   "outputs": [
    {
     "data": {
      "text/plain": [
       "0.25748283755702606"
      ]
     },
     "execution_count": 52,
     "metadata": {},
     "output_type": "execute_result"
    }
   ],
   "source": [
    "def sample():\n",
    "    while True:\n",
    "        p = np.random.random()\n",
    "        accept = np.random.random() * max_log_y\n",
    "        if np.log(accept) <= log_likelihood(p):\n",
    "            return p\n",
    "\n",
    "sample()"
   ]
  },
  {
   "cell_type": "code",
   "execution_count": 60,
   "metadata": {
    "collapsed": true
   },
   "outputs": [],
   "source": [
    "samples = [sample() for _ in range(10000)]"
   ]
  },
  {
   "cell_type": "code",
   "execution_count": 61,
   "metadata": {},
   "outputs": [
    {
     "data": {
      "text/plain": [
       "[<matplotlib.lines.Line2D at 0x98b14a8>]"
      ]
     },
     "execution_count": 61,
     "metadata": {},
     "output_type": "execute_result"
    },
    {
     "data": {
      "image/png": "[encoded data removed]",
      "text/plain": [
       "<matplotlib.figure.Figure at 0x98d99e8>"
      ]
     },
     "metadata": {},
     "output_type": "display_data"
    }
   ],
   "source": [
    "fig, ax = plt.subplots(figsize=(10,6))\n",
    "xx = np.linspace(0.001, 0.999, 200)\n",
    "y = [beta_dist.pdf(t) for t in xx]\n",
    "ax.plot(xx, y)\n",
    "\n",
    "ax.scatter(samples, [0]*len(samples), marker=\"x\", color=\"black\", alpha=0.01)\n",
    "\n",
    "ker = scipy.stats.kde.gaussian_kde(samples)\n",
    "ax.plot(xx, ker(xx))"
   ]
  },
  {
   "cell_type": "markdown",
   "metadata": {},
   "source": [
    "# With `emcee`\n",
    "\n",
    "Pure python, so install with\n",
    "\n",
    "     pip install emcee"
   ]
  },
  {
   "cell_type": "code",
   "execution_count": 62,
   "metadata": {
    "collapsed": true
   },
   "outputs": [],
   "source": [
    "import emcee"
   ]
  },
  {
   "cell_type": "code",
   "execution_count": 105,
   "metadata": {
    "collapsed": true
   },
   "outputs": [],
   "source": [
    "nwalkers = 10\n",
    "p0 = np.random.rand(1 * nwalkers).reshape((nwalkers, 1))"
   ]
  },
  {
   "cell_type": "code",
   "execution_count": 115,
   "metadata": {
    "collapsed": true
   },
   "outputs": [],
   "source": [
    "sampler = emcee.EnsembleSampler(nwalkers, 1, log_likelihood, args=())"
   ]
  },
  {
   "cell_type": "code",
   "execution_count": 116,
   "metadata": {
    "collapsed": true
   },
   "outputs": [],
   "source": [
    "pos, prob, state = sampler.run_mcmc(p0, 100)\n",
    "sampler.reset()"
   ]
  },
  {
   "cell_type": "code",
   "execution_count": 117,
   "metadata": {
    "collapsed": true
   },
   "outputs": [],
   "source": [
    "_ = sampler.run_mcmc(pos, 2000)"
   ]
  },
  {
   "cell_type": "code",
   "execution_count": 118,
   "metadata": {},
   "outputs": [
    {
     "data": {
      "text/plain": [
       "[<matplotlib.lines.Line2D at 0xbba4358>]"
      ]
     },
     "execution_count": 118,
     "metadata": {},
     "output_type": "execute_result"
    },
    {
     "data": {
      "image/png": "[encoded data removed]",
      "text/plain": [
       "<matplotlib.figure.Figure at 0xbbaa278>"
      ]
     },
     "metadata": {},
     "output_type": "display_data"
    }
   ],
   "source": [
    "samples = sampler.flatchain[:,0]\n",
    "\n",
    "fig, ax = plt.subplots(figsize=(10,6))\n",
    "xx = np.linspace(0.001, 0.999, 200)\n",
    "y = [beta_dist.pdf(t) for t in xx]\n",
    "ax.plot(xx, y)\n",
    "\n",
    "ax.scatter(samples, [0]*len(samples), marker=\"x\", color=\"black\", alpha=0.01)\n",
    "\n",
    "ker = scipy.stats.kde.gaussian_kde(samples)\n",
    "ax.plot(xx, ker(xx))"
   ]
  },
  {
   "cell_type": "code",
   "execution_count": 119,
   "metadata": {},
   "outputs": [
    {
     "data": {
      "text/plain": [
       "(20000,)"
      ]
     },
     "execution_count": 119,
     "metadata": {},
     "output_type": "execute_result"
    }
   ],
   "source": [
    "samples.shape"
   ]
  },
  {
   "cell_type": "code",
   "execution_count": 120,
   "metadata": {},
   "outputs": [
    {
     "data": {
      "text/plain": [
       "0.81189999999999996"
      ]
     },
     "execution_count": 120,
     "metadata": {},
     "output_type": "execute_result"
    }
   ],
   "source": [
    "np.mean(sampler.acceptance_fraction)"
   ]
  },
  {
   "cell_type": "code",
   "execution_count": null,
   "metadata": {
    "collapsed": true
   },
   "outputs": [],
   "source": []
  }
 ],
 "metadata": {
  "kernelspec": {
   "display_name": "Python 3",
   "language": "python",
   "name": "python3"
  },
  "language_info": {
   "codemirror_mode": {
    "name": "ipython",
    "version": 3
   },
   "file_extension": ".py",
   "mimetype": "text/x-python",
   "name": "python",
   "nbconvert_exporter": "python",
   "pygments_lexer": "ipython3",
   "version": "3.6.3"
  }
 },
 "nbformat": 4,
 "nbformat_minor": 2
}
