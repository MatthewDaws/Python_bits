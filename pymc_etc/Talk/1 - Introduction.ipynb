{
 "cells": [
  {
   "cell_type": "markdown",
   "metadata": {},
   "source": [
    "# Bayesian computation in Python\n",
    "\n",
    "## The case of simple linear regression\n",
    "\n",
    "Herein follows a bit of a rant about Bayesian techniques (in preference over _unthinking_ application of hypothesis testing) and a quick demo of how to use `pymc3` and `emcee`.\n",
    "\n",
    "Weapon of choice: Python 3 and Jupyter notebooks"
   ]
  },
  {
   "cell_type": "markdown",
   "metadata": {},
   "source": [
    "# Linear regression\n",
    "\n",
    "We start with a statistical model that we have an independent variable (or [input variable](https://en.wikipedia.org/wiki/Dependent_and_independent_variables) or predictor variable) $x$ which we know or control, and a dependence variable $y$ (or output variable or response variable) which we measure.  In simple linear regression we assume a linear, or straight line, relationship\n",
    "\n",
    "$$ y = a + bx $$\n",
    "\n",
    "As measurement might contain noise, or because we might believe this model to be a simplification of reality, and so there to be essentially random extra components, given data $(x_i)$ and $(y_i)$ we assume the relationship is\n",
    "\n",
    "$$ y_i = a + bx_i + \\epsilon_i $$\n",
    "\n",
    "where $(\\epsilon_i)$ are error terms.\n",
    "\n",
    "We assume that the $(\\epsilon_i)$ are _independent_ and _identically distributed_ with a normal distribution $N(0,\\sigma^2)$.  That is, the mean of the error is $0$, and the standard deviation is $\\sigma$."
   ]
  },
  {
   "cell_type": "markdown",
   "metadata": {},
   "source": [
    "# Input data\n",
    "\n"
   ]
  },
  {
   "cell_type": "code",
   "execution_count": null,
   "metadata": {
    "collapsed": true
   },
   "outputs": [],
   "source": []
  }
 ],
 "metadata": {
  "kernelspec": {
   "display_name": "Python 3",
   "language": "python",
   "name": "python3"
  },
  "language_info": {
   "codemirror_mode": {
    "name": "ipython",
    "version": 3
   },
   "file_extension": ".py",
   "mimetype": "text/x-python",
   "name": "python",
   "nbconvert_exporter": "python",
   "pygments_lexer": "ipython3",
   "version": "3.6.3"
  }
 },
 "nbformat": 4,
 "nbformat_minor": 2
}
