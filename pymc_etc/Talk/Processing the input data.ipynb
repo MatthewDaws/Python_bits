{
 "cells": [
  {
   "cell_type": "markdown",
   "metadata": {},
   "source": [
    "From table S4 in the supplement to http://science.sciencemag.org/content/347/6219/262\n",
    "\n",
    "I have copied and pasted this, and perfomed some minor editing, to get the following.\n",
    "\n",
    "We now process further with Python, and save in CSV format."
   ]
  },
  {
   "cell_type": "code",
   "execution_count": 45,
   "metadata": {
    "collapsed": false
   },
   "outputs": [],
   "source": [
    "data = \"\"\"Discipline FEM AFR ASI FAB FABW FABM HWOC HWT SELA SELP GRE SYS EMP SvsE SUIT WEL CHAL\n",
    "ANTHROPOLOGY 59.6 4.2 6.3 3.72 3.90 3.39 3.05 6.95 9.25 9.14 6.13 5.43 0.70 1.90 5.70 4.70\n",
    "ARCHAEOLOGY 52.3 1.3 3.9 3.76 3.81 3.72 4.03 6.77 9.33 9.40 6.17 3.38 2.78 2.39 4.70 5.43\n",
    "ART_HISTORY 76.8 1.5 8.8 4.06 4.00 4.16 2.85 6.85 8.78 9.00 .31 6.10 3.97 2.14 1.74 5.76 4.69\n",
    "ASTRONOMY 29.2 1.5 6.1 4.13 4.36 3.99 4.49 6.40 8.5 8.33 6.31 2.29 4.03 2.01 4.80 4.94\n",
    "BIOCHEMISTRY 45.4 5.0 10.6 4.25 3.79 4.35 5.30 7.67 7.88 7.75 6.28 2.93 3.34 2.38 5.41 4.07\n",
    "CHEMISTRY 37.8 4.3 9.6 4.11 4.10 4.12 5.73 7.51 7.00 6.86 .04 6.35 2.53 3.82 2.77 4.45 4.88\n",
    "CLASSICS 41.8 0 2.9 4.34 4.58 4.22 3.83 6.75 9.29 9.20 5.83 4.21 1.63 1.90 5.29 4.50\n",
    "COMMUNIC 64.2 7.4 4.6 3.79 3.68 3.94 3.38 6.80 9.16 9.21 ‐.87 5.88 4.63 1.26 1.95 4.21 5.42\n",
    "COMP_LIT 60.9 1.5 5.9 4.28 4.16 4.45 3.03 6.83 8.78 9.00 ‐.04 5.86 4.43 1.43 1.97 5.56 3.84\n",
    "COMP_SCI 18.6 3.3 19.9 4.29 4.35 4.28 3.84 6.60 9.36 9.50 ‐1.10 5.95 2.80 3.15 2.86 4.04 4.49\n",
    "EARTH_SCI 36.2 1.7 5.4 3.76 3.35 3.92 5.04 6.98 7.00 8.00 ‐.03 6.17 2.34 3.82 2.44 5.15 4.44\n",
    "ECONOMICS 34.4 4.0 14.7 4.37 4.14 4.44 4.09 6.60 8.82 8.80 .44 6.12 3.29 2.83 2.48 4.31 4.04\n",
    "EDUCATION 69.3 13.0 4.8 3.32 3.19 3.44 3.12 6.67 7.80 7.95 ‐.80 5.92 4.91 1.01 1.95 6.07 3.84\n",
    "ENGINEERING 22.2 4.0 16.9 4.29 3.69 4.44 4.55 6.88 7.62 7.79 ‐.62 6.22 2.83 3.38 2.85 4.17 4.70\n",
    "ENGLISH_LIT 62.4 1.3 5.0 4.42 4.26 4.59 2.64 6.67 9.12 9.23 .51 5.93 4.77 1.16 1.74 5.36 4.65\n",
    "EVOLUTION_BIO 49.8 0 3.2 4.06 3.60 4.29 4.73 7.23 9.60 9.60 ‐.22 6.28 2.44 3.83 2.11 5.33 4.52\n",
    "HISTORY 45.0 5.2 4.0 3.90 3.76 4.05 2.87 6.66 8.76 9.27 .24 5.95 4.79 1.16 1.88 4.84 5.11\n",
    "LINGUISTICS 59.2 3.1 10.7 4.00 3.79 4.17 3.49 6.57 9.69 9.75 6.64 3.59 3.05 1.71 5.87 4.10\n",
    "MATH 28.6 2.9 10.3 4.67 4.40 4.74 3.72 6.45 8.28 8.43 .43 6.62 1.91 4.71 2.84 4.39 4.68\n",
    "MID_EAST_STUD 38.1 0 6.4 4.11 2.88 4.52 2.63 6.63 8.60 9.33 5.31 5.19 0.13 3.31 3.63 4.50\n",
    "MOLEC_BIO 54.4 4.6 10.8 3.88 3.66 4.03 5.49 7.41 7.92 8.00 6.21 2.66 3.55 2.28 5.12 4.75\n",
    "MUS_TH_COM 15.8 0 6.7 4.45 4.68 4.28 3.22 7.00 7.60 8.27 6.18 4.00 2.18 2.05 4.18 3.96\n",
    "NEUROSCI 49.4 4.3 12.9 3.83 3.76 3.98 4.76 6.71 8.38 8.80 6.14 3.54 2.61 2.31 4.98 5.33\n",
    "PHILOSOPHY 31.4 2.7 3.8 5.11 5.23 5.07 2.71 5.88 9.71 9.71 1.35 6.66 3.65 3.01 2.66 3.10 5.47\n",
    "PHYSICS 18.0 1.6 8.8 4.41 4.23 4.44 4.74 7.32 7.46 8.00 .82 6.45 2.48 3.97 2.80 3.84 5.10\n",
    "POLITICAL_SCI 43.1 5.7 7.4 3.94 3.71 4.07 3.60 6.68 8.82 8.95 .44 6.11 3.54 2.56 2.16 4.23 5.07\n",
    "PSYCHOLOGY 72.1 6.0 5.8 3.55 3.46 3.73 3.79 6.72 9.41 9.33 ‐.54 6.15 4.72 1.43 2.05 5.47 4.83\n",
    "SOCIOLOLOGY 61.3 7.9 6.1 3.78 3.72 3.86 3.33 6.47 8.62 9.00 ‐.54 6.27 3.90 2.37 1.78 5.38 4.94\n",
    "SPANISH_LIT 59.9 1.2 0 4.07 4.14 4.00 3.00 6.23 8.33 9.00 6.38 4.81 1.56 1.86 5.50 3.91\n",
    "STATISTICS 41.6 5.4 18.4 4.12 3.65 4.49 3.71 6.14 9.00 9.20 6.02 2.32 3.70 2.18 4.96 4.21\"\"\""
   ]
  },
  {
   "cell_type": "code",
   "execution_count": 46,
   "metadata": {
    "collapsed": false
   },
   "outputs": [],
   "source": [
    "data = data.split(\"\\n\")"
   ]
  },
  {
   "cell_type": "code",
   "execution_count": 47,
   "metadata": {
    "collapsed": false
   },
   "outputs": [
    {
     "data": {
      "text/plain": [
       "['Discipline',\n",
       " 'FEM',\n",
       " 'AFR',\n",
       " 'ASI',\n",
       " 'FAB',\n",
       " 'FABW',\n",
       " 'FABM',\n",
       " 'HWOC',\n",
       " 'HWT',\n",
       " 'SELA',\n",
       " 'SELP',\n",
       " 'GRE',\n",
       " 'SYS',\n",
       " 'EMP',\n",
       " 'SvsE',\n",
       " 'SUIT',\n",
       " 'WEL',\n",
       " 'CHAL']"
      ]
     },
     "execution_count": 47,
     "metadata": {},
     "output_type": "execute_result"
    }
   ],
   "source": [
    "header = data[0].split()\n",
    "header"
   ]
  },
  {
   "cell_type": "code",
   "execution_count": 50,
   "metadata": {
    "collapsed": false
   },
   "outputs": [],
   "source": [
    "def float_or_None(x):\n",
    "    if x == \"\":\n",
    "        return None\n",
    "    # Weird non-ascii character\n",
    "    if x[0] == \"‐\":\n",
    "        x = \"-0{}\".format(x[1:])\n",
    "    return float(x)\n",
    "\n",
    "rows = [header]\n",
    "for row in data[1:]:\n",
    "    row = row.split()\n",
    "    if len(row) < len(header):\n",
    "        #GRE missing\n",
    "        row = row[:11] + [\"\"] + row[11:]\n",
    "        assert len(row) == len(header)    \n",
    "    row = [row[0]] + [float_or_None(x) for x in row[1:]]\n",
    "    rows.append(row)"
   ]
  },
  {
   "cell_type": "code",
   "execution_count": 52,
   "metadata": {
    "collapsed": false
   },
   "outputs": [],
   "source": [
    "import csv\n",
    "\n",
    "with open(\"input.csv\", \"w\", newline=\"\") as f:\n",
    "    writer = csv.writer(f)\n",
    "    writer.writerows(rows)"
   ]
  },
  {
   "cell_type": "code",
   "execution_count": null,
   "metadata": {
    "collapsed": true
   },
   "outputs": [],
   "source": []
  }
 ],
 "metadata": {
  "kernelspec": {
   "display_name": "Python 3",
   "language": "python",
   "name": "python3"
  },
  "language_info": {
   "codemirror_mode": {
    "name": "ipython",
    "version": 3
   },
   "file_extension": ".py",
   "mimetype": "text/x-python",
   "name": "python",
   "nbconvert_exporter": "python",
   "pygments_lexer": "ipython3",
   "version": "3.6.0"
  }
 },
 "nbformat": 4,
 "nbformat_minor": 2
}
