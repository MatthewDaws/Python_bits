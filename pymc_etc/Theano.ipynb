{
 "cells": [
  {
   "cell_type": "markdown",
   "metadata": {},
   "source": [
    "# Theano\n",
    "\n",
    "Based somewhat on http://docs.pymc.io/theano.html"
   ]
  },
  {
   "cell_type": "code",
   "execution_count": 2,
   "metadata": {},
   "outputs": [],
   "source": [
    "import theano\n",
    "import theano.tensor as tt\n",
    "import numpy as np"
   ]
  },
  {
   "cell_type": "code",
   "execution_count": 3,
   "metadata": {
    "collapsed": true
   },
   "outputs": [],
   "source": [
    "a = tt.scalar('a')\n",
    "x = tt.vector('x')\n",
    "y = tt.ivector('y')\n",
    "\n",
    "inner = a * x**3 + y**2\n",
    "out = tt.exp(inner).sum()"
   ]
  },
  {
   "cell_type": "code",
   "execution_count": 4,
   "metadata": {
    "collapsed": true
   },
   "outputs": [],
   "source": [
    "func = theano.function([a, x, y], [out])"
   ]
  },
  {
   "cell_type": "code",
   "execution_count": 38,
   "metadata": {},
   "outputs": [
    {
     "data": {
      "text/plain": [
       "[array(129318357309.86845)]"
      ]
     },
     "execution_count": 38,
     "metadata": {},
     "output_type": "execute_result"
    }
   ],
   "source": [
    "a_val = 1.2\n",
    "x_vals = np.random.randn(100)\n",
    "y_vals = (np.random.randn(100) * 2).astype(np.int)\n",
    "\n",
    "func(a_val, x_vals, y_vals)"
   ]
  },
  {
   "cell_type": "code",
   "execution_count": 39,
   "metadata": {},
   "outputs": [
    {
     "data": {
      "text/plain": [
       "129318357309.86838"
      ]
     },
     "execution_count": 39,
     "metadata": {},
     "output_type": "execute_result"
    }
   ],
   "source": [
    "def np_func(a, x, y):\n",
    "    inner = a * x**3 + y**2\n",
    "    return np.sum(np.exp(inner))\n",
    "\n",
    "np_func(a_val, x_vals, y_vals)"
   ]
  },
  {
   "cell_type": "code",
   "execution_count": 40,
   "metadata": {},
   "outputs": [
    {
     "name": "stdout",
     "output_type": "stream",
     "text": [
      "21.6 µs ± 310 ns per loop (mean ± std. dev. of 7 runs, 10000 loops each)\n"
     ]
    }
   ],
   "source": [
    "%timeit(np_func(a_val, x_vals, y_vals))"
   ]
  },
  {
   "cell_type": "code",
   "execution_count": 41,
   "metadata": {},
   "outputs": [
    {
     "name": "stdout",
     "output_type": "stream",
     "text": [
      "33.6 µs ± 1.88 µs per loop (mean ± std. dev. of 7 runs, 10000 loops each)\n"
     ]
    }
   ],
   "source": [
    "%timeit(func(a_val, x_vals, y_vals))"
   ]
  },
  {
   "cell_type": "markdown",
   "metadata": {},
   "source": [
    "So from a speed point of view, this is a little disappointing.  They are about equally fast with 1000 terms, and the theano version starts to win at 10000 size arrays."
   ]
  },
  {
   "cell_type": "code",
   "execution_count": 42,
   "metadata": {
    "collapsed": true
   },
   "outputs": [],
   "source": [
    "a = tt.vector('a')\n",
    "b = tt.switch((a > 0).all(), tt.sqrt(a), -a)"
   ]
  },
  {
   "cell_type": "code",
   "execution_count": 43,
   "metadata": {
    "collapsed": true
   },
   "outputs": [],
   "source": [
    "func = theano.function([a], [b])"
   ]
  },
  {
   "cell_type": "code",
   "execution_count": 48,
   "metadata": {},
   "outputs": [],
   "source": [
    "def np_func(a):\n",
    "    a = np.asarray(a)\n",
    "    if np.all(a>0):\n",
    "        return np.sqrt(a)\n",
    "    return -a"
   ]
  },
  {
   "cell_type": "code",
   "execution_count": 49,
   "metadata": {},
   "outputs": [
    {
     "data": {
      "text/plain": [
       "([array([ 1.        ,  1.41421356,  1.73205081,  2.        ])],\n",
       " array([ 1.        ,  1.41421356,  1.73205081,  2.        ]))"
      ]
     },
     "execution_count": 49,
     "metadata": {},
     "output_type": "execute_result"
    }
   ],
   "source": [
    "func([1,2,3,4]), np_func([1,2,3,4])"
   ]
  },
  {
   "cell_type": "code",
   "execution_count": 50,
   "metadata": {},
   "outputs": [
    {
     "data": {
      "text/plain": [
       "([array([-1.,  2., -3., -4.])], array([-1,  2, -3, -4]))"
      ]
     },
     "execution_count": 50,
     "metadata": {},
     "output_type": "execute_result"
    }
   ],
   "source": [
    "func([1,-2,3,4]), np_func([1,-2,3,4])"
   ]
  },
  {
   "cell_type": "code",
   "execution_count": 54,
   "metadata": {},
   "outputs": [
    {
     "name": "stdout",
     "output_type": "stream",
     "text": [
      "7.08 ms ± 66.2 µs per loop (mean ± std. dev. of 7 runs, 100 loops each)\n",
      "4.23 ms ± 19.7 µs per loop (mean ± std. dev. of 7 runs, 100 loops each)\n"
     ]
    }
   ],
   "source": [
    "a = np.random.random(1000000) - 0.5\n",
    "%timeit(func(a))\n",
    "%timeit(np_func(a))"
   ]
  },
  {
   "cell_type": "code",
   "execution_count": 55,
   "metadata": {
    "collapsed": true
   },
   "outputs": [],
   "source": [
    "a = tt.vector('a')\n",
    "b = tt.set_subtensor(a[:10], 1)"
   ]
  },
  {
   "cell_type": "code",
   "execution_count": 56,
   "metadata": {
    "collapsed": true
   },
   "outputs": [],
   "source": [
    "func = theano.function([a], [b])"
   ]
  },
  {
   "cell_type": "code",
   "execution_count": 60,
   "metadata": {},
   "outputs": [
    {
     "data": {
      "text/plain": [
       "array([  1.,   1.,   1.,   1.,   1.,   1.,   1.,   1.,   1.,   1.,  10.,\n",
       "        11.,  12.,  13.,  14.,  15.,  16.,  17.,  18.,  19.])"
      ]
     },
     "execution_count": 60,
     "metadata": {},
     "output_type": "execute_result"
    }
   ],
   "source": [
    "def np_func1(a):\n",
    "    b = a.copy()\n",
    "    b[:10] = 1\n",
    "    return b\n",
    "\n",
    "def np_func2(a):\n",
    "    b = np.empty_like(a)\n",
    "    b[:10] = 1\n",
    "    b[10:] = a[10:]\n",
    "    return b\n",
    "\n",
    "a = np.asarray(list(range(20)), dtype=np.float)\n",
    "np_func2(a)"
   ]
  },
  {
   "cell_type": "code",
   "execution_count": 61,
   "metadata": {},
   "outputs": [
    {
     "name": "stdout",
     "output_type": "stream",
     "text": [
      "15.2 µs ± 111 ns per loop (mean ± std. dev. of 7 runs, 100000 loops each)\n",
      "1.77 µs ± 27.4 ns per loop (mean ± std. dev. of 7 runs, 1000000 loops each)\n",
      "2.54 µs ± 53.3 ns per loop (mean ± std. dev. of 7 runs, 100000 loops each)\n"
     ]
    }
   ],
   "source": [
    "a = np.asarray(list(range(20)), dtype=np.float)\n",
    "%timeit(func(a))\n",
    "%timeit(np_func1(a))\n",
    "%timeit(np_func2(a))"
   ]
  },
  {
   "cell_type": "code",
   "execution_count": null,
   "metadata": {
    "collapsed": true
   },
   "outputs": [],
   "source": []
  }
 ],
 "metadata": {
  "kernelspec": {
   "display_name": "Python 3",
   "language": "python",
   "name": "python3"
  },
  "language_info": {
   "codemirror_mode": {
    "name": "ipython",
    "version": 3
   },
   "file_extension": ".py",
   "mimetype": "text/x-python",
   "name": "python",
   "nbconvert_exporter": "python",
   "pygments_lexer": "ipython3",
   "version": "3.6.3"
  }
 },
 "nbformat": 4,
 "nbformat_minor": 2
}
