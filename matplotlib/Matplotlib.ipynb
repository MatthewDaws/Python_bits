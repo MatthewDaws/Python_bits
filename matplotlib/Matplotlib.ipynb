{
 "cells": [
  {
   "cell_type": "code",
   "execution_count": 1,
   "metadata": {
    "collapsed": false
   },
   "outputs": [],
   "source": [
    "import numpy as np\n",
    "%matplotlib inline\n",
    "# Or:\n",
    "#%matplotlib notebook\n",
    "import matplotlib.pyplot as plt"
   ]
  },
  {
   "cell_type": "code",
   "execution_count": 2,
   "metadata": {
    "collapsed": false
   },
   "outputs": [
    {
     "data": {
      "text/plain": [
       "<matplotlib.collections.PathCollection at 0x7542400>"
      ]
     },
     "execution_count": 2,
     "metadata": {},
     "output_type": "execute_result"
    },
    {
     "data": {
      "image/png": "[encoded data removed]",
      "text/plain": [
       "<matplotlib.figure.Figure at 0x7f1fef0>"
      ]
     },
     "metadata": {},
     "output_type": "display_data"
    }
   ],
   "source": [
    "data = np.random.random(size=(2,100))\n",
    "\n",
    "fig, ax = plt.subplots(1, 1, figsize=(12, 8))\n",
    "x = data[0,:]\n",
    "y = data[1,:]\n",
    "ax.scatter(x, y, marker=\"+\")"
   ]
  },
  {
   "cell_type": "code",
   "execution_count": 20,
   "metadata": {
    "collapsed": false
   },
   "outputs": [],
   "source": [
    "from collections import namedtuple\n",
    "point = namedtuple(\"point\", [\"x\",\"y\"])\n",
    "box = namedtuple(\"box\", [\"top_left\", \"bottom_right\"])\n",
    "\n",
    "def random_ordered_pair():\n",
    "    \"\"\"Returns (x,y) in [0,1] with x<=y\"\"\"\n",
    "    x = np.random.random()\n",
    "    y = np.random.random()\n",
    "    if x > y:\n",
    "        return y,x\n",
    "    return x,y\n",
    "\n",
    "def random_box():\n",
    "    \"\"\"Returns a random box in [0,1]^2\"\"\"\n",
    "    x1, x2 = random_ordered_pair()\n",
    "    y1, y2 = random_ordered_pair()\n",
    "    top_left = point(x1, y1)\n",
    "    bottom_right = point(x2, y2)\n",
    "    return box(top_left, bottom_right)\n",
    "\n",
    "b = random_box()\n",
    "assert(b.top_left.x <= b.bottom_right.x)\n",
    "assert(b.top_left.y <= b.bottom_right.y)"
   ]
  },
  {
   "cell_type": "markdown",
   "metadata": {},
   "source": [
    "$\\newcommand{\\Poi}{\\operatorname{Poisson}}$\n",
    "We've sampled from a \"binomial process\" here.\n",
    "* If it were a poisson process, then there should be a \"rate paramater\" $\\beta$ such that for any\n",
    "region $A$, the number of points in $A$ is distributed $\\Poi(\\beta |A|)$"
   ]
  },
  {
   "cell_type": "code",
   "execution_count": 30,
   "metadata": {
    "collapsed": false
   },
   "outputs": [
    {
     "name": "stdout",
     "output_type": "stream",
     "text": [
      "0.045809979220675874 7 4.580997922067588\n"
     ]
    }
   ],
   "source": [
    "\n",
    "\n",
    "b = random_box()\n",
    "\n",
    "result = namedtuple(\"result\", [\"actual\", \"expected\"])\n",
    "\n",
    "for _ in range(1000):\n",
    "    count = sum( b.top_left.x <= d[0] and d[0] <= b.bottom_right.x and\n",
    "        b.top_left.y <= d[1] and d[1] <= b.bottom_right.y for d in data.T )\n",
    "    # Possion\n",
    "    expected\n",
    "    "
   ]
  },
  {
   "cell_type": "code",
   "execution_count": 32,
   "metadata": {
    "collapsed": false
   },
   "outputs": [],
   "source": [
    "import typing"
   ]
  },
  {
   "cell_type": "code",
   "execution_count": 33,
   "metadata": {
    "collapsed": false
   },
   "outputs": [
    {
     "data": {
      "text/plain": [
       "~AnyStr"
      ]
     },
     "execution_count": 33,
     "metadata": {},
     "output_type": "execute_result"
    }
   ],
   "source": [
    "typing.AnyStr()"
   ]
  },
  {
   "cell_type": "code",
   "execution_count": null,
   "metadata": {
    "collapsed": true
   },
   "outputs": [],
   "source": []
  }
 ],
 "metadata": {
  "kernelspec": {
   "display_name": "Python 3",
   "language": "python",
   "name": "python3"
  },
  "language_info": {
   "codemirror_mode": {
    "name": "ipython",
    "version": 3
   },
   "file_extension": ".py",
   "mimetype": "text/x-python",
   "name": "python",
   "nbconvert_exporter": "python",
   "pygments_lexer": "ipython3",
   "version": "3.6.0"
  }
 },
 "nbformat": 4,
 "nbformat_minor": 2
}
