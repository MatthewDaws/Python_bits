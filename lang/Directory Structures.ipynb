{
 "cells": [
  {
   "cell_type": "code",
   "execution_count": 1,
   "metadata": {
    "collapsed": true
   },
   "outputs": [],
   "source": [
    "import os"
   ]
  },
  {
   "cell_type": "code",
   "execution_count": 2,
   "metadata": {
    "collapsed": false
   },
   "outputs": [
    {
     "data": {
      "text/plain": [
       "['tl_2016_17031_edges',\n",
       " 'tl_2016_06075_roads__san_francisco.zip',\n",
       " '2006se_TGR17031.ZIP',\n",
       " 'fe_2007_17031_edges.zip',\n",
       " 'tl_2013_17031_edges.zip',\n",
       " 'tl_2016_17031_addr.zip',\n",
       " 'tl_2016_17031_addrfeat.zip',\n",
       " 'tl_2016_17031_edges.zip',\n",
       " 'tl_2016_17031_roads.zip',\n",
       " 'tl_2016_17031_roads',\n",
       " 'tl_2016_48113_edges__dallas_county.zip',\n",
       " 'tl_2016_48113_roads__dallas_county.zip',\n",
       " 'tl_2008_17031_edges.zip',\n",
       " 'tl_2016_06075_edges__san_francisco.zip',\n",
       " 'tl_2016_06075_addr__san_francisco.zip',\n",
       " 'tl_2016_06075_addrfeat__san_francisco.zip',\n",
       " 'tl_2016_06075_roads__san_francisco',\n",
       " 'tl_2016_06075_edges__san_francisco']"
      ]
     },
     "execution_count": 2,
     "metadata": {},
     "output_type": "execute_result"
    }
   ],
   "source": [
    "basedir = os.path.join(\"/media\", \"disk\", \"TIGER Data\")\n",
    "os.listdir(basedir)"
   ]
  },
  {
   "cell_type": "code",
   "execution_count": 8,
   "metadata": {
    "collapsed": false
   },
   "outputs": [
    {
     "name": "stdout",
     "output_type": "stream",
     "text": [
      "/media/disk/TIGER Data\n",
      "['tl_2016_06075_roads__san_francisco.zip', '2006se_TGR17031.ZIP', 'fe_2007_17031_edges.zip', 'tl_2013_17031_edges.zip', 'tl_2016_17031_addr.zip', 'tl_2016_17031_addrfeat.zip', 'tl_2016_17031_edges.zip', 'tl_2016_17031_roads.zip', 'tl_2016_48113_edges__dallas_county.zip', 'tl_2016_48113_roads__dallas_county.zip', 'tl_2008_17031_edges.zip', 'tl_2016_06075_edges__san_francisco.zip', 'tl_2016_06075_addr__san_francisco.zip', 'tl_2016_06075_addrfeat__san_francisco.zip']\n",
      "/media/disk/TIGER Data/tl_2016_17031_edges\n",
      "['tl_2016_17031_edges.cpg', 'tl_2016_17031_edges.dbf', 'tl_2016_17031_edges.prj', 'tl_2016_17031_edges.shp', 'tl_2016_17031_edges.shp.ea.iso.xml', 'tl_2016_17031_edges.shp.iso.xml', 'tl_2016_17031_edges.shp.xml', 'tl_2016_17031_edges.shx']\n",
      "/media/disk/TIGER Data/tl_2016_17031_roads\n",
      "['tl_2016_17031_roads.cpg', 'tl_2016_17031_roads.dbf', 'tl_2016_17031_roads.prj', 'tl_2016_17031_roads.shp', 'tl_2016_17031_roads.shp.ea.iso.xml', 'tl_2016_17031_roads.shp.iso.xml', 'tl_2016_17031_roads.shp.xml', 'tl_2016_17031_roads.shx']\n",
      "/media/disk/TIGER Data/tl_2016_06075_roads__san_francisco\n",
      "['tl_2016_06075_roads.cpg', 'tl_2016_06075_roads.dbf', 'tl_2016_06075_roads.prj', 'tl_2016_06075_roads.shp', 'tl_2016_06075_roads.shp.ea.iso.xml', 'tl_2016_06075_roads.shp.iso.xml', 'tl_2016_06075_roads.shp.xml', 'tl_2016_06075_roads.shx']\n",
      "/media/disk/TIGER Data/tl_2016_06075_edges__san_francisco\n",
      "['tl_2016_06075_edges.cpg', 'tl_2016_06075_edges.dbf', 'tl_2016_06075_edges.prj', 'tl_2016_06075_edges.shp', 'tl_2016_06075_edges.shp.ea.iso.xml', 'tl_2016_06075_edges.shp.iso.xml', 'tl_2016_06075_edges.shp.xml', 'tl_2016_06075_edges.shx']\n"
     ]
    }
   ],
   "source": [
    "for dirname, subdirs, files in os.walk(basedir):\n",
    "    print(dirname)\n",
    "    print(files)"
   ]
  },
  {
   "cell_type": "markdown",
   "metadata": {},
   "source": [
    "# Manipulating paths"
   ]
  },
  {
   "cell_type": "code",
   "execution_count": 9,
   "metadata": {
    "collapsed": true
   },
   "outputs": [],
   "source": [
    "example = os.path.join(\"/media\", \"disk\", \"TIGER Data\", \"tl_2016_17031_addrfeat.zip\")"
   ]
  },
  {
   "cell_type": "code",
   "execution_count": 10,
   "metadata": {
    "collapsed": false
   },
   "outputs": [
    {
     "data": {
      "text/plain": [
       "('/media/disk/TIGER Data', 'tl_2016_17031_addrfeat.zip')"
      ]
     },
     "execution_count": 10,
     "metadata": {},
     "output_type": "execute_result"
    }
   ],
   "source": [
    "os.path.split(example)"
   ]
  },
  {
   "cell_type": "code",
   "execution_count": 11,
   "metadata": {
    "collapsed": false
   },
   "outputs": [
    {
     "data": {
      "text/plain": [
       "'/media/disk/TIGER Data'"
      ]
     },
     "execution_count": 11,
     "metadata": {},
     "output_type": "execute_result"
    }
   ],
   "source": [
    "os.path.dirname(example)"
   ]
  },
  {
   "cell_type": "code",
   "execution_count": 12,
   "metadata": {
    "collapsed": false
   },
   "outputs": [
    {
     "data": {
      "text/plain": [
       "'tl_2016_17031_addrfeat.zip'"
      ]
     },
     "execution_count": 12,
     "metadata": {},
     "output_type": "execute_result"
    }
   ],
   "source": [
    "os.path.basename(example)"
   ]
  },
  {
   "cell_type": "code",
   "execution_count": 13,
   "metadata": {
    "collapsed": false
   },
   "outputs": [
    {
     "data": {
      "text/plain": [
       "('/media/disk', 'TIGER Data')"
      ]
     },
     "execution_count": 13,
     "metadata": {},
     "output_type": "execute_result"
    }
   ],
   "source": [
    "os.path.split(os.path.dirname(example))"
   ]
  },
  {
   "cell_type": "code",
   "execution_count": null,
   "metadata": {
    "collapsed": true
   },
   "outputs": [],
   "source": []
  }
 ],
 "metadata": {
  "kernelspec": {
   "display_name": "Python 3",
   "language": "python",
   "name": "python3"
  },
  "language_info": {
   "codemirror_mode": {
    "name": "ipython",
    "version": 3
   },
   "file_extension": ".py",
   "mimetype": "text/x-python",
   "name": "python",
   "nbconvert_exporter": "python",
   "pygments_lexer": "ipython3",
   "version": "3.6.0"
  }
 },
 "nbformat": 4,
 "nbformat_minor": 2
}
