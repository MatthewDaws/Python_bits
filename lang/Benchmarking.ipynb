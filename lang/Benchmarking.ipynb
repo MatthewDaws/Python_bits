{
 "cells": [
  {
   "cell_type": "code",
   "execution_count": 1,
   "metadata": {
    "collapsed": true
   },
   "outputs": [],
   "source": [
    "import numpy as np"
   ]
  },
  {
   "cell_type": "markdown",
   "metadata": {},
   "source": [
    "# ZIP vs list comps etc.\n",
    "\n",
    "- ZIP is best, and itertools wins"
   ]
  },
  {
   "cell_type": "code",
   "execution_count": 2,
   "metadata": {
    "collapsed": false
   },
   "outputs": [],
   "source": [
    "x = np.random.random(size=1000)\n",
    "y = np.random.random(size=1000)\n",
    "z = np.random.random(size=1000)"
   ]
  },
  {
   "cell_type": "code",
   "execution_count": 3,
   "metadata": {
    "collapsed": true
   },
   "outputs": [],
   "source": [
    "iters = 1000\n",
    "\n",
    "def f():\n",
    "    out = []\n",
    "    for _ in range(iters):\n",
    "        out.extend( (xx,yy,zz) for xx,yy,zz in zip(x,y,z) )\n",
    "    return out\n",
    "\n",
    "def g():\n",
    "    out = []\n",
    "    for _ in range(iters):\n",
    "        out.extend( zip(x,y,z) )\n",
    "    return out\n",
    "\n",
    "def h():\n",
    "    out = []\n",
    "    for _ in range(iters):\n",
    "        N = len(x)\n",
    "        for i in range(N):\n",
    "            out.append((x[i],y[i],z[i]))\n",
    "    return out\n",
    "                       \n",
    "def i():\n",
    "    out = []\n",
    "    for _ in range(iters):\n",
    "        N = len(x)\n",
    "        out.extend( (x[i],y[i],z[i]) for i in range(N) )\n",
    "    return out"
   ]
  },
  {
   "cell_type": "code",
   "execution_count": 4,
   "metadata": {
    "collapsed": false
   },
   "outputs": [],
   "source": [
    "assert f() == g()\n",
    "assert f() == h()\n",
    "assert f() == i()"
   ]
  },
  {
   "cell_type": "code",
   "execution_count": 5,
   "metadata": {
    "collapsed": false
   },
   "outputs": [
    {
     "name": "stdout",
     "output_type": "stream",
     "text": [
      "1 loop, best of 3: 370 ms per loop\n"
     ]
    }
   ],
   "source": [
    "%timeit( f() )"
   ]
  },
  {
   "cell_type": "code",
   "execution_count": 6,
   "metadata": {
    "collapsed": false
   },
   "outputs": [
    {
     "name": "stdout",
     "output_type": "stream",
     "text": [
      "1 loop, best of 3: 280 ms per loop\n"
     ]
    }
   ],
   "source": [
    "%timeit( g() )"
   ]
  },
  {
   "cell_type": "code",
   "execution_count": 7,
   "metadata": {
    "collapsed": false
   },
   "outputs": [
    {
     "name": "stdout",
     "output_type": "stream",
     "text": [
      "1 loop, best of 3: 571 ms per loop\n"
     ]
    }
   ],
   "source": [
    "%timeit( h() )"
   ]
  },
  {
   "cell_type": "code",
   "execution_count": 8,
   "metadata": {
    "collapsed": false
   },
   "outputs": [
    {
     "name": "stdout",
     "output_type": "stream",
     "text": [
      "1 loop, best of 3: 535 ms per loop\n"
     ]
    }
   ],
   "source": [
    "%timeit( i() )"
   ]
  },
  {
   "cell_type": "code",
   "execution_count": 9,
   "metadata": {
    "collapsed": false
   },
   "outputs": [],
   "source": [
    "def ff():\n",
    "    out = []\n",
    "    for _ in range(iters):\n",
    "        out.extend( (1,xx,yy,zz) for xx,yy,zz in zip(x,y,z) )\n",
    "    return out\n",
    "\n",
    "def gg():\n",
    "    out = []\n",
    "    tmp = np.array([1]*len(x))\n",
    "    for _ in range(iters):\n",
    "        out.extend( zip(tmp,x,y,z) )\n",
    "    return out\n",
    "\n",
    "import itertools\n",
    "\n",
    "def hh():\n",
    "    out = []\n",
    "    for _ in range(iters):\n",
    "        out.extend( zip(itertools.repeat(1),x,y,z) )\n",
    "    return out"
   ]
  },
  {
   "cell_type": "code",
   "execution_count": 10,
   "metadata": {
    "collapsed": true
   },
   "outputs": [],
   "source": [
    "assert ff() == gg()\n",
    "assert ff() == hh()"
   ]
  },
  {
   "cell_type": "code",
   "execution_count": 11,
   "metadata": {
    "collapsed": false
   },
   "outputs": [
    {
     "name": "stdout",
     "output_type": "stream",
     "text": [
      "1 loop, best of 3: 366 ms per loop\n"
     ]
    }
   ],
   "source": [
    "%timeit( ff() )"
   ]
  },
  {
   "cell_type": "code",
   "execution_count": 12,
   "metadata": {
    "collapsed": false
   },
   "outputs": [
    {
     "name": "stdout",
     "output_type": "stream",
     "text": [
      "1 loop, best of 3: 343 ms per loop\n"
     ]
    }
   ],
   "source": [
    "%timeit( gg() )"
   ]
  },
  {
   "cell_type": "code",
   "execution_count": 13,
   "metadata": {
    "collapsed": false
   },
   "outputs": [
    {
     "name": "stdout",
     "output_type": "stream",
     "text": [
      "1 loop, best of 3: 278 ms per loop\n"
     ]
    }
   ],
   "source": [
    "%timeit( hh() )"
   ]
  },
  {
   "cell_type": "code",
   "execution_count": 19,
   "metadata": {
    "collapsed": false
   },
   "outputs": [],
   "source": [
    "a = [(1,) + x for x in f()]\n",
    "assert a == hh()"
   ]
  },
  {
   "cell_type": "code",
   "execution_count": 20,
   "metadata": {
    "collapsed": false
   },
   "outputs": [
    {
     "name": "stdout",
     "output_type": "stream",
     "text": [
      "100 loops, best of 3: 2.18 ms per loop\n"
     ]
    }
   ],
   "source": [
    "%timeit( [(1,) + x for x in f()] )"
   ]
  },
  {
   "cell_type": "markdown",
   "metadata": {},
   "source": [
    "# Stuff"
   ]
  },
  {
   "cell_type": "code",
   "execution_count": 24,
   "metadata": {
    "collapsed": false
   },
   "outputs": [
    {
     "data": {
      "text/plain": [
       "(4, 3)"
      ]
     },
     "execution_count": 24,
     "metadata": {},
     "output_type": "execute_result"
    }
   ],
   "source": [
    "x = [[1,2,3], [6,7,8], [9,10,11], [12,13,14]]\n",
    "np.asarray(x).shape"
   ]
  },
  {
   "cell_type": "code",
   "execution_count": null,
   "metadata": {
    "collapsed": true
   },
   "outputs": [],
   "source": []
  }
 ],
 "metadata": {
  "kernelspec": {
   "display_name": "Python 3",
   "language": "python",
   "name": "python3"
  },
  "language_info": {
   "codemirror_mode": {
    "name": "ipython",
    "version": 3
   },
   "file_extension": ".py",
   "mimetype": "text/x-python",
   "name": "python",
   "nbconvert_exporter": "python",
   "pygments_lexer": "ipython3",
   "version": "3.6.0"
  }
 },
 "nbformat": 4,
 "nbformat_minor": 2
}
